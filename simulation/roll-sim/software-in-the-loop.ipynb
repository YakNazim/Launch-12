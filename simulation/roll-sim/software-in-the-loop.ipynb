{
 "metadata": {
  "name": "",
  "signature": "sha256:e2ab4cf6317d457447860b8772fe371229c4c09c97cadcbe048a0b41aec83cfd"
 },
 "nbformat": 3,
 "nbformat_minor": 0,
 "worksheets": [
  {
   "cells": [
    {
     "cell_type": "markdown",
     "metadata": {},
     "source": [
      "# Roll Simulation Through Flight Comptuer\n",
      "\n",
      "Run the fc locally and run a simulation through it."
     ]
    },
    {
     "cell_type": "code",
     "collapsed": false,
     "input": [
      "import os\n",
      "import subprocess\n",
      "import time\n",
      "\n",
      "# start the Flight comptuer\n",
      "p = subprocess.Popen(['./start-stop-fc.sh', 'start'], stdout=subprocess.PIPE)\n",
      "out, err = p.communicate()\n",
      "print out\n",
      "\n",
      "time.sleep(1.0) # settling time"
     ],
     "language": "python",
     "metadata": {},
     "outputs": [
      {
       "output_type": "stream",
       "stream": "stdout",
       "text": [
        "Starting PSAS FC\n",
        "\n"
       ]
      }
     ],
     "prompt_number": 1
    },
    {
     "cell_type": "code",
     "collapsed": false,
     "input": [
      "import socket\n",
      "import errno\n",
      "from contextlib import closing\n",
      "import simulation.lv2 as lv2\n",
      "import Queue\n",
      "\n",
      "q = Queue.Queue()\n",
      "servolisten = lv2.Servo(q)\n",
      "servolisten.start()\n",
      "\n",
      "# Arming commands:\n",
      "def arm():\n",
      "    with closing(socket.socket(socket.AF_INET, socket.SOCK_DGRAM)) as sock:\n",
      "        sock.bind(('', 35666))\n",
      "        sock.connect(('127.0.0.1', 36000))\n",
      "        sock.settimeout(0.01)\n",
      "        try:\n",
      "            sock.send(\"DI_SLOCK\")\n",
      "            time.sleep(0.5)\n",
      "            sock.send(\"#YOLO\")\n",
      "            time.sleep(0.2)\n",
      "        except socket.error as e:\n",
      "            if e.errno == errno.ECONNREFUSED:\n",
      "                print('connection refused, continuing')\n",
      "            else:\n",
      "                raise\n",
      "\n",
      "arm() # FC now armed (so it will send fin commands)"
     ],
     "language": "python",
     "metadata": {},
     "outputs": [],
     "prompt_number": 2
    },
    {
     "cell_type": "code",
     "collapsed": false,
     "input": [
      "import numpy as np\n",
      "# Read in from open rocket\n",
      "columns = np.loadtxt('../Launch-12.csv', delimiter=',', unpack=True)\n",
      "\n",
      "times    = columns[0]\n",
      "altitude = columns[1]*1000  # km to meters\n",
      "accel    = columns[3]\n",
      "velocity = columns[4]\n",
      "\n",
      "# only care about launch to apogee\n",
      "begin = 0\n",
      "apogee = 32000\n",
      "times = times[begin:apogee]\n",
      "altitude = altitude[begin:apogee]\n",
      "accel = accel[begin:apogee]\n",
      "velocity = velocity[begin:apogee]"
     ],
     "language": "python",
     "metadata": {},
     "outputs": [],
     "prompt_number": 3
    },
    {
     "cell_type": "code",
     "collapsed": false,
     "input": [
      "from psas_packet import io, messages\n",
      "ADIS = messages.MESSAGES['ADIS']\n",
      "\n",
      "begin = 0\n",
      "with closing(socket.socket(socket.AF_INET, socket.SOCK_DGRAM)) as sock:\n",
      "        sock.bind(('', 35020))\n",
      "        sock.connect(('127.0.0.1', 36000))\n",
      "        sock.settimeout(0.001)\n",
      "        net = io.Network(sock)\n",
      "\n",
      "        finangle = 0\n",
      "        r = 0\n",
      "        for i, t in enumerate(times):\n",
      "            \n",
      "            # listen for servo response from FC\n",
      "            if not q.empty():\n",
      "                finangle = q.get()\n",
      "            \n",
      "            aa = lv2.angular_accel(finangle, altitude[i], velocity[i], t)\n",
      "            r += aa/819.2\n",
      "            \n",
      "            if r > 399:\n",
      "                r = 399\n",
      "            if r < -399:\n",
      "                r = -399\n",
      "                \n",
      "            data = {\n",
      "                'VCC': 5.0,\n",
      "                'Gyro_X': r,\n",
      "                'Gyro_Y': 0,\n",
      "                'Gyro_Z': 0,\n",
      "                'Acc_X': accel[i],\n",
      "                'Acc_Y': 0,\n",
      "                'Acc_Z': 0,\n",
      "                'Magn_X': 53e-6,\n",
      "                'Magn_Y': 0,\n",
      "                'Magn_Z': 0,\n",
      "                'Temp': 20,\n",
      "                'Aux_ADC': 0,\n",
      "            }\n",
      "\n",
      "            now = time.time()\n",
      "            real_delay = now - begin\n",
      "            if real_delay < t:\n",
      "                time.sleep((t - real_delay))\n",
      "            net.send_data(ADIS, i, data)"
     ],
     "language": "python",
     "metadata": {},
     "outputs": [],
     "prompt_number": 4
    },
    {
     "cell_type": "code",
     "collapsed": false,
     "input": [
      "# stop the Flight comptuer\n",
      "p = subprocess.Popen(['./start-stop-fc.sh', 'stop'], stdout=subprocess.PIPE)\n",
      "out, err = p.communicate()\n",
      "print out\n",
      "\n",
      "servolisten.stop()\n",
      "\n",
      "# Move logfile for archiving\n",
      "os.rename('./logfile-000', './softloop-001')"
     ],
     "language": "python",
     "metadata": {},
     "outputs": [
      {
       "output_type": "stream",
       "stream": "stdout",
       "text": [
        "stopping PSAS FC\n",
        "\n"
       ]
      }
     ],
     "prompt_number": 5
    },
    {
     "cell_type": "code",
     "collapsed": false,
     "input": [
      "# Analysis\n",
      "with io.BinFile('./softloop-001') as fclog:\n",
      "    adis_time = []\n",
      "    accel = []\n",
      "    roll_rate = []\n",
      "    fin_time = []\n",
      "    fin_angle = []\n",
      "    state_time = []\n",
      "    state_accel = []\n",
      "    state_vel = []\n",
      "    state_alt = []\n",
      "    state_roll_rate = []\n",
      "    state_roll = []\n",
      "    for fourcc, data in fclog.read():\n",
      "        if fourcc == 'ADIS':\n",
      "            adis_time.append(data['timestamp'])\n",
      "            roll_rate.append(data['Gyro_X'])\n",
      "            accel.append(data['Acc_X'])\n",
      "        elif fourcc == 'ROLL':\n",
      "            fin_time.append(data['timestamp'])\n",
      "            fin_angle.append(data['Angle'])\n",
      "        elif fourcc == 'VSTE':\n",
      "            state_time.append(data['Time'])\n",
      "            state_accel.append(data['Acc_up'])\n",
      "            state_vel.append(data['Vel_up'])\n",
      "            state_alt.append(data['Altitude'])\n",
      "            state_roll_rate.append(data['Roll_Rate'])\n",
      "            state_roll.append(data['Roll_Angle'])\n",
      "        elif fourcc != 'SEQN':\n",
      "            print fourcc, data\n",
      "\n",
      "\n",
      "# Time in seconds\n",
      "fin_time = np.array(fin_time)\n",
      "adis_time = np.array(adis_time)\n",
      "adis_time -= adis_time[0]\n",
      "adis_time = adis_time / 1e9\n",
      "fin_time -= fin_time[0]\n",
      "fin_time = fin_time / 1e9"
     ],
     "language": "python",
     "metadata": {},
     "outputs": [
      {
       "output_type": "stream",
       "stream": "stdout",
       "text": [
        "\n",
        "Skipped unknown header: MESG\n",
        "\n",
        "MESG {'timestamp': 1555606408}\n",
        "boundary?"
       ]
      },
      {
       "output_type": "stream",
       "stream": "stdout",
       "text": [
        "\n"
       ]
      }
     ],
     "prompt_number": 6
    },
    {
     "cell_type": "code",
     "collapsed": false,
     "input": [
      "%matplotlib inline\n",
      "import utils\n",
      "from matplotlib import rcParams\n",
      "rcParams.update({'font.size': 14})\n",
      "\n",
      "fig = utils.Plot(r\"Roll Rate\", \"Time [$s$]\", r\"Roll Rate [${}^0/s$]\")\n",
      "fig.plot(adis_time, roll_rate)\n",
      "fig.ylim([-400,400])\n",
      "fig.show()"
     ],
     "language": "python",
     "metadata": {},
     "outputs": [
      {
       "metadata": {},
       "output_type": "display_data",
       "png": "[encoded data removed]",
       "text": [
        "<matplotlib.figure.Figure at 0x7f7036014350>"
       ]
      }
     ],
     "prompt_number": 7
    },
    {
     "cell_type": "code",
     "collapsed": false,
     "input": [
      "fig = utils.Plot(r\"Fin Angle\", \"Time [$s$]\", r\"$\\alpha$ [${}^0$]\")\n",
      "fig.plot(fin_time, fin_angle)\n",
      "fig.show()"
     ],
     "language": "python",
     "metadata": {},
     "outputs": [
      {
       "metadata": {},
       "output_type": "display_data",
       "png": "[encoded data removed]",
       "text": [
        "<matplotlib.figure.Figure at 0x7f70509e5390>"
       ]
      }
     ],
     "prompt_number": 8
    },
    {
     "cell_type": "markdown",
     "metadata": {},
     "source": []
    }
   ],
   "metadata": {}
  }
 ]
}