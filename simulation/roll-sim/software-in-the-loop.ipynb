{
 "metadata": {
  "name": "",
  "signature": "sha256:059cb11ea155e73be89c0073af1d985c84940cef7ee9c8cd9f47360ea9ce2df8"
 },
 "nbformat": 3,
 "nbformat_minor": 0,
 "worksheets": [
  {
   "cells": [
    {
     "cell_type": "markdown",
     "metadata": {},
     "source": [
      "# Roll Simulation Through Flight Comptuer\n",
      "\n",
      "Run the fc locally and run a simulation through it."
     ]
    },
    {
     "cell_type": "code",
     "collapsed": false,
     "input": [
      "import os\n",
      "import subprocess\n",
      "import time\n",
      "\n",
      "# start the Flight comptuer\n",
      "p = subprocess.Popen(['./start-stop-fc.sh', 'start'], stdout=subprocess.PIPE)\n",
      "out, err = p.communicate()\n",
      "print out\n",
      "\n",
      "time.sleep(1.0) # settling time"
     ],
     "language": "python",
     "metadata": {},
     "outputs": [
      {
       "output_type": "stream",
       "stream": "stdout",
       "text": [
        "Starting PSAS FC\n",
        "\n"
       ]
      }
     ],
     "prompt_number": 1
    },
    {
     "cell_type": "code",
     "collapsed": false,
     "input": [
      "# start the Flight comptuer\n",
      "p = subprocess.Popen(['./start-stop-fc.sh', 'stop'], stdout=subprocess.PIPE)\n",
      "out, err = p.communicate()\n",
      "print out"
     ],
     "language": "python",
     "metadata": {},
     "outputs": [
      {
       "output_type": "stream",
       "stream": "stdout",
       "text": [
        "stopping PSAS FC\n",
        "\n"
       ]
      }
     ],
     "prompt_number": 2
    },
    {
     "cell_type": "markdown",
     "metadata": {},
     "source": []
    }
   ],
   "metadata": {}
  }
 ]
}