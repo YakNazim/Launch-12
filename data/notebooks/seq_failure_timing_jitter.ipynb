{
 "cells": [
  {
   "cell_type": "markdown",
   "metadata": {},
   "source": [
    "# Missing Data And Timing Jitter\n",
    "\n",
    "During Launch-12 several flight comptuer events were recorded that indicated a loss of data.\n",
    "\n",
    "## Sequence Numbers And Ethernet\n",
    "\n",
    "All data sent from the instruments in the rocket are sent over physical ethernet cables to a network switch on the top of the stack, then the main computer recieves them. In the flight executive incoming packets are recieved and the high resolution timestamp of the exact recieve time recoreded.\n",
    "\n",
    "[Ethmux code from the FC in the av3-fc repo](https://github.com/psas/av3-fc/blob/master/src/ethmux.c#L81)\n",
    "\n",
    "All the sequential data, like from and IMU or other device polled on an interval, is sent over the network with a sequence number so we can detect missing data on receipt. Skipped sequence numbers are recoreded by the `SEQE` (\"Sequence Error\") definition and recorded in the log.\n",
    "\n",
    "We did not expect to miss any data. The network stack should have been streaming well below it's theoretical limit. However when checking the logs in for SEQE Data, we see this:"
   ]
  },
  {
   "cell_type": "code",
   "execution_count": null,
   "metadata": {
    "collapsed": false
   },
   "outputs": [],
   "source": [
    "with open(\"../fc-data/SEQE.csv\") as f_in:\n",
    "    print f_in.read()"
   ]
  },
  {
   "cell_type": "markdown",
   "metadata": {},
   "source": [
    "At several times we get a sequence error from multiple ports. In each case there is a chunk of missing data.\n",
    "\n",
    "The incoming port numbers can be decoded as follows:\n",
    "\n",
    " - 36104: RNH_UMBDET (Umbilical disconnect signal)\n",
    " - 35050: JGPS_PORT (Raw GPS data)\n",
    " - 36102: RNH_PORT (Battery and power data)\n",
    " - 35020: ADIS_PORT (IMU data)\n",
    " - 35011: BMP_PORT (Pressure data)\n",
    " - 35051: GPS_COTS (Standard, comercial GPS data)\n",
    " \n",
    "In the flight there were two significant upset events where we lost at least one or more packets of data from nearly every sensor on the rocket(!)\n",
    "\n",
    "## Lost milliseconds In IMU Data\n",
    "\n",
    "If we chart the difference in recieve time between each and every sample of IMU data we should see these two gaps show up (log scale to see the baseline and the huge jumps):"
   ]
  },
  {
   "cell_type": "code",
   "execution_count": null,
   "metadata": {
    "collapsed": true
   },
   "outputs": [],
   "source": [
    "from numpy import loadtxt, array, subtract, divide, multiply, median, std, var\n",
    "import matplotlib.pyplot as plt\n",
    "%matplotlib inline\n",
    "from IPython.display import set_matplotlib_formats\n",
    "#set_matplotlib_formats('png', 'pdf')\n",
    "\n",
    "# Liftoff Time\n",
    "t_0 = 117853569585227\n",
    "\n",
    "# Import IMU Data\n",
    "columns = loadtxt(\"../fc-data/ADIS.csv\", delimiter=',', unpack=True, comments=\"#\")\n",
    "seqn = columns[0]\n",
    "timestamp = columns[1]\n",
    "gyro_x = columns[3]\n",
    "gyro_y = columns[4]\n",
    "gyro_z = columns[5]\n",
    "acc_x = columns[6]\n",
    "acc_y = columns[7]\n",
    "acc_z = columns[8]\n",
    "\n",
    "# Put time in seconds\n",
    "timestamp = subtract(timestamp, t_0)\n",
    "timestamp = divide(timestamp, 1e9)"
   ]
  },
  {
   "cell_type": "code",
   "execution_count": null,
   "metadata": {
    "collapsed": false
   },
   "outputs": [],
   "source": [
    "diff = []\n",
    "for i in range(1,len(timestamp)):\n",
    "    diff.append(timestamp[i] - timestamp[i - 1])\n",
    "ax = plt.figure(figsize=(16,10))\n",
    "plt.title(r\"Looking For Gaps In The IMU Timestamps\")\n",
    "plt.ylabel(r\"Time Since Last Sample [ms]\")\n",
    "plt.xlabel(r\"MET [s]\")\n",
    "plt.plot(timestamp[1:], multiply(diff, 1000))\n",
    "ax.axes[0].set_yscale(\"log\", nonposy='clip')\n",
    "ax.axes[0].set_xlim([-5,42])\n",
    "#ax.axes[0].set_ylim([-10,10])\n",
    "plt.show()"
   ]
  },
  {
   "cell_type": "markdown",
   "metadata": {},
   "source": [
    "The expeced time between samples from the ADIS IMU is 1.22 ms. However there are two big gaps in the data:"
   ]
  },
  {
   "cell_type": "code",
   "execution_count": null,
   "metadata": {
    "collapsed": false
   },
   "outputs": [],
   "source": [
    "for i, d in enumerate(diff):\n",
    "    if d > 0.01:\n",
    "        print \"At time %6.3f s: %6.1f ms\" % (timestamp[i+1], d*1000.0)"
   ]
  },
  {
   "cell_type": "markdown",
   "metadata": {},
   "source": [
    "## Average Sample Time\n",
    "\n",
    "If we ignore the bumps we should learn something about the jitter in the recieved sample time. The assumption is that the actual sample time was pretty uniform, and most of the jitter is from uncertaninty in the network stack and non-realtime OS that the flight computer is running.\n",
    "\n",
    "Here we chart (linear scale this time) just the non-gap diffs"
   ]
  },
  {
   "cell_type": "code",
   "execution_count": null,
   "metadata": {
    "collapsed": false
   },
   "outputs": [],
   "source": [
    "diff = []\n",
    "difftimes = []\n",
    "for i in range(1,len(timestamp)):\n",
    "    d = timestamp[i] - timestamp[i - 1]\n",
    "    if d < 0.01:\n",
    "        difftimes.append(timestamp[i])\n",
    "        diff.append(d)\n",
    "\n",
    "d_median = median(diff)\n",
    "ax = plt.figure(figsize=(16,10))\n",
    "plt.title(r\"IMU Sample Times\")\n",
    "plt.ylabel(r\"Time Since Last Sample [ms]\")\n",
    "plt.xlabel(r\"MET [s]\")\n",
    "plt.plot(difftimes, multiply(diff, 1000), 'r.', alpha=0.35)\n",
    "ax.axes[0].set_xlim([-5,42])\n",
    "ax.axes[0].set_ylim([0.8,1.8])\n",
    "plt.show()"
   ]
  },
  {
   "cell_type": "markdown",
   "metadata": {},
   "source": [
    "## Jitter"
   ]
  },
  {
   "cell_type": "code",
   "execution_count": null,
   "metadata": {
    "collapsed": false
   },
   "outputs": [],
   "source": [
    "ax = plt.figure(figsize=(16,10))\n",
    "plt.title(r\"IMU Sample Times\")\n",
    "plt.ylabel(r\"Sample Timeing Frequency\")\n",
    "plt.xlabel(r\"Time Since Last Sample [ms]\")\n",
    "n, bins, patches = plt.hist(multiply(diff, 1000), 1000, histtype='step', normed=1, alpha=0.8, linewidth=1, fill=True)\n",
    "plt.plot((d_median*1000.0, d_median*1000.0), (0, 6), 'b-', label=\"Median Sample Time\")\n",
    "plt.plot((1.2207, 1.2207), (0, 6), 'k-', label=\"True Sample Time\")\n",
    "plt.legend(loc=1)\n",
    "#ax.axes[0].set_xlim([-5,42])\n",
    "#ax.axes[0].set_ylim([0.8,1.8])\n",
    "plt.show()"
   ]
  },
  {
   "cell_type": "markdown",
   "metadata": {},
   "source": [
    "It's not gaussian. In fact the bump at almost exactly 1 ms is hard to explain.\n",
    "\n",
    "Clearly there is some lower bound for timing. One might suspect that almost every time a packet arrives slightly late, the next one is likely to be on time (regression to the mean) so that there are an abundance of \"short\" arrivals that appear to get here quicker than they should. Why that number should be so close to 1.0 ms is hard to say.\n",
    "\n",
    "Here are some statistical numbers for the jitter:"
   ]
  },
  {
   "cell_type": "code",
   "execution_count": null,
   "metadata": {
    "collapsed": false
   },
   "outputs": [],
   "source": [
    "print \"True Sample Time:          1.221 ms\"\n",
    "print \"Median Actual Sample Time: %5.3f ms\" % (d_median*1000.0)\n",
    "print \"Standard Deviation:        %5.3f ms\" % (std(diff)*1e3)"
   ]
  },
  {
   "cell_type": "markdown",
   "metadata": {},
   "source": []
  }
 ],
 "metadata": {
  "kernelspec": {
   "display_name": "Python 2",
   "language": "python",
   "name": "python2"
  },
  "language_info": {
   "codemirror_mode": {
    "name": "ipython",
    "version": 2
   },
   "file_extension": ".py",
   "mimetype": "text/x-python",
   "name": "python",
   "nbconvert_exporter": "python",
   "pygments_lexer": "ipython2",
   "version": "2.7.10+"
  }
 },
 "nbformat": 4,
 "nbformat_minor": 0
}
