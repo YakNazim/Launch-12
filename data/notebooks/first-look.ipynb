{
 "cells": [
  {
   "cell_type": "markdown",
   "metadata": {},
   "source": [
    "# Launch 12 Data First Look\n",
    "\n",
    "Launch 12 lifted off at 11:15 am Sunday July 19th (19:15 UTC)\n",
    "\n",
    "How did we do? Let's take a first look at the data:"
   ]
  },
  {
   "cell_type": "code",
   "execution_count": null,
   "metadata": {
    "collapsed": false
   },
   "outputs": [],
   "source": [
    "import numpy\n",
    "import utils\n",
    "%matplotlib inline\n",
    "from IPython.display import set_matplotlib_formats\n",
    "set_matplotlib_formats('pdf', 'png')"
   ]
  },
  {
   "cell_type": "markdown",
   "metadata": {},
   "source": [
    "## Launch Time\n",
    "\n",
    "Look for the umbilical disconnect signal. We'll write that down at $t_0$"
   ]
  },
  {
   "cell_type": "code",
   "execution_count": null,
   "metadata": {
    "collapsed": false
   },
   "outputs": [],
   "source": [
    "with open('../fc-data/RNHU.csv', 'r') as rnhu:\n",
    "    for line in rnhu:\n",
    "        print line,\n",
    "\n",
    "t_0 = 117853569585227"
   ]
  },
  {
   "cell_type": "markdown",
   "metadata": {},
   "source": [
    "## Acceleration\n",
    "\n",
    "Here are the acceleration curves for the flight."
   ]
  },
  {
   "cell_type": "code",
   "execution_count": null,
   "metadata": {
    "collapsed": false
   },
   "outputs": [],
   "source": [
    "columns = numpy.loadtxt(\"../fc-data/ADIS.csv\", delimiter=',', unpack=True)\n",
    "\n",
    "seqn = columns[0]\n",
    "timestamp = columns[1]\n",
    "gyro_x = columns[3]\n",
    "gyro_y = columns[4]\n",
    "gyro_z = columns[5]\n",
    "acc_x = columns[6]\n",
    "acc_y = columns[7]\n",
    "acc_z = columns[8]\n",
    "\n",
    "timestamp = numpy.subtract(timestamp, t_0)\n",
    "timestamp = numpy.divide(timestamp, 1e9)\n",
    "\n",
    "# Peak Thrust\n",
    "thrust_peak = numpy.argmax(acc_x[0:25000])\n",
    "thrust_peak = (timestamp[thrust_peak], acc_x[thrust_peak])\n",
    "\n",
    "# Peak Decel\n",
    "decel_peak = numpy.argmin(acc_x[0:25000])\n",
    "decel_peak = (timestamp[decel_peak], acc_x[decel_peak])\n",
    "\n",
    "# NSR Fire\n",
    "nsr_event = numpy.argmax(acc_x[27100:29000])\n",
    "nsr_event = (timestamp[27100+nsr_event], acc_x[27100+nsr_event])\n",
    "\n",
    "fig = utils.Plot(\"Launch 12 Measured Vertical Vcceleration\", \"Time [s]\", \"Accel [m/s/s]\")\n",
    "fig.plot(timestamp, acc_x, label=\"UP Measured Acceleration\")\n",
    "fig.xlim([-2, 40])\n",
    "fig.ylim([-50, 150])\n",
    "\n",
    "fig.note('Peak Thrust (%0.1f m/s/s)' % thrust_peak[1], (thrust_peak[0], thrust_peak[1]), (50,20))\n",
    "fig.note('Event?? (T+%0.3f)' % nsr_event[0], (nsr_event[0], nsr_event[1]), (1, 160))\n",
    "fig.show()"
   ]
  },
  {
   "cell_type": "code",
   "execution_count": null,
   "metadata": {
    "collapsed": false
   },
   "outputs": [],
   "source": [
    "fig = utils.Plot(\"Launch 12 Measured Acceleration\", \"Time [sec]\", \"Accel [m/s/s]\")\n",
    "fig.plot(timestamp, acc_x, color=utils.red, label=\"UP Measured Acceleration\")\n",
    "fig.plot(timestamp, acc_y, color=utils.green, label=\"'Y' Measured Acceleration\")\n",
    "fig.plot(timestamp, acc_z, color=utils.blue, label=\"'Z' Measured Acceleration\")\n",
    "fig.legend()\n",
    "fig.xlim([-2, 40])\n",
    "fig.show()"
   ]
  },
  {
   "cell_type": "markdown",
   "metadata": {},
   "source": [
    "# Roll Rate\n",
    "\n",
    "This launch included a student designed roll control experiment. Four small canards in the middle of the rocket are controled by the flight comptuer and a PI controller was allowed to control the roll rate of the rocket, trying to set it to zero."
   ]
  },
  {
   "cell_type": "code",
   "execution_count": null,
   "metadata": {
    "collapsed": false
   },
   "outputs": [],
   "source": [
    "fig = utils.Plot(\"Launch 12 Roll Rate\", \"Time [s]\", r\"Roll Rate [${}^0$/s]\")\n",
    "fig.plot(timestamp, gyro_x)\n",
    "fig.xlim([-5, 40])\n",
    "fig.ylim([-100, 150])"
   ]
  },
  {
   "cell_type": "markdown",
   "metadata": {},
   "source": [
    "# Total Roll Angle\n",
    "\n",
    "How much did we spin?"
   ]
  },
  {
   "cell_type": "code",
   "execution_count": null,
   "metadata": {
    "collapsed": false
   },
   "outputs": [],
   "source": [
    "from scipy.integrate import simps\n",
    "\n",
    "roll_angle = [0]\n",
    "for i in range(1, len(timestamp)):\n",
    "    roll_angle.append(simps(gyro_x[:i], timestamp[:i]))"
   ]
  },
  {
   "cell_type": "code",
   "execution_count": null,
   "metadata": {
    "collapsed": false
   },
   "outputs": [],
   "source": [
    "fig = utils.Plot(\"Launch 12 Roll Angle\", \"Time [s]\", r\"Roll Rate [${}^0$]\")\n",
    "fig.plot(timestamp, roll_angle)\n",
    "fig.xlim([-5, 40])\n",
    "fig.show()"
   ]
  },
  {
   "cell_type": "markdown",
   "metadata": {},
   "source": [
    "This was worse that expected performance, but also includes a lot of data that we'll find useful for future flights!\n",
    "\n",
    "## Roll Canard Angle\n",
    "\n",
    "So how did the control system react to the flight?"
   ]
  },
  {
   "cell_type": "code",
   "execution_count": null,
   "metadata": {
    "collapsed": false
   },
   "outputs": [],
   "source": [
    "columns = numpy.loadtxt(\"../fc-data/ROLL.csv\", delimiter=',', unpack=True)\n",
    "\n",
    "seqn = columns[0]\n",
    "fin_timestamp = columns[1]\n",
    "fin_angle = columns[2]\n",
    "\n",
    "fin_timestamp /= 1e9\n",
    "fin_timestamp -= 3348.1\n",
    "\n",
    "fig = utils.Plot(\"Launch 12 Control Fin Angle\", \"Time [s]\", r\"Fin Angle [${}^0$]\")\n",
    "fig.plot(fin_timestamp, fin_angle)\n",
    "fig.xlim([-2, 40])\n",
    "fig.ylim([-5, 16])\n",
    "fig.show()"
   ]
  },
  {
   "cell_type": "code",
   "execution_count": null,
   "metadata": {
    "collapsed": false
   },
   "outputs": [],
   "source": [
    "fig = utils.Plot(\"Launch 12 Control Fin Angle vs Roll Rate\", \"Time [s]\", r\"Fin Angle [${}^0/10$] Roll Rate [${}^0/s$]\")\n",
    "fig.plot(fin_timestamp, fin_angle*10, label=\"Fin Position\")\n",
    "fig.plot(timestamp, gyro_x, color=utils.blue, label=\"Roll Rate\")\n",
    "fig.xlim([-1, 32])\n",
    "fig.ylim([-50, 160])\n",
    "fig.legend(4)\n",
    "fig.show()"
   ]
  },
  {
   "cell_type": "markdown",
   "metadata": {},
   "source": []
  }
 ],
 "metadata": {
  "kernelspec": {
   "display_name": "Python 2",
   "language": "python",
   "name": "python2"
  },
  "language_info": {
   "codemirror_mode": {
    "name": "ipython",
    "version": 2
   },
   "file_extension": ".py",
   "mimetype": "text/x-python",
   "name": "python",
   "nbconvert_exporter": "python",
   "pygments_lexer": "ipython2",
   "version": "2.7.10+"
  }
 },
 "nbformat": 4,
 "nbformat_minor": 0
}
