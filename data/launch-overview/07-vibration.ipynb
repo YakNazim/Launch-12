{
 "cells": [
  {
   "cell_type": "markdown",
   "metadata": {},
   "source": [
    "# Vibration Environment\n",
    "\n",
    "We can use the IMU to determine what the vibration specrum was like during the flight. Looking at all axises of the accelerometer in the IMU we see the plots get significantly noisy during the boost portion of the flight."
   ]
  },
  {
   "cell_type": "code",
   "execution_count": null,
   "metadata": {
    "collapsed": false
   },
   "outputs": [],
   "source": [
    "from numpy import loadtxt, array, subtract, divide, multiply, median, std, var, sqrt\n",
    "import matplotlib.pyplot as plt\n",
    "%matplotlib inline\n",
    "from IPython.display import set_matplotlib_formats\n",
    "set_matplotlib_formats('png', 'pdf')\n",
    "\n",
    "g_0 = 9.80665\n",
    "\n",
    "columns = loadtxt(\"../fc-data/ADIS.csv\", delimiter=',', unpack=True)\n",
    "\n",
    "seqn = columns[0]\n",
    "timestamp = columns[1]\n",
    "gyro_x = columns[3]\n",
    "gyro_y = columns[4]\n",
    "gyro_z = columns[5]\n",
    "acc_x, acc_y, acc_z = columns[6:9]\n",
    "\n",
    "t_0 = 117853569585227\n",
    "\n",
    "timestamp = subtract(timestamp, t_0)\n",
    "timestamp = divide(timestamp, 1e9)\n",
    "\n",
    "accel = []\n",
    "for i, t in enumerate(timestamp):\n",
    "    accel.append(sqrt((acc_x[i]*acc_x[i]) + (acc_y[i]*acc_y[i]) + (acc_z[i]*acc_z[i])))\n",
    "\n",
    "ax = plt.figure(figsize=(16,6))\n",
    "plt.title(r\"IMU Acceleration Magnitude\")\n",
    "plt.ylabel(r\"Measured Acceleration [m/s$^2$]\")\n",
    "plt.xlabel(r\"Mission Elapsed Time [s]\")\n",
    "plt.plot(timestamp, acc_x, alpha=0.75, label=\"X (Up)\")\n",
    "plt.plot(timestamp, acc_y, alpha=0.6, label=\"Y\")\n",
    "plt.plot(timestamp, acc_z, alpha=0.6, label=\"Z\")\n",
    "ax.axes[0].set_xlim([-5,42])\n",
    "plt.legend()\n",
    "plt.show()"
   ]
  },
  {
   "cell_type": "code",
   "execution_count": null,
   "metadata": {
    "collapsed": false
   },
   "outputs": [],
   "source": [
    "ax = plt.figure(figsize=(16,6))\n",
    "plt.title(r\"IMU Acceleration Magnitude\")\n",
    "plt.ylabel(r\"Measured Acceleration [m/s$^2$]\")\n",
    "plt.xlabel(r\"Mission Elapsed Time [s]\")\n",
    "plt.plot(timestamp, accel, alpha=0.75, label=\"Up\")\n",
    "ax.axes[0].set_xlim([-5,42])\n",
    "#plt.legend()\n",
    "plt.show()"
   ]
  },
  {
   "cell_type": "markdown",
   "metadata": {},
   "source": [
    "If we take a Fourier transform of the acceleration magnitude data then we can see the spectral power over many frequencies during the flight."
   ]
  },
  {
   "cell_type": "code",
   "execution_count": null,
   "metadata": {
    "collapsed": false
   },
   "outputs": [],
   "source": [
    "from scipy import signal\n",
    "\n",
    "fs = 819.2\n",
    "f, Pxx_den = signal.periodogram(divide(accel, 9.8), fs,  scaling='spectrum')\n",
    "\n",
    "ax = plt.figure(figsize=(16,6))\n",
    "plt.title(r\"IMU Acceleration Power Spectral Density\")\n",
    "plt.ylabel(r\"PSD [g${}^2$/Hz]\")\n",
    "plt.xlabel(r\"Frequency [Hz]\")\n",
    "plt.semilogy(f[1:], Pxx_den[1:], alpha=0.75, label=\"Up\")\n",
    "ax.axes[0].set_xlim([-1,fs/2])\n",
    "ax.axes[0].set_ylim([10e-14,1])\n",
    "#plt.legend()\n",
    "plt.show()"
   ]
  },
  {
   "cell_type": "markdown",
   "metadata": {},
   "source": [
    "## Waterfall Sonogram\n",
    "\n",
    "The most interesting thing is to look at the change in vibration power spectrum over time. We use a waterfall chart to do this with sliding windows:"
   ]
  },
  {
   "cell_type": "code",
   "execution_count": null,
   "metadata": {
    "collapsed": false
   },
   "outputs": [],
   "source": [
    "from matplotlib.colors import LogNorm\n",
    "from matplotlib import cm\n",
    "import numpy as np\n",
    "from matplotlib import gridspec\n",
    "\n",
    "\n",
    "fs = 819.2\n",
    "data = accel\n",
    "fft_size = 1024\n",
    "overlap_fac = 0.75\n",
    "\n",
    "hop_size = np.int32(np.floor(fft_size * (1-overlap_fac)))\n",
    "pad_end_size = fft_size          # the last segment can overlap the end of the data array by no more than one window size\n",
    "total_segments = np.int32(np.ceil(len(data) / np.float32(hop_size)))\n",
    "t_max = len(data) / np.float32(fs)\n",
    "\n",
    "window = np.hanning(fft_size)  # our half cosine window\n",
    "inner_pad = np.zeros(fft_size) # the zeros which will be used to double each segment size\n",
    "\n",
    "proc = np.concatenate((data, np.zeros(pad_end_size)))              # the data to process\n",
    "result = np.empty((total_segments, fft_size), dtype=np.float32)    # space to hold the result\n",
    "\n",
    "for i in xrange(total_segments):                      # for each segment\n",
    "    current_hop = hop_size * i                        # figure out the current segment offset\n",
    "    segment = proc[current_hop:current_hop+fft_size]  # get the current segment\n",
    "    windowed = segment * window                       # multiply by the half cosine function\n",
    "    padded = np.append(windowed, inner_pad)           # add 0s to double the length of the data\n",
    "    spectrum = np.fft.fft(padded) / fft_size          # take the Fourier Transform and scale by the number of samples\n",
    "    autopower = np.abs(spectrum * np.conj(spectrum))  # find the autopower spectrum\n",
    "    result[i, :] = autopower[:fft_size]               # append to the results array\n",
    "\n",
    "result = 20*np.log10(result)          # scale to db\n",
    "result = np.clip(result, -200, 10)    # clip values\n",
    "\n",
    "fig = plt.figure(figsize=(16,8))\n",
    "plt.subplots_adjust(wspace=0.001)\n",
    "gs = gridspec.GridSpec(1, 2, width_ratios=[1, 7]) \n",
    "\n",
    "ax1 = plt.subplot(gs[0])\n",
    "plt.title(r\"\")\n",
    "plt.ylabel(r\"Time [s]\")\n",
    "plt.xlabel(r\"Acceleration [g]\")\n",
    "ax1.plot(divide(accel, 9.8), timestamp, 'k-', alpha=0.6, lw=0.4)\n",
    "plt.xlim([-0.5,12])\n",
    "plt.ylim([timestamp[-1]+0.75,timestamp[0]])\n",
    "\n",
    "ax2 = plt.subplot(gs[1])\n",
    "plt.title(r\"IMU Acceleration Power Spectrum\")\n",
    "plt.xlabel(r\"Vibration Frequency [Hz]]\")\n",
    "img = ax2.imshow(result, origin='upper', cmap='plasma', interpolation='bicubic', aspect='auto')\n",
    "tics = range(0,401,50)\n",
    "plt.xticks([t*2.5 for t in tics], tics)\n",
    "ax2.tick_params(axis='x', colors='white', labelcolor='black', length=10)\n",
    "ax2.tick_params(axis='y', colors='white', labelcolor='black', length=10)\n",
    "ticklabels = ax2.get_yticklabels()\n",
    "plt.setp(ticklabels, visible=False)\n",
    "\n",
    "cbaxes = fig.add_axes([0.91, 0.125, 0.02, 0.775]) \n",
    "cbar = plt.colorbar(img, cax = cbaxes)\n",
    "cbar.ax.set_ylabel('Vibration Power [dB]')\n",
    "\n",
    "plt.show()"
   ]
  },
  {
   "cell_type": "markdown",
   "metadata": {},
   "source": []
  }
 ],
 "metadata": {
  "kernelspec": {
   "display_name": "Python 2",
   "language": "python",
   "name": "python2"
  },
  "language_info": {
   "codemirror_mode": {
    "name": "ipython",
    "version": 2
   },
   "file_extension": ".py",
   "mimetype": "text/x-python",
   "name": "python",
   "nbconvert_exporter": "python",
   "pygments_lexer": "ipython2",
   "version": "2.7.10+"
  }
 },
 "nbformat": 4,
 "nbformat_minor": 0
}
