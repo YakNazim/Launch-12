{
 "cells": [
  {
   "cell_type": "markdown",
   "metadata": {},
   "source": [
    "# Venus GPS\n",
    "\n",
    "Comercially availible GPS receivers are problematic for rockets. For technical reasons filters and satellite tracking loops in off the shelf GPS chips are focused on surface uses. Even for aviation grade GPS (much, more expensive!) they do not expect you to accelerate straight up at 10 g's.\n",
    "\n",
    "Aside from the technical challenge of keeping lock under high g-load, there are legal restrictions in place for GPS as well. Usually refered to \"COCOM limits\", all purchased GPS units must stop giving valid data above certain speeds and altitudes.\n",
    "\n",
    "This makes things very difficult on a rocket. Often you run into COCOM limits and acceleration errors at the same time (high accleration and speed).\n",
    "\n",
    "## Reported Fix Information\n",
    "\n",
    "The Venus8 chip will report how good a fix it has as it goes. We can plot both the number or locked satellites and the \"Fix Mode\" which will tell us \"no lock\", \"2D fix\", or various grades of full position fix modes."
   ]
  },
  {
   "cell_type": "code",
   "execution_count": null,
   "metadata": {
    "collapsed": false
   },
   "outputs": [],
   "source": [
    "from numpy import subtract, divide, multiply, median, std, var, average, arange, absolute\n",
    "import matplotlib.pyplot as plt\n",
    "%matplotlib inline\n",
    "from IPython.display import set_matplotlib_formats\n",
    "set_matplotlib_formats('png', 'pdf')\n",
    "import launch"
   ]
  },
  {
   "cell_type": "code",
   "execution_count": null,
   "metadata": {
    "collapsed": false
   },
   "outputs": [],
   "source": [
    "fig, ax1 = plt.subplots(figsize=(16,6))\n",
    "plt.title(r\"Venus 8 GPS Reciever Reported Fix \")\n",
    "plt.xlabel(r\"Mission Elapsed Time [s]\")\n",
    "plt.ylabel(r\"#\")\n",
    "\n",
    "ax1.plot(launch.venus.time, launch.venus.num_sv, alpha=0.75, label=\"Number of Sats locked\")\n",
    "ax1.plot(launch.venus.time, launch.venus.fix_mode, lw=3, alpha=0.75, label=\"Reported Fix Mode (2=3D Fix, 3=3D Fix + DGPS)\")\n",
    "\n",
    "ax2 = ax1.twinx()\n",
    "ax2.set_ylabel(r\"Acceleration [m/s${}^2$]\")\n",
    "ax2.plot(launch.adis.time[200:-200], launch.adis.acc_x_filter[200:-200], 'k-', alpha=0.18, label=\"IMU Acceleration\")\n",
    "ax2.grid(b=False)\n",
    "ax2.set_ylim([-50,150])\n",
    "\n",
    "ax1.set_xlim([-5,42])\n",
    "ax2.set_xlim([-5,42])\n",
    "ax1.set_ylim([0,12])\n",
    "ax1.legend(loc=2)\n",
    "ax2.legend(loc=1)\n",
    "plt.show()"
   ]
  },
  {
   "cell_type": "markdown",
   "metadata": {},
   "source": [
    "At least initially, it would look like the Venus tracked the entire flight! Though, well see this is in fact not true.\n",
    "\n",
    "In GPS we can also get reports of the \"Dilution of Precision\" (DOP) over time. This is related to how good a constellation you have at any moment and some errors in the psuodoranges to the satellites. Lower numbers are better."
   ]
  },
  {
   "cell_type": "code",
   "execution_count": null,
   "metadata": {
    "collapsed": false
   },
   "outputs": [],
   "source": [
    "fig, ax1 = plt.subplots(figsize=(16,6))\n",
    "plt.title(r\"Venus 8 GPS Reciever DOP\")\n",
    "plt.xlabel(r\"Mission Elapsed Time [s]\")\n",
    "plt.ylabel(r\"Dilution of Precision\")\n",
    "\n",
    "ax1.plot(launch.venus.time, launch.venus.GDOP, alpha=0.75, label=\"GDOP\")\n",
    "ax1.plot(launch.venus.time, launch.venus.VDOP, alpha=0.75, label=\"VDOP\")\n",
    "ax1.plot(launch.venus.time, launch.venus.HDOP, alpha=0.75, label=\"HDOP\")\n",
    "\n",
    "ax2 = ax1.twinx()\n",
    "ax2.set_ylabel(r\"Acceleration [m/s${}^2$]\")\n",
    "ax2.plot(launch.adis.time[200:-200], launch.adis.acc_x_filter[200:-200], 'k-', alpha=0.18, label=\"IMU Acceleration\")\n",
    "ax2.grid(b=False)\n",
    "ax2.set_ylim([-50,150])\n",
    "\n",
    "ax1.set_xlim([-5,42])\n",
    "ax2.set_xlim([-5,42])\n",
    "ax1.legend(loc=2)\n",
    "ax2.legend(loc=1)\n",
    "plt.show()"
   ]
  },
  {
   "cell_type": "markdown",
   "metadata": {},
   "source": [
    "Again the Venus misleadingly reports very good results.\n",
    "\n",
    "## Altitude\n",
    "\n",
    "If the fix is good, we should be able to see the rocket flight in high precision. Let's look at the reported altitdue from the Venus8 GPS chip."
   ]
  },
  {
   "cell_type": "code",
   "execution_count": null,
   "metadata": {
    "collapsed": false
   },
   "outputs": [],
   "source": [
    "alt_time, imualt = launch.cached_altitude()\n",
    "\n",
    "fig, ax1 = plt.subplots(figsize=(16,6))\n",
    "plt.title(r\"Venus 8 GPS Reciever Altitude\")\n",
    "plt.xlabel(r\"Mission Elapsed Time [s]\")\n",
    "plt.ylabel(r\"Altitude AGL [km]\")\n",
    "\n",
    "ax1.plot(alt_time, divide(imualt, 1000.0), 'k-', alpha=0.2, label=\"IMU Integrated Vertical Velocity\")\n",
    "ax1.plot(launch.venus.time, divide(subtract(launch.venus.altmsl, 1390), 1000.0), alpha=0.75, label=\"Venus8 GPS Altitude\")\n",
    "\n",
    "plt.xlim([-5,42])\n",
    "plt.ylim([0,6])\n",
    "ax1.legend(loc=2)\n",
    "plt.show()"
   ]
  },
  {
   "cell_type": "markdown",
   "metadata": {},
   "source": [
    "Oops. The venus does not report altitude for nearly the **entire** flight. There is also a mysterious instantaneous vertical bump t+31 seconds."
   ]
  },
  {
   "cell_type": "code",
   "execution_count": null,
   "metadata": {
    "collapsed": false
   },
   "outputs": [],
   "source": [
    "launch_lat = average(launch.venus.latitude[5000:10000])\n",
    "launch_lon = average(launch.venus.longitude[5000:10000])\n",
    "print \"\"\"Though we can see the position and sea level altitude of the GPS antenna just before\n",
    "launch. The launch tower with the rocket on it reports at %0.8f° N, %0.8f° E and and altitude\n",
    "of %0.3f meters MSL.\n",
    "\"\"\" % (launch_lat, launch_lon, average(launch.venus.altmsl[5000:10000]))"
   ]
  },
  {
   "cell_type": "markdown",
   "metadata": {},
   "source": [
    "## Position\n",
    "\n",
    "We also get lat/lon pairs for the flight."
   ]
  },
  {
   "cell_type": "code",
   "execution_count": null,
   "metadata": {
    "collapsed": false
   },
   "outputs": [],
   "source": [
    "from numpy import abs as npabs\n",
    "from mpl_toolkits.basemap import Basemap\n",
    "from basemapshoot import shoot\n",
    "import json\n",
    "\n",
    "with open('map.json', 'r') as geojson:\n",
    "    geo = json.loads(geojson.read())\n",
    "\n",
    "    roads = []\n",
    "    for coll in geo['features']:\n",
    "        if coll[u'properties'][u'description'] == \"road\":\n",
    "            lat = [c[1] for c in coll[u'geometry'][u'coordinates']]\n",
    "            lon = [c[0] for c in coll[u'geometry'][u'coordinates']]\n",
    "            roads.append((lon, lat))\n",
    "\n",
    "ax = plt.figure(figsize=(14,14))\n",
    "plt.title(\"Launch Site Map With Rocket Decent On Parachute\")\n",
    "\n",
    "m = Basemap(projection='aea',\n",
    "            lat_0=43.798,lon_0=-120.6517534,\n",
    "            width=1800,height=1200,resolution ='c')\n",
    "\n",
    "m.drawparallels(arange(  43.4,  44.0,0.002),labels=[1,1,0,0], color='#cccccc', dashes=(3,7))\n",
    "m.drawmeridians(arange(-120.8,-120.4,0.002),labels=[0,0,0,1], color='#cccccc', dashes=(3,7))\n",
    "\n",
    "                        \n",
    "mx, my = m(-120.64904987812042, 43.798809500361756)\n",
    "plt.text(mx, my, \"Flight Line\", color=\"#444444\", rotation=-13, ha='center', va='center')\n",
    "\n",
    "for road in roads:\n",
    "    rx, ry = m(road[0], road[1])\n",
    "    m.plot(rx,ry, color=\"#cccccc\", alpha=0.8, lw=2.5)\n",
    "\n",
    "def circle(lon, lat, radius):\n",
    "    cx = []\n",
    "    cy = []\n",
    "    for azimuth in range(0, 360):\n",
    "        glon2, glat2, baz = shoot(lon, lat, azimuth, radius)\n",
    "        cx.append(glon2)\n",
    "        cy.append(glat2)\n",
    "    cx.append(cx[0])\n",
    "    cy.append(cy[0])\n",
    "    cx,cy = m(cx,cy)\n",
    "    plt.plot(cx,cy, color=\"#aadddd\", dashes=(15,10), alpha=0.7)\n",
    "    plt.text(cx[50]+25, cy[50], \"%0.1f km\"%(radius), color=\"#aadddd\", ha='left', va='top')\n",
    "\n",
    "circle(launch_lon, launch_lat, 1)\n",
    "circle(launch_lon, launch_lat, 0.5)\n",
    "\n",
    "x, y = m(launch.venus.longitude[10000:], launch.venus.latitude[10000:])\n",
    "m.plot(x,y,'b-.', alpha=0.4)\n",
    "m.plot(x,y,'r.', ms=0.4, alpha=0.5)\n",
    "\n",
    "\n",
    "mx, my = m(launch_lon, launch_lat)\n",
    "m.plot(mx, my, '+', color=\"#999999\", markersize=20, markeredgewidth=1.0)\n",
    "plt.text(mx-5, my-5, \"Launch Tower\", color=\"#444444\", rotation=45, ha='right', va='top')\n",
    "\n",
    "altitude = subtract(launch.venus.altmsl[12600:27000], 1390.816)\n",
    "for i in range(500, 5000, 500):\n",
    "    idx = (npabs(altitude-i)).argmin()\n",
    "    mx, my = m(launch.venus.longitude[idx+12600], launch.venus.latitude[idx+12600])\n",
    "    m.plot(mx, my, '.', color=\"#ffcc22\", markersize=10, markeredgewidth=0.001)\n",
    "    plt.text(mx-15, my+0, \"%d m\"%i, color=\"#444444\", rotation=0, ha='right', va='center')\n",
    "\n",
    "plt.show()"
   ]
  },
  {
   "cell_type": "markdown",
   "metadata": {},
   "source": [
    "The flight trace is in red, and gaps (thin blue line connects where the trace should cover) are where the Venus again reports the same position throughout the flight until it suddently snaps to the correct position at apogee.\n",
    "\n",
    "\n",
    "## Velocity\n",
    "\n",
    "GPS can actually determine velocity separately from postition by comparing the doppler shifts from each satellite. Here is the total velocity over time as reported by Venus"
   ]
  },
  {
   "cell_type": "code",
   "execution_count": null,
   "metadata": {
    "collapsed": false
   },
   "outputs": [],
   "source": [
    "vel_time, imuvel = launch.cached_velocity()\n",
    "\n",
    "fig, ax1 = plt.subplots(figsize=(16,6))\n",
    "plt.title(r\"Venus 8 GPS Reciever Altitude\")\n",
    "plt.xlabel(r\"Mission Elapsed Time [s]\")\n",
    "plt.ylabel(r\"Speed [m/s]\")\n",
    "\n",
    "ax1.plot(vel_time, absolute(imuvel), 'k-', alpha=0.2, label=\"IMU Integrated Vertical Velocity\")\n",
    "ax1.plot(launch.venus.time, launch.venus.velocity, alpha=0.75, label=\"Venus8 GPS Velocity Magnitude\")\n",
    "\n",
    "plt.xlim([-5,42])\n",
    "#plt.ylim([0,12])\n",
    "ax1.legend(loc=1)\n",
    "plt.show()"
   ]
  },
  {
   "cell_type": "markdown",
   "metadata": {},
   "source": [
    "Another case of bogus data. Clearly the Venus8 lost track of everything during the launch and only reconnected after the flight was over and it was starting to open parachutes.\n",
    "\n",
    "## Liftoff Transient\n",
    "\n",
    "It's hard to tell from the big picture charts if it started to report correctly then stopped or if it never got a chance, so we zoom into the moment of liftoff"
   ]
  },
  {
   "cell_type": "code",
   "execution_count": null,
   "metadata": {
    "collapsed": false
   },
   "outputs": [],
   "source": [
    "fig, ax1 = plt.subplots(figsize=(16,6))\n",
    "plt.title(r\"Venus 8 GPS Reciever Altitude\")\n",
    "plt.xlabel(r\"Mission Elapsed Time [s]\")\n",
    "plt.ylabel(r\"Acceleration [m/s${}^2$], Velocity [m/s], Altitude AGL [m]\")\n",
    "\n",
    "ax1.plot(launch.adis.time, subtract(launch.adis.acc_x, 9.8), 'k-', alpha=0.2, label=\"Vehicle Acceleration\")\n",
    "ax1.plot(launch.venus.time, launch.venus.velocity, 'r.-', alpha=0.75, label=\"Venus8 GPS Velocity Magnitude\")\n",
    "ax1.plot(launch.venus.time, subtract(launch.venus.altmsl, 1388), 'b.-', alpha=0.75, label=\"Venus8 GPS Altitude AGL\")\n",
    "\n",
    "plt.xlim([-1,1.5])\n",
    "plt.ylim([-1,5])\n",
    "ax1.legend(loc=1)\n",
    "plt.show()"
   ]
  },
  {
   "cell_type": "markdown",
   "metadata": {},
   "source": [
    "The GPS keeps reporting the exact same velocity and altitude values for about 10 samples after the liftoff transient, then starts reporting very strange numbers. Altitude goes down, velocity goes up but only for a second before leveling off.\n",
    "\n",
    "It's very hard to tell from all this data if the GPS actually had lock or not. There is a lot that goes on in the chip before it reports numbers so we just can't tell.\n",
    "\n",
    "\n",
    "## Liftoff Time\n",
    "\n",
    "We can also check what the exact time was at liftoff by looking at the GPS timestamps nearest the first IMU report of acceleration and interpolating. Note that Mission Elapsed Time is defined by the ubilical cable disconnect, here we find the exact time that the rocket starts moving."
   ]
  },
  {
   "cell_type": "code",
   "execution_count": null,
   "metadata": {
    "collapsed": false
   },
   "outputs": [],
   "source": [
    "from scipy.interpolate import interp1d\n",
    "import gpstk\n",
    "\n",
    "# First accel timestamp\n",
    "liftoff = 0\n",
    "for i, a in enumerate(subtract(launch.adis.acc_x, 9.8)):\n",
    "    if a > 1:\n",
    "        liftoff  = launch.adis.time[i]\n",
    "        #print \"Exact liftoff MET:  %0.10f s\" % liftoff\n",
    "        break\n",
    "\n",
    "idx = (abs(launch.venus.time - liftoff)).argmin()\n",
    "#print timestamp[idx], timestamp[idx+1]\n",
    "#print TOW[idx], TOW[idx+1]\n",
    "\n",
    "f = interp1d([launch.venus.time[idx], launch.venus.time[idx+1]], [launch.venus.TOW[idx], launch.venus.TOW[idx+1]])\n",
    "tow_liftoff = f(liftoff)\n",
    "#print tow_liftoff\n",
    "\n",
    "gpst_liftoff = gpstk.GPSWeekSecond(1854, float(tow_liftoff))\n",
    "civil_liftoff = gpstk.CivilTime(gpst_liftoff.toCommonTime())\n",
    "\n",
    "gps_week, gps_tow, fluff = str(gpst_liftoff).split(' ')\n",
    "print \"\"\"According to the Venus GPS, and using the exact CPU clock time of liftoff from the\n",
    "accelerometer, the GPS time of liftoff was on GPS Week %d at %0.2f Seconds. This would be\n",
    "July %02d, 2015 %2d:%02d:%0.6f UTC, (11:17 am local time).\n",
    "\"\"\" % (int(gps_week), float(gps_tow), civil_liftoff.day, civil_liftoff.hour, civil_liftoff.minute, civil_liftoff.second)"
   ]
  },
  {
   "cell_type": "markdown",
   "metadata": {},
   "source": []
  }
 ],
 "metadata": {
  "kernelspec": {
   "display_name": "Python 2",
   "language": "python",
   "name": "python2"
  },
  "language_info": {
   "codemirror_mode": {
    "name": "ipython",
    "version": 2
   },
   "file_extension": ".py",
   "mimetype": "text/x-python",
   "name": "python",
   "nbconvert_exporter": "python",
   "pygments_lexer": "ipython2",
   "version": "2.7.10+"
  }
 },
 "nbformat": 4,
 "nbformat_minor": 0
}
