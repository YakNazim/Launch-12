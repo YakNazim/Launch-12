{
 "cells": [
  {
   "cell_type": "markdown",
   "metadata": {},
   "source": [
    "# Pressure Data"
   ]
  },
  {
   "cell_type": "code",
   "execution_count": null,
   "metadata": {
    "collapsed": true
   },
   "outputs": [],
   "source": [
    "from numpy import loadtxt, array, subtract, divide, multiply, median, std, var\n",
    "import matplotlib.pyplot as plt\n",
    "%matplotlib inline\n",
    "from IPython.display import set_matplotlib_formats\n",
    "set_matplotlib_formats('png', 'pdf')\n",
    "\n",
    "g_0 = 9.80665\n",
    "\n",
    "columns = loadtxt(\"../fc-data/BMP1.csv\", delimiter=',', unpack=True)\n",
    "\n",
    "seqn = columns[0]\n",
    "timestamp = columns[1]\n",
    "pressure = columns[2]\n",
    "temperature = columns[3]\n",
    "\n",
    "t_0 = 117853569585227\n",
    "\n",
    "timestamp = subtract(timestamp, t_0)\n",
    "timestamp = divide(timestamp, 1e9)"
   ]
  },
  {
   "cell_type": "code",
   "execution_count": null,
   "metadata": {
    "collapsed": false
   },
   "outputs": [],
   "source": [
    "ax = plt.figure(figsize=(16,10))\n",
    "plt.title(r\"Pressure Sensor\")\n",
    "plt.ylabel(r\"\")\n",
    "plt.xlabel(r\"Mission Elapsed Time [s]\")\n",
    "plt.plot(timestamp, pressure, alpha=0.75)\n",
    "ax.axes[0].set_xlim([-5,42])\n",
    "plt.show()"
   ]
  },
  {
   "cell_type": "markdown",
   "metadata": {},
   "source": []
  }
 ],
 "metadata": {
  "kernelspec": {
   "display_name": "Python 2",
   "language": "python",
   "name": "python2"
  },
  "language_info": {
   "codemirror_mode": {
    "name": "ipython",
    "version": 2
   },
   "file_extension": ".py",
   "mimetype": "text/x-python",
   "name": "python",
   "nbconvert_exporter": "python",
   "pygments_lexer": "ipython2",
   "version": "2.7.10+"
  }
 },
 "nbformat": 4,
 "nbformat_minor": 0
}
