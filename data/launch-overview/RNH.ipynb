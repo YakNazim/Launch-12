{
 "cells": [
  {
   "cell_type": "markdown",
   "metadata": {},
   "source": [
    "# Flight Comptuer\n",
    "\n",
    "We recorded a lot of data about the flight comptuer itself during the flight.\n",
    "\n",
    "\n",
    "## System Power Comumption\n",
    "\n",
    "Power used by each subsystem over time"
   ]
  },
  {
   "cell_type": "code",
   "execution_count": null,
   "metadata": {
    "collapsed": false
   },
   "outputs": [],
   "source": [
    "from numpy import subtract, divide, multiply, median, std, var, average, arange, absolute\n",
    "from scipy.signal import butter, lfilter, freqz\n",
    "import matplotlib.pyplot as plt\n",
    "%matplotlib inline\n",
    "from IPython.display import set_matplotlib_formats\n",
    "set_matplotlib_formats('png', 'pdf')\n",
    "import launch\n",
    "\n",
    "def lowpass(port):\n",
    "    # Filter requirements.\n",
    "    order = 6\n",
    "    fs = launch.rnhp.fs   # sample rate, Hz\n",
    "    cutoff = 10       # desired cutoff frequency of the filter, Hz\n",
    "    nyq = 0.5 * fs\n",
    "    normal_cutoff = cutoff / nyq\n",
    "\n",
    "    # Get the filter coefficients so we can check its frequency response.\n",
    "    b, a = butter(order, normal_cutoff, btype='low', analog=False)\n",
    "    return lfilter(b, a, port)\n",
    "\n",
    "port_1_filter = lowpass(launch.rnhp.port_1)\n",
    "port_2_filter = lowpass(launch.rnhp.port_2)\n",
    "port_3_filter = lowpass(launch.rnhp.port_3)\n",
    "port_4_filter = lowpass(launch.rnhp.port_4)\n",
    "port_6_filter = lowpass(launch.rnhp.port_6)\n",
    "port_7_filter = lowpass(launch.rnhp.port_7)\n",
    "port_8_filter = lowpass(launch.rnhp.port_8)"
   ]
  },
  {
   "cell_type": "code",
   "execution_count": null,
   "metadata": {
    "collapsed": false
   },
   "outputs": [],
   "source": [
    "fig, ax1 = plt.subplots(figsize=(16,6))\n",
    "plt.title(r\"Avionics System Current Consumption\")\n",
    "plt.xlabel(r\"Mission Elapsed Time [s]\")\n",
    "plt.ylabel(r\"Current [A]\")\n",
    "\n",
    "ax1.plot(launch.rnhp.time[100:-100], port_1_filter[100:-100], alpha=0.75, label=\"Flight Comptuer\")\n",
    "ax1.plot(launch.rnhp.time[100:-100], port_8_filter[100:-100], alpha=0.75, label=\"IMU\")\n",
    "ax1.plot(launch.rnhp.time[100:-100], port_3_filter[100:-100], alpha=0.75, label=\"GPS\")\n",
    "ax1.plot(launch.rnhp.time[100:-100], port_7_filter[100:-100], alpha=0.75, label=\"Roll Control Servo Actuator\")\n",
    "ax1.plot(launch.rnhp.time[100:-100], port_6_filter[100:-100], alpha=0.75, label=\"WiFi Power Amp\")\n",
    "\n",
    "plt.xlim([-5,42])\n",
    "plt.ylim([0,1.5])\n",
    "plt.legend(loc=2)\n",
    "plt.show()"
   ]
  },
  {
   "cell_type": "markdown",
   "metadata": {},
   "source": [
    "The roll control system comes on at $t=0$ and turns intself off at $t=32$. This does appear to mess with the power draw of the whole system. There is a mysterious jump in the WiFi power draw at $~t=26$."
   ]
  },
  {
   "cell_type": "code",
   "execution_count": null,
   "metadata": {
    "collapsed": false
   },
   "outputs": [],
   "source": [
    "fig, ax1 = plt.subplots(figsize=(16,6))\n",
    "plt.title(r\"Avionics System Voltage\")\n",
    "plt.xlabel(r\"Mission Elapsed Time [s]\")\n",
    "plt.ylabel(r\"Voltage [V]\")\n",
    "\n",
    "ax1.plot(launch.rnhh.time, launch.rnhh.voltage, alpha=0.75, label=\"System Voltage\")\n",
    "\n",
    "plt.xlim([-5,42])\n",
    "plt.ylim([14,18])\n",
    "#ax1.legend(loc=2)\n",
    "plt.show()"
   ]
  },
  {
   "cell_type": "markdown",
   "metadata": {},
   "source": [
    "Not much to see here. Two small transients that seem to match the large current draw spikes in the system power."
   ]
  },
  {
   "cell_type": "code",
   "execution_count": null,
   "metadata": {
    "collapsed": false
   },
   "outputs": [],
   "source": [
    "print \"\"\"The average power draw during the flight was %0.2f Watts (%0.2f Amps at %0.1f Volts)\n",
    "\"\"\" % (average(launch.rnhh.voltage) * -average(launch.rnhh.current), -average(launch.rnhh.current), average(launch.rnhh.voltage))"
   ]
  },
  {
   "cell_type": "markdown",
   "metadata": {},
   "source": [
    "That's a lot of power! Our system battery is a 4s stack of liPo's rated for ~60 Wh. That's about two hours of autonomous flight. We have umbilical power until the last few minutes of the countdown.\n",
    "\n",
    "## RasPi Computers\n",
    "\n",
    "In addition to the main flight computer, we had two Raspberry Pi single-board computers as video recorder/processers. These also took power from the system power supply:"
   ]
  },
  {
   "cell_type": "code",
   "execution_count": null,
   "metadata": {
    "collapsed": false
   },
   "outputs": [],
   "source": [
    "fig, ax1 = plt.subplots(figsize=(16,6))\n",
    "plt.title(r\"Avionics System Current Consumption\")\n",
    "plt.xlabel(r\"Mission Elapsed Time [s]\")\n",
    "plt.ylabel(r\"Current [A]\")\n",
    "\n",
    "ax1.plot(launch.rnhp.time[100:-100], port_2_filter[100:-100], alpha=0.75, label=\"RasPi 1\")\n",
    "ax1.plot(launch.rnhp.time[100:-100], port_4_filter[100:-100], alpha=0.75, label=\"RasPi 2\")\n",
    "\n",
    "plt.xlim([-5,42])\n",
    "plt.ylim([0,1.3])\n",
    "plt.legend(loc=2)\n",
    "plt.show()"
   ]
  },
  {
   "cell_type": "markdown",
   "metadata": {},
   "source": [
    "Due to a camera failure just before flight, we flew with RasPi 1 powered off.\n",
    "\n",
    "## Missing Packets\n",
    "\n",
    "One potential question to ask is there any correlation with the power system and missing data packets. Here is the total power, adding up the current reported from each subsystem, both raw and low pass filtered.\n",
    "\n",
    "There are some spikes, do they line up at all with the missing data?"
   ]
  },
  {
   "cell_type": "code",
   "execution_count": null,
   "metadata": {
    "collapsed": false
   },
   "outputs": [],
   "source": [
    "total_power = launch.rnhp.port_1 + launch.rnhp.port_2 + launch.rnhp.port_3 + launch.rnhp.port_4 + launch.rnhp.port_6 + launch.rnhp.port_7 + launch.rnhp.port_8\n",
    "\n",
    "# Filter requirements.\n",
    "order = 6\n",
    "fs = launch.rnhp.fs\n",
    "cutoff = 15       # desired cutoff frequency of the filter, Hz\n",
    "nyq = 0.5 * fs\n",
    "normal_cutoff = cutoff / nyq\n",
    "\n",
    "# Get the filter coefficients so we can check its frequency response.\n",
    "b, a = butter(order, normal_cutoff, btype='low', analog=False)\n",
    "total_power_filter = lfilter(b, a, total_power)\n",
    "\n",
    "fig, ax1 = plt.subplots(figsize=(16,6))\n",
    "plt.title(r\"Avionics System Current Consumption\")\n",
    "plt.xlabel(r\"Mission Elapsed Time [s]\")\n",
    "plt.ylabel(r\"Current [A]\")\n",
    "ax1.plot(launch.rnhp.time, total_power, 'k-', alpha=0.12, label=\"Total Power Raw\")\n",
    "ax1.plot(launch.rnhp.time[100:-100], total_power_filter[100:-100], alpha=0.8, label=\"Total Power Filtered\")\n",
    "\n",
    "for t in launch.seqe.time:\n",
    "    plt.plot((t, t), (-10, 10), 'k-', alpha=0.7)\n",
    "plt.plot((-5, -5), (-10, 10), 'k-', alpha=0.7, label=\"Data Gaps\")\n",
    "\n",
    "plt.xlim([-5,42])\n",
    "plt.ylim([0,5.5])\n",
    "plt.legend(loc=2)\n",
    "plt.show()"
   ]
  },
  {
   "cell_type": "markdown",
   "metadata": {},
   "source": [
    "Nothing obvious in total power, the apparent missing data right at liftoff upon further investigation is spurious and not a real data gap."
   ]
  },
  {
   "cell_type": "code",
   "execution_count": null,
   "metadata": {
    "collapsed": false
   },
   "outputs": [],
   "source": [
    "fig, ax1 = plt.subplots(figsize=(16,6))\n",
    "plt.title(r\"Avionics System Current Consumption\")\n",
    "plt.xlabel(r\"Mission Elapsed Time [s]\")\n",
    "plt.ylabel(r\"Current [A]\")\n",
    "\n",
    "ax1.plot(launch.rnhp.time[100:-100], port_1_filter[100:-100], alpha=0.75, label=\"Flight Comptuer\")\n",
    "ax1.plot(launch.rnhp.time[100:-100], port_8_filter[100:-100], alpha=0.75, label=\"IMU\")\n",
    "ax1.plot(launch.rnhp.time[100:-100], port_3_filter[100:-100], alpha=0.75, label=\"GPS\")\n",
    "ax1.plot(launch.rnhp.time[100:-100], port_7_filter[100:-100], alpha=0.75, label=\"Roll Control Servo Actuator\")\n",
    "ax1.plot(launch.rnhp.time[100:-100], port_6_filter[100:-100], alpha=0.75, label=\"WiFi Power Amp\")\n",
    "ax1.plot(launch.rnhp.time[100:-100], port_4_filter[100:-100], alpha=0.75, label=\"RasPi 2\")\n",
    "\n",
    "for t in launch.seqe.time[1:]:\n",
    "    plt.plot((t, t), (-10, 10), 'k-', alpha=0.7)\n",
    "plt.plot((-5, -5), (-10, 10), 'k-', alpha=0.7, label=\"Data Gaps\")\n",
    "\n",
    "plt.xlim([-5,42])\n",
    "plt.ylim([0,1.9])\n",
    "plt.legend(loc=2)\n",
    "plt.show()"
   ]
  },
  {
   "cell_type": "markdown",
   "metadata": {},
   "source": [
    "A mildly plausible correlation in Flight Comptuer power at $t=34.72$. Nothing else stands out."
   ]
  },
  {
   "cell_type": "markdown",
   "metadata": {},
   "source": []
  }
 ],
 "metadata": {
  "kernelspec": {
   "display_name": "Python 2",
   "language": "python",
   "name": "python2"
  },
  "language_info": {
   "codemirror_mode": {
    "name": "ipython",
    "version": 2
   },
   "file_extension": ".py",
   "mimetype": "text/x-python",
   "name": "python",
   "nbconvert_exporter": "python",
   "pygments_lexer": "ipython2",
   "version": "2.7.10+"
  }
 },
 "nbformat": 4,
 "nbformat_minor": 0
}
