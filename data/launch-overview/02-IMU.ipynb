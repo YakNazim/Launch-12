{
 "cells": [
  {
   "cell_type": "markdown",
   "metadata": {},
   "source": [
    "# IMU Data\n",
    "\n",
    "Begining with acceleration, we can look at the data from our primary IMU.\n",
    "\n",
    "\n",
    "## Acceleration\n",
    "\n",
    "We start off looking at the vertical component (in body frame) of the measured acceleration during the flight."
   ]
  },
  {
   "cell_type": "code",
   "execution_count": null,
   "metadata": {
    "collapsed": true
   },
   "outputs": [],
   "source": [
    "from numpy import array, subtract, divide, multiply, median, std, var\n",
    "import matplotlib.pyplot as plt\n",
    "%matplotlib inline\n",
    "from IPython.display import set_matplotlib_formats\n",
    "set_matplotlib_formats('png', 'pdf')\n",
    "import launch\n",
    "\n",
    "g_0 = 9.80665\n",
    "\n",
    "adis_time, gyro_x, gyro_y, gyro_z, acc_x, acc_y, acc_z, mag_x, mag_y, mag_z = launch.ADIS_data()"
   ]
  },
  {
   "cell_type": "code",
   "execution_count": null,
   "metadata": {
    "collapsed": false
   },
   "outputs": [],
   "source": [
    "# lightly lowpass\n",
    "from scipy.signal import butter, lfilter, freqz\n",
    "\n",
    "# Filter requirements.\n",
    "order = 6\n",
    "fs = 819.2       # sample rate, Hz\n",
    "cutoff = 20   # desired cutoff frequency of the filter, Hz\n",
    "nyq = 0.5 * fs\n",
    "normal_cutoff = cutoff / nyq\n",
    "\n",
    "# Get the filter coefficients so we can check its frequency response.\n",
    "b, a = butter(order, normal_cutoff, btype='low', analog=False)\n",
    "acc_x_filter = lfilter(b, a, acc_x)"
   ]
  },
  {
   "cell_type": "code",
   "execution_count": null,
   "metadata": {
    "collapsed": false
   },
   "outputs": [],
   "source": [
    "fig, ax1 = plt.subplots(figsize=(16,6))\n",
    "plt.title(r\"IMU Vertical Acceleration (Measured)\")\n",
    "plt.ylabel(r\"Measured Acceleration [m/s${}^2$]\")\n",
    "plt.xlabel(r\"Mission Elapsed Time [s]\")\n",
    "\n",
    "plt.plot(adis_time[200:-200], acc_x_filter[200:-200], alpha=0.75)\n",
    "\n",
    "plt.xlim([-5,42])\n",
    "#ax1.legend(loc=1)\n",
    "plt.show()"
   ]
  },
  {
   "cell_type": "markdown",
   "metadata": {},
   "source": [
    "We 'see' gravity (~9.8 m/s$^2$) at the begining, followed by the main thrust of the rocket motor. Then the acceleration goes negative (due to drag after the motor burns out) and stays around 0 (in freefall) until the chute's open and there is chaos. This is a pretty classic acceleration curve from a high powered rocket.\n"
   ]
  },
  {
   "cell_type": "code",
   "execution_count": null,
   "metadata": {
    "collapsed": false
   },
   "outputs": [],
   "source": [
    "apeak = max(acc_x_filter[200:-200])\n",
    "abreak = min(acc_x_filter[200:-200])\n",
    "print \"\"\"During boost we see a peak accleration of %0.0f m/s/s (%0.1f g)\n",
    "and right after burnout the aerodynamic drag on the rocket immediatly\n",
    "pulls us back to %0.1f m/s/s (%0.1f g).\"\"\" % (apeak, apeak/launch.g_0, abreak, abreak/launch.g_0)"
   ]
  },
  {
   "cell_type": "markdown",
   "metadata": {},
   "source": [
    "## Velocity\n",
    "\n",
    "We can take this vertical acclereation data (subtract gravity!) and integrate it we get vertical veloctcity."
   ]
  },
  {
   "cell_type": "code",
   "execution_count": null,
   "metadata": {
    "collapsed": true
   },
   "outputs": [],
   "source": [
    "from scipy.integrate import simps\n",
    "\n",
    "tacc_x = subtract(acc_x, launch.g_0)\n",
    "\n",
    "velocity = [0]\n",
    "for i in range(len(acc_x)):\n",
    "    if(i > 0):\n",
    "        velocity.append(simps(tacc_x[:i], adis_time[:i]))"
   ]
  },
  {
   "cell_type": "code",
   "execution_count": null,
   "metadata": {
    "collapsed": false
   },
   "outputs": [],
   "source": [
    "fig, ax1 = plt.subplots(figsize=(16,6))\n",
    "plt.title(r\"IMU Integrated Vertical Velocity\")\n",
    "plt.ylabel(r\"Integrated Velocity [m/s]\")\n",
    "plt.xlabel(r\"Mission Elapsed Time [s]\")\n",
    "\n",
    "plt.plot(adis_time, velocity, alpha=0.75, label=\"velocity\")\n",
    "\n",
    "plt.xlim([-5,42])\n",
    "#ax1.legend(loc=1)\n",
    "plt.show()"
   ]
  },
  {
   "cell_type": "code",
   "execution_count": null,
   "metadata": {
    "collapsed": false
   },
   "outputs": [],
   "source": [
    "vpeak = max(velocity)\n",
    "print \"\"\"This shows a peak velocity of %0.0f m/s (Mach %0.1f). That's a max velocity\n",
    "of just over the speed of sound!\n",
    "\"\"\" % (vpeak, vpeak/launch.M)"
   ]
  },
  {
   "cell_type": "markdown",
   "metadata": {},
   "source": [
    "## Altitude\n",
    "\n",
    "And now that we have velocity we integrate a second time to solve for altitude. Note that the rocket started at about 1,390 meters above sealevel, this is altitude above ground (AGL), not sea level reference."
   ]
  },
  {
   "cell_type": "code",
   "execution_count": null,
   "metadata": {
    "collapsed": false
   },
   "outputs": [],
   "source": [
    "alt = [0]\n",
    "for i in range(len(velocity)):\n",
    "    if(i > 0):\n",
    "        alt.append(simps(velocity[:i], adis_time[:i]))"
   ]
  },
  {
   "cell_type": "code",
   "execution_count": null,
   "metadata": {
    "collapsed": false
   },
   "outputs": [],
   "source": [
    "fig, ax1 = plt.subplots(figsize=(16,6))\n",
    "plt.title(r\"IMU Integrated Altitude\")\n",
    "plt.ylabel(r\"Integrated Altitude AGL [km]\")\n",
    "plt.xlabel(r\"Mission Elapsed Time [s]\")\n",
    "\n",
    "plt.plot(adis_time, divide(alt,1000.0), alpha=0.75, label=\"Altitude\")\n",
    "\n",
    "plt.xlim([-5,42])\n",
    "#ax1.legend(loc=1)\n",
    "plt.show()"
   ]
  },
  {
   "cell_type": "code",
   "execution_count": null,
   "metadata": {
    "collapsed": false
   },
   "outputs": [],
   "source": [
    "altpeak = max(alt)\n",
    "print \"\"\"Peak altitude of the rocket meausured with this method is %0.2f km AGL (%0.2f km MSL).\n",
    "\"\"\" % (altpeak/1000.0, (altpeak+launch.rail_alt)/1000.0)"
   ]
  },
  {
   "cell_type": "markdown",
   "metadata": {},
   "source": [
    "It's important to note that the integrated results above (velocity and acceleration) are preliminary and don't inlcude full solutions or filting and data fusion. Interation error will creep in quickly. A full solution is presented later in this paper."
   ]
  },
  {
   "cell_type": "code",
   "execution_count": null,
   "metadata": {
    "collapsed": false
   },
   "outputs": [],
   "source": [
    "# Write intermediate results for future use\n",
    "with open('uncalibrated_integrated_velocity.csv', 'w') as fout:\n",
    "    for i, t in enumerate(adis_time):\n",
    "        fout.write(\",\".join([\"%0.12f\"%t, \"%0.3f\"%velocity[i]]))\n",
    "        fout.write(\"\\n\")\n",
    "\n",
    "with open('uncalibrated_integrated_altitude.csv', 'w') as fout:\n",
    "    for i, t in enumerate(adis_time):\n",
    "        fout.write(\",\".join([\"%0.12f\"%t, \"%0.3f\"%alt[i]]))\n",
    "        fout.write(\"\\n\")"
   ]
  },
  {
   "cell_type": "markdown",
   "metadata": {},
   "source": []
  }
 ],
 "metadata": {
  "kernelspec": {
   "display_name": "Python 2",
   "language": "python",
   "name": "python2"
  },
  "language_info": {
   "codemirror_mode": {
    "name": "ipython",
    "version": 2
   },
   "file_extension": ".py",
   "mimetype": "text/x-python",
   "name": "python",
   "nbconvert_exporter": "python",
   "pygments_lexer": "ipython2",
   "version": "2.7.10+"
  }
 },
 "nbformat": 4,
 "nbformat_minor": 0
}
