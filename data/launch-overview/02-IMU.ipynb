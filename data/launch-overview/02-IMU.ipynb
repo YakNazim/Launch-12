{
 "cells": [
  {
   "cell_type": "markdown",
   "metadata": {},
   "source": [
    "# IMU Data\n",
    "\n",
    "## Acceleration\n",
    "\n",
    "We start off looking at the vertical component (in body frame) of the measured acceleration during the flight:"
   ]
  },
  {
   "cell_type": "code",
   "execution_count": null,
   "metadata": {
    "collapsed": false
   },
   "outputs": [],
   "source": [
    "from numpy import loadtxt, array, subtract, divide, multiply, median, std, var\n",
    "import matplotlib.pyplot as plt\n",
    "%matplotlib inline\n",
    "from IPython.display import set_matplotlib_formats\n",
    "set_matplotlib_formats('png', 'pdf')\n",
    "\n",
    "g_0 = 9.80665\n",
    "\n",
    "columns = loadtxt(\"../fc-data/ADIS.csv\", delimiter=',', unpack=True)\n",
    "\n",
    "seqn = columns[0]\n",
    "timestamp = columns[1]\n",
    "gyro_x = columns[3]\n",
    "gyro_y = columns[4]\n",
    "gyro_z = columns[5]\n",
    "acc_x = columns[6]\n",
    "acc_y = columns[7]\n",
    "acc_z = columns[8]\n",
    "\n",
    "t_0 = 117853569585227\n",
    "\n",
    "timestamp = subtract(timestamp, t_0)\n",
    "timestamp = divide(timestamp, 1e9)\n",
    "\n",
    "ax = plt.figure(figsize=(16,10))\n",
    "plt.title(r\"IMU Vertical Acceleration\")\n",
    "plt.ylabel(r\"Measured Acceleration [m/s$^2$]\")\n",
    "plt.xlabel(r\"Mission Elapsed Time [s]\")\n",
    "plt.plot(timestamp, acc_x, alpha=0.75)\n",
    "ax.axes[0].set_xlim([-5,42])\n",
    "plt.show()"
   ]
  },
  {
   "cell_type": "markdown",
   "metadata": {},
   "source": [
    "We see gravity (~9.8 m/s$^2$) at the begining, followed by the main thrust of the rocket motor. Then the acceleration goes negative (due to drag after the motor burns out) and stays around 0 (in freefall) until the chute's open and there is chaos.\n",
    "\n",
    "Some numbers from the acclerometer:"
   ]
  },
  {
   "cell_type": "code",
   "execution_count": null,
   "metadata": {
    "collapsed": false
   },
   "outputs": [],
   "source": [
    "print \"Peak acceleration:  %0.0f m/s/s (%0.1f g)\" % (max(acc_x), max(acc_x)/g_0)\n",
    "print \"Peak deceleration:  %0.0f m/s/s (%0.1f g)\" % (min(acc_x), min(acc_x)/g_0)"
   ]
  },
  {
   "cell_type": "markdown",
   "metadata": {},
   "source": []
  }
 ],
 "metadata": {
  "kernelspec": {
   "display_name": "Python 2",
   "language": "python",
   "name": "python2"
  },
  "language_info": {
   "codemirror_mode": {
    "name": "ipython",
    "version": 2
   },
   "file_extension": ".py",
   "mimetype": "text/x-python",
   "name": "python",
   "nbconvert_exporter": "python",
   "pygments_lexer": "ipython2",
   "version": "2.7.10+"
  }
 },
 "nbformat": 4,
 "nbformat_minor": 0
}
