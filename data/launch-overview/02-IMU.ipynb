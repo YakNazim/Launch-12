{
 "cells": [
  {
   "cell_type": "markdown",
   "metadata": {},
   "source": [
    "# IMU Data\n",
    "\n",
    "## Acceleration\n",
    "\n",
    "We start off looking at the vertical component (in body frame) of the measured acceleration during the flight:"
   ]
  },
  {
   "cell_type": "code",
   "execution_count": null,
   "metadata": {
    "collapsed": false
   },
   "outputs": [],
   "source": [
    "from numpy import loadtxt, array, subtract, divide, multiply, median, std, var\n",
    "import matplotlib.pyplot as plt\n",
    "%matplotlib inline\n",
    "from IPython.display import set_matplotlib_formats\n",
    "set_matplotlib_formats('png', 'pdf')\n",
    "\n",
    "g_0 = 9.80665\n",
    "\n",
    "columns = loadtxt(\"../fc-data/ADIS.csv\", delimiter=',', unpack=True)\n",
    "\n",
    "seqn = columns[0]\n",
    "timestamp = columns[1]\n",
    "gyro_x = columns[3]\n",
    "gyro_y = columns[4]\n",
    "gyro_z = columns[5]\n",
    "acc_x = columns[6]\n",
    "acc_y = columns[7]\n",
    "acc_z = columns[8]\n",
    "\n",
    "t_0 = 117853569585227\n",
    "\n",
    "timestamp = subtract(timestamp, t_0)\n",
    "timestamp = divide(timestamp, 1e9)"
   ]
  },
  {
   "cell_type": "code",
   "execution_count": null,
   "metadata": {
    "collapsed": false
   },
   "outputs": [],
   "source": [
    "# lightly lowpass\n",
    "from scipy.signal import butter, lfilter, freqz\n",
    "\n",
    "# Filter requirements.\n",
    "order = 6\n",
    "fs = 819.2       # sample rate, Hz\n",
    "cutoff = 20   # desired cutoff frequency of the filter, Hz\n",
    "nyq = 0.5 * fs\n",
    "normal_cutoff = cutoff / nyq\n",
    "\n",
    "# Get the filter coefficients so we can check its frequency response.\n",
    "b, a = butter(order, normal_cutoff, btype='low', analog=False)\n",
    "acc_x_filter = lfilter(b, a, acc_x)"
   ]
  },
  {
   "cell_type": "code",
   "execution_count": null,
   "metadata": {
    "collapsed": false
   },
   "outputs": [],
   "source": [
    "ax = plt.figure(figsize=(16,10))\n",
    "plt.title(r\"IMU Vertical Acceleration\")\n",
    "plt.ylabel(r\"Measured Acceleration [m/s$^2$]\")\n",
    "plt.xlabel(r\"Mission Elapsed Time [s]\")\n",
    "#plt.plot(timestamp, acc_x, 'b-', alpha=0.2)\n",
    "plt.plot(timestamp[200:-200], acc_x_filter[200:-200], alpha=0.75)\n",
    "ax.axes[0].set_xlim([-5,42])\n",
    "plt.show()"
   ]
  },
  {
   "cell_type": "markdown",
   "metadata": {},
   "source": [
    "We see gravity (~9.8 m/s$^2$) at the begining, followed by the main thrust of the rocket motor. Then the acceleration goes negative (due to drag after the motor burns out) and stays around 0 (in freefall) until the chute's open and there is chaos.\n",
    "\n",
    "Some numbers from the acclerometer:"
   ]
  },
  {
   "cell_type": "code",
   "execution_count": null,
   "metadata": {
    "collapsed": false
   },
   "outputs": [],
   "source": [
    "apeak = max(acc_x_filter[200:-200])\n",
    "abreak = min(acc_x_filter[200:-200])\n",
    "print \"Peak acceleration:  %0.0f m/s/s (%0.1f g)\" % (apeak, apeak/g_0)\n",
    "print \"Peak deceleration:  %0.0f m/s/s (%0.1f g)\" % (abreak, abreak/g_0)"
   ]
  },
  {
   "cell_type": "markdown",
   "metadata": {},
   "source": [
    "## Velocity\n",
    "\n",
    "Knowing the acceleration we can take integrate once to get velocity."
   ]
  },
  {
   "cell_type": "code",
   "execution_count": null,
   "metadata": {
    "collapsed": true
   },
   "outputs": [],
   "source": [
    "from scipy.integrate import simps\n",
    "\n",
    "tacc_x = subtract(acc_x, g_0)\n",
    "\n",
    "velocity = []\n",
    "for i in range(len(acc_x)):\n",
    "    if(i > 0):\n",
    "        velocity.append(simps(tacc_x[:i], timestamp[:i]))"
   ]
  },
  {
   "cell_type": "code",
   "execution_count": null,
   "metadata": {
    "collapsed": false
   },
   "outputs": [],
   "source": [
    "ax = plt.figure(figsize=(16,10))\n",
    "plt.title(r\"Vertical Velocity\")\n",
    "plt.ylabel(r\"Integrated Velocity [m/s]\")\n",
    "plt.xlabel(r\"Mission Elapsed Time [s]\")\n",
    "plt.plot(timestamp[1:], velocity, alpha=0.75)\n",
    "ax.axes[0].set_xlim([-5,42])\n",
    "plt.show()"
   ]
  },
  {
   "cell_type": "code",
   "execution_count": null,
   "metadata": {
    "collapsed": false
   },
   "outputs": [],
   "source": [
    "vpeak = max(velocity)\n",
    "print \"Peak velocity:  %0.0f m/s (Mach %0.1f)\" % (vpeak, vpeak/330.0)"
   ]
  },
  {
   "cell_type": "markdown",
   "metadata": {},
   "source": [
    "That's a burnout velocity of just over the speed of sound.\n",
    "\n",
    "## Altitude\n",
    "\n",
    "And now that we have velocity we integrate a second time to solve for altitude. Note that the rocket started at 1390 m above sealevel, this is altitude above ground, not sea level reference."
   ]
  },
  {
   "cell_type": "code",
   "execution_count": null,
   "metadata": {
    "collapsed": false
   },
   "outputs": [],
   "source": [
    "alt = []\n",
    "for i in range(len(velocity)):\n",
    "    if(i > 0):\n",
    "        alt.append(simps(velocity[:i], timestamp[:i]))"
   ]
  },
  {
   "cell_type": "code",
   "execution_count": null,
   "metadata": {
    "collapsed": false
   },
   "outputs": [],
   "source": [
    "ax = plt.figure(figsize=(16,10))\n",
    "plt.title(r\"Altitude\")\n",
    "plt.ylabel(r\"Integrated Altitude AGL [km]\")\n",
    "plt.xlabel(r\"Mission Elapsed Time [s]\")\n",
    "plt.plot(timestamp[2:], divide(alt,1000.0), alpha=0.75)\n",
    "ax.axes[0].set_xlim([-5,42])\n",
    "plt.show()"
   ]
  },
  {
   "cell_type": "code",
   "execution_count": null,
   "metadata": {
    "collapsed": false
   },
   "outputs": [],
   "source": [
    "altpeak = max(alt)\n",
    "print \"Peak altitude:  %0.2f km AGL (%0.2f km MSL)\" % (altpeak/1000.0, (altpeak+1390.0)/1000.0)"
   ]
  },
  {
   "cell_type": "markdown",
   "metadata": {},
   "source": [
    "It's important to note that the integrated results above (velocity and acceleration) are preliminary and don't inlcude full solutions or filting and data fusion. Interation error will creep in quickly. A full solution is presented later in this paper."
   ]
  },
  {
   "cell_type": "code",
   "execution_count": null,
   "metadata": {
    "collapsed": false
   },
   "outputs": [],
   "source": [
    "# Write intermediat results for future use\n",
    "with open('uncalibrated_integrated_velocity.csv', 'w') as fout:\n",
    "    for i, t in enumerate(timestamp[1:]):\n",
    "        fout.write(\",\".join([\"%0.12f\"%t, \"%0.3f\"%velocity[i]]))\n",
    "        fout.write(\"\\n\")\n",
    "\n",
    "with open('uncalibrated_integrated_altitude.csv', 'w') as fout:\n",
    "    for i, t in enumerate(timestamp[2:]):\n",
    "        fout.write(\",\".join([\"%0.12f\"%t, \"%0.3f\"%alt[i]]))\n",
    "        fout.write(\"\\n\")"
   ]
  },
  {
   "cell_type": "markdown",
   "metadata": {},
   "source": []
  }
 ],
 "metadata": {
  "kernelspec": {
   "display_name": "Python 2",
   "language": "python",
   "name": "python2"
  },
  "language_info": {
   "codemirror_mode": {
    "name": "ipython",
    "version": 2
   },
   "file_extension": ".py",
   "mimetype": "text/x-python",
   "name": "python",
   "nbconvert_exporter": "python",
   "pygments_lexer": "ipython2",
   "version": "2.7.10+"
  }
 },
 "nbformat": 4,
 "nbformat_minor": 0
}
