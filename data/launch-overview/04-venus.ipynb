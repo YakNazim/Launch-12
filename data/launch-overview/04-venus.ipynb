{
 "cells": [
  {
   "cell_type": "markdown",
   "metadata": {},
   "source": [
    "# Venus8 GPS\n",
    "\n",
    "Comercially availible GPS receivers are problematic for rockets. For technical reasons filters and satellite tracking loops in off the shelf GPS chips are focused on surface uses. Even for aviation grade GPS (much, more expensive!) they do not expect you to accelerate straight up at 10 g's.\n",
    "\n",
    "Aside from the technical challenge of keeping lock under high g-load, there are legal restrictions in place for GPS as well. Usually refered to \"COCOM limits\", all purchased GPS units must stop giving valid data above certain speeds and altitudes.\n",
    "\n",
    "This makes things very difficult on a rocket. Often you run into COCOM limits and acceleration errors at the same time (high accleration and speed).\n",
    "\n",
    "## Reported Fix Information\n",
    "\n",
    "The Venus8 chip will report how good a fix it has as it goes. We can plot both the number or locked satellites and the \"Fix Mode\" which will tell us \"no lock\", \"2D fix\", or various grades of full position fix modes."
   ]
  },
  {
   "cell_type": "code",
   "execution_count": null,
   "metadata": {
    "collapsed": false
   },
   "outputs": [],
   "source": [
    "from numpy import loadtxt, array, subtract, divide, multiply, median, std, var, average, arange, absolute\n",
    "import matplotlib.pyplot as plt\n",
    "%matplotlib inline\n",
    "from IPython.display import set_matplotlib_formats\n",
    "set_matplotlib_formats('png', 'pdf')\n",
    "\n",
    "t_0 = 117853569585227\n",
    "\n",
    "columns = loadtxt(\"../fc-data/V8A8.csv\", delimiter=',', unpack=True)\n",
    "\n",
    "seqn = columns[0]\n",
    "timestamp = columns[1]\n",
    "fix_mode = columns[2]\n",
    "num_sv = columns[3]\n",
    "latitude = columns[6]\n",
    "longitude = columns[7]\n",
    "altmsl = columns[9]\n",
    "GDOP = columns[10]\n",
    "PDOP = columns[1]\n",
    "HDOP = columns[13]\n",
    "VDOP = columns[14]\n",
    "TDOP = columns[15]\n",
    "vel_x = columns[18]\n",
    "vel_y = columns[19]\n",
    "vel_z = columns[20]\n",
    "\n",
    "timestamp = subtract(timestamp, t_0)\n",
    "timestamp = divide(timestamp, 1e9)\n",
    "\n",
    "\n",
    "columns = loadtxt(\"../fc-data/ADIS.csv\", delimiter=',', unpack=True)\n",
    "\n",
    "acctime = columns[1]\n",
    "acc_x = columns[6]\n",
    "\n",
    "acctime = subtract(acctime, t_0)\n",
    "acctime = divide(acctime, 1e9)\n",
    "\n",
    "# lightly lowpass\n",
    "from scipy.signal import butter, lfilter, freqz\n",
    "\n",
    "# Filter requirements.\n",
    "order = 6\n",
    "fs = 819.2       # sample rate, Hz\n",
    "cutoff = 20   # desired cutoff frequency of the filter, Hz\n",
    "nyq = 0.5 * fs\n",
    "normal_cutoff = cutoff / nyq\n",
    "\n",
    "# Get the filter coefficients so we can check its frequency response.\n",
    "b, a = butter(order, normal_cutoff, btype='low', analog=False)\n",
    "acc_x_filter = lfilter(b, a, acc_x)\n",
    "\n",
    "\n",
    "fig, ax1 = plt.subplots(figsize=(16,9))\n",
    "plt.title(r\"Venus 8 GPS Reciever Reported Fix \")\n",
    "plt.xlabel(r\"Mission Elapsed Time [s]\")\n",
    "plt.ylabel(r\"#\")\n",
    "ax1.plot(timestamp, num_sv, alpha=0.75, label=\"Number of Sats locked\")\n",
    "ax1.plot(timestamp, fix_mode, lw=3, alpha=0.75, label=\"Reported Fix Mode (2=3D Fix, 3=3D Fix + DGPS)\")\n",
    "\n",
    "\n",
    "ax2 = ax1.twinx()\n",
    "ax2.set_ylabel(r\"Acceleration [m/s${}^2$]\")\n",
    "ax2.plot(acctime[200:-200], acc_x_filter[200:-200], 'k-', alpha=0.18, label=\"IMU Acceleration\")\n",
    "ax2.grid(b=False)\n",
    "ax2.set_ylim([-50,150])\n",
    "\n",
    "\n",
    "ax1.set_xlim([-5,42])\n",
    "ax2.set_xlim([-5,42])\n",
    "ax1.set_ylim([0,12])\n",
    "ax1.legend(loc=2)\n",
    "ax2.legend(loc=1)\n",
    "plt.show()"
   ]
  },
  {
   "cell_type": "markdown",
   "metadata": {},
   "source": [
    "At least initially, it would look like the Venus tracked the entire flight! Though, well see this is in fact not true.\n",
    "\n",
    "In GPS we can also get reports of the \"Dilution of Precision\" (DOP) over time. This is related to how good a constellation you have at any moment and some errors in the psuodoranges to the satellites. Lower numbers are better."
   ]
  },
  {
   "cell_type": "code",
   "execution_count": null,
   "metadata": {
    "collapsed": false
   },
   "outputs": [],
   "source": [
    "fig, ax1 = plt.subplots(figsize=(16,9))\n",
    "plt.title(r\"Venus 8 GPS Reciever DOP\")\n",
    "plt.xlabel(r\"Mission Elapsed Time [s]\")\n",
    "plt.ylabel(r\"Dilution of Precision\")\n",
    "ax1.plot(timestamp, GDOP, alpha=0.75, label=\"GDOP\")\n",
    "ax1.plot(timestamp, VDOP, alpha=0.75, label=\"VDOP\")\n",
    "ax1.plot(timestamp, HDOP, alpha=0.75, label=\"HDOP\")\n",
    "#ax1.set_ylim([0,12])\n",
    "\n",
    "\n",
    "ax2 = ax1.twinx()\n",
    "ax2.set_ylabel(r\"Acceleration [m/s${}^2$]\")\n",
    "ax2.plot(acctime[200:-200], acc_x_filter[200:-200], 'k-', alpha=0.18, label=\"IMU Acceleration\")\n",
    "ax2.grid(b=False)\n",
    "ax2.set_ylim([-50,150])\n",
    "\n",
    "ax1.set_xlim([-5,42])\n",
    "ax2.set_xlim([-5,42])\n",
    "ax1.legend(loc=2)\n",
    "ax2.legend(loc=1)\n",
    "plt.show()"
   ]
  },
  {
   "cell_type": "markdown",
   "metadata": {},
   "source": [
    "Again the Venus misleadingly reports very good results.\n",
    "\n",
    "## Altitude\n",
    "\n",
    "If the fix is good, we should be able to see the rocket flight in high precision. Let's look at the reported altitdue from the Venus8 GPS chip."
   ]
  },
  {
   "cell_type": "code",
   "execution_count": null,
   "metadata": {
    "collapsed": false
   },
   "outputs": [],
   "source": [
    "fig, ax1 = plt.subplots(figsize=(16,9))\n",
    "plt.title(r\"Venus 8 GPS Reciever Altitude\")\n",
    "plt.xlabel(r\"Mission Elapsed Time [s]\")\n",
    "plt.ylabel(r\"Altitude AGL [km]\")\n",
    "ax1.plot(timestamp, divide(subtract(altmsl, 1390), 1000.0), alpha=0.75)\n",
    "ax1.set_xlim([-5,42])\n",
    "#ax1.set_ylim([0,12])\n",
    "plt.show()"
   ]
  },
  {
   "cell_type": "markdown",
   "metadata": {},
   "source": [
    "Oops. The venus does not report altitude for nearly the **entire** flight. There is also a mysterious instantaneous vertical bump t+31 seconds.\n",
    "\n",
    "Though we can see the exact altitude of the GPS antenna just before launch above sea level:"
   ]
  },
  {
   "cell_type": "code",
   "execution_count": null,
   "metadata": {
    "collapsed": false
   },
   "outputs": [],
   "source": [
    "print \"MSL Altitude pre-launch:  %0.3f m\" % average(altmsl[:30])"
   ]
  },
  {
   "cell_type": "markdown",
   "metadata": {},
   "source": [
    "## Position\n",
    "\n",
    "We also get lat/lon pairs for the flight."
   ]
  },
  {
   "cell_type": "code",
   "execution_count": null,
   "metadata": {
    "collapsed": false
   },
   "outputs": [],
   "source": [
    "from mpl_toolkits.basemap import Basemap\n",
    "import json\n",
    "\n",
    "with open('map.json', 'r') as geojson:\n",
    "    geo = json.loads(geojson.read())\n",
    "\n",
    "    roads = []\n",
    "    for coll in geo['features']:\n",
    "        if coll[u'properties'][u'description'] == \"road\":\n",
    "            lat = [c[1] for c in coll[u'geometry'][u'coordinates']]\n",
    "            lon = [c[0] for c in coll[u'geometry'][u'coordinates']]\n",
    "            roads.append((lon, lat))\n",
    "\n",
    "ax = plt.figure(figsize=(16,16))\n",
    "plt.title(\"Launch Site\")\n",
    "\n",
    "m = Basemap(projection='aea',\n",
    "            lat_0=43.798,lon_0=-120.6517534,\n",
    "            width=1800,height=1100,resolution ='c')\n",
    "\n",
    "m.drawparallels(arange(  43.4,  44.0,0.002),labels=[1,1,0,0], color='#cccccc', dashes=(3,7))\n",
    "m.drawmeridians(arange(-120.8,-120.4,0.002),labels=[0,0,0,1], color='#cccccc', dashes=(3,7))\n",
    "\n",
    "                        \n",
    "mx, my = m(-120.64904987812042, 43.798809500361756)\n",
    "plt.text(mx, my, \"Flight Line\", color=\"#444444\", rotation=-13, ha='center', va='center')\n",
    "\n",
    "for road in roads:\n",
    "    rx, ry = m(road[0], road[1])\n",
    "    m.plot(rx,ry, color=\"#cccccc\", alpha=1, lw=3.0)\n",
    "    \n",
    "x, y = m(longitude, latitude)\n",
    "m.plot(x,y,'b-', alpha=0.1)\n",
    "m.plot(x,y,'r.')\n",
    "\n",
    "\n",
    "mx, my = m(longitude[0], latitude[0])\n",
    "m.plot(mx, my, '+', color=\"#999999\", markersize=20, markeredgewidth=1.0)\n",
    "plt.text(mx-5, my-5, \"Launch Tower\", color=\"#444444\", rotation=45, ha='right', va='top')\n",
    "\n",
    "    \n",
    "plt.show()"
   ]
  },
  {
   "cell_type": "markdown",
   "metadata": {},
   "source": [
    "The flight trace is in red, and gaps (thin blue line connects where the trace should cover) are where the Venus again reports the same position throughout the flight until it suddently snaps to the correct position at apogee.\n",
    "\n",
    "\n",
    "## Velocity\n",
    "\n",
    "GPS can actually determine velocity separately from postition by comparing the doppler shifts from each satellite. Here is the total velocity over time as reported by Venus"
   ]
  },
  {
   "cell_type": "code",
   "execution_count": null,
   "metadata": {
    "collapsed": false
   },
   "outputs": [],
   "source": [
    "from math import sqrt\n",
    "\n",
    "velocity = []\n",
    "for i, t in enumerate(timestamp):\n",
    "    v = sqrt((vel_x[i]*vel_x[i]) + (vel_y[i]*vel_y[i]) + (vel_z[i]*vel_z[i]))\n",
    "    velocity.append(v)\n",
    "    \n",
    "columns = loadtxt(\"uncalibrated_integrated_velocity.csv\", delimiter=',', unpack=True)\n",
    "alt_time = columns[0]\n",
    "imuvel   = columns[1]\n",
    "\n",
    "fig, ax1 = plt.subplots(figsize=(16,9))\n",
    "plt.title(r\"Venus 8 GPS Reciever Altitude\")\n",
    "plt.xlabel(r\"Mission Elapsed Time [s]\")\n",
    "plt.ylabel(r\"Altitude AGL [km]\")\n",
    "ax1.plot(alt_time, absolute(imuvel), 'k-', alpha=0.2, label=\"IMU Integrated Vertical Velocity\")\n",
    "ax1.plot(timestamp, velocity, alpha=0.75, label=\"Venus8 GPS Velocity Magnitude\")\n",
    "ax1.set_xlim([-5,42])\n",
    "#ax1.set_ylim([0,12])\n",
    "ax1.legend()\n",
    "plt.show()"
   ]
  },
  {
   "cell_type": "markdown",
   "metadata": {},
   "source": [
    "Another case of bogus data. Clearly the Venus8 lost track of everything during the launch and only reconnected after the flight was over and it was starting to open parachutes."
   ]
  },
  {
   "cell_type": "markdown",
   "metadata": {},
   "source": []
  }
 ],
 "metadata": {
  "kernelspec": {
   "display_name": "Python 2",
   "language": "python",
   "name": "python2"
  },
  "language_info": {
   "codemirror_mode": {
    "name": "ipython",
    "version": 2
   },
   "file_extension": ".py",
   "mimetype": "text/x-python",
   "name": "python",
   "nbconvert_exporter": "python",
   "pygments_lexer": "ipython2",
   "version": "2.7.10+"
  }
 },
 "nbformat": 4,
 "nbformat_minor": 0
}
