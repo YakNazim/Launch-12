{
 "cells": [
  {
   "cell_type": "markdown",
   "metadata": {},
   "source": [
    "## Linux Flight Comptuer\n",
    "\n",
    "We also had some simple monitor code running on the main flight comptuer itself. It's an Intel Atom processor running more-or-less off-the-shelf linux (Debian).\n",
    "\n",
    "We can look at the CPU usage. These numbers come from a python utility running on the flight comptuer using the `psutil` package. Health stat program can be found here:\n",
    "\n",
    "<https://github.com/psas/av3-fc/tree/master/health-monitor>\n",
    "\n",
    "From the psutil docs:\n",
    "\n",
    "> `psutil.cpu_times(percpu=False)` Return system CPU times as a namedtuple. Every attribute represents the seconds the CPU has spent in the given mode.\n",
    "\n",
    "We look at the modes `user`, `sys`, `IOwait`, `IRQ`, and `softIRQ`."
   ]
  },
  {
   "cell_type": "code",
   "execution_count": null,
   "metadata": {
    "collapsed": false
   },
   "outputs": [],
   "source": [
    "from numpy import loadtxt, array, subtract, divide, multiply, median, std, var, average, arange, absolute, insert\n",
    "from scipy.signal import butter, lfilter, freqz\n",
    "import matplotlib.pyplot as plt\n",
    "%matplotlib inline\n",
    "from IPython.display import set_matplotlib_formats\n",
    "set_matplotlib_formats('png', 'pdf')\n",
    "\n",
    "t_0 = 117853569585227\n",
    "\n",
    "columns = loadtxt(\"../fc-data/FCFH.csv\", delimiter=',', unpack=True)\n",
    "\n",
    "seqn = columns[0]\n",
    "timestamp = columns[1]\n",
    "cpu_user, cpu_sys, cpu_nice, cpu_IOwait, cpu_IRQ, cpu_softIRQ = columns[2:8]\n",
    "ram_used, ram_buffer, ram_cached = columns[8:11]\n",
    "PIDs = columns[11]\n",
    "disk_used, dsk_read, disk_Write = columns[12:15]\n",
    "IO_lo_Bytes_Sent, IO_lo_Bytes_Recv, IO_lo_Packets_Sent, IO_lo_Packets_Recv = columns[15:19]\n",
    "IO_eth0_Bytes_Sent, IO_eth0_Bytes_Recv, IO_eth0_Packets_Sent, IO_eth0_Packets_Recv = columns[19:23]\n",
    "IO_wlan0_Bytes_Sent, IO_wlan0_Bytes_Recv, IO_wlan0_Packets_Sent, IO_wlan0_Packets_Recv = columns[23:27]\n",
    "core_temp = columns[27]\n",
    "\n",
    "timestamp = subtract(timestamp, t_0)\n",
    "timestamp = divide(timestamp, 1e9)\n",
    "\n",
    "\n",
    "fig, ax1 = plt.subplots(figsize=(16,6))\n",
    "plt.title(r\"Main Flight Comptuer CPU Usage By Mode\")\n",
    "plt.xlabel(r\"Mission Elapsed Time [s]\")\n",
    "plt.ylabel(r\"CPU Use [%]\")\n",
    "ax1.fill_between(timestamp, cpu_IRQ+cpu_softIRQ+cpu_IOwait+cpu_sys+cpu_user, cpu_IRQ+cpu_softIRQ+cpu_sys+cpu_user, alpha=0.8, color=\"r\", label=\"I0 Wait\")\n",
    "ax1.fill_between(timestamp, cpu_IRQ+cpu_softIRQ+cpu_sys+cpu_user, cpu_sys+cpu_user, alpha=0.4, label=\"IRQ\")\n",
    "ax1.fill_between(timestamp, cpu_sys+cpu_user, cpu_user, alpha=0.5, color=\"#709afa\", label=\"System\")\n",
    "ax1.fill_between(timestamp, cpu_user, 0, alpha=0.5, color=\"#76e146\", label=\"User\")\n",
    "ax1.set_xlim([-5,42])\n",
    "ax1.set_ylim([0,100])\n",
    "ax1.legend(loc=2)\n",
    "plt.show()"
   ]
  },
  {
   "cell_type": "markdown",
   "metadata": {},
   "source": [
    "We notice that IO Wait times are suddently huge for brief periods during the flight. In hindsight, it would have been nice to have higher time resolution (this was recoreded at 1 Hz). Maybe should 10 Hz in the future.\n",
    "\n",
    "It's possible that the this corresponds to the data gaps. We can overlay the timing of data gaps with the cpu chart. This might indicate a problem somewhere in getting data."
   ]
  },
  {
   "cell_type": "code",
   "execution_count": null,
   "metadata": {
    "collapsed": false
   },
   "outputs": [],
   "source": [
    "columns = loadtxt(\"../fc-data/SEQE.csv\", delimiter=',', unpack=True)\n",
    "\n",
    "seqn      = columns[0]\n",
    "seqe_time = columns[1]\n",
    "seqe_time = subtract(seqe_time, t_0)\n",
    "seqe_time = divide(seqe_time, 1e9)\n",
    "\n",
    "\n",
    "fig, ax1 = plt.subplots(figsize=(16,6))\n",
    "plt.title(r\"Main Flight Comptuer CPU Usage By Mode\")\n",
    "plt.xlabel(r\"Mission Elapsed Time [s]\")\n",
    "plt.ylabel(r\"CPU Use [%]\")\n",
    "ax1.fill_between(timestamp, cpu_IRQ+cpu_softIRQ+cpu_IOwait+cpu_sys+cpu_user, cpu_IRQ+cpu_softIRQ+cpu_sys+cpu_user, alpha=0.8, color=\"r\", label=\"I0 Wait\")\n",
    "ax1.fill_between(timestamp, cpu_IRQ+cpu_softIRQ+cpu_sys+cpu_user, cpu_sys+cpu_user, alpha=0.4, label=\"IRQ\")\n",
    "ax1.fill_between(timestamp, cpu_sys+cpu_user, cpu_user, alpha=0.5, color=\"#709afa\", label=\"System\")\n",
    "ax1.fill_between(timestamp, cpu_user, 0, alpha=0.5, color=\"#76e146\", label=\"User\")\n",
    "\n",
    "for t in seqe_time[1:]:\n",
    "    plt.plot((t, t), (0, 100), 'k-', alpha=0.7)\n",
    "plt.plot((-50, -50), (0, 100), 'k-', alpha=0.7, label=\"Data Gaps\")\n",
    "\n",
    "ax1.set_xlim([-5,42])\n",
    "ax1.set_ylim([0,100])\n",
    "ax1.legend(loc=2)\n",
    "plt.show()"
   ]
  },
  {
   "cell_type": "markdown",
   "metadata": {},
   "source": []
  }
 ],
 "metadata": {
  "kernelspec": {
   "display_name": "Python 2",
   "language": "python",
   "name": "python2"
  },
  "language_info": {
   "codemirror_mode": {
    "name": "ipython",
    "version": 2
   },
   "file_extension": ".py",
   "mimetype": "text/x-python",
   "name": "python",
   "nbconvert_exporter": "python",
   "pygments_lexer": "ipython2",
   "version": "2.7.10+"
  }
 },
 "nbformat": 4,
 "nbformat_minor": 0
}
