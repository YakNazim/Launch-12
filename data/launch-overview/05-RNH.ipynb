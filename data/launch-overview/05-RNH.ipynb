{
 "cells": [
  {
   "cell_type": "markdown",
   "metadata": {},
   "source": [
    "# Flight Comptuer\n",
    "\n",
    "We recorded a lot of data about the flight comptuer itself during the flight.\n",
    "\n",
    "\n",
    "## System Power Comumption\n",
    "\n",
    "Power used by each subsystem over time"
   ]
  },
  {
   "cell_type": "code",
   "execution_count": null,
   "metadata": {
    "collapsed": false
   },
   "outputs": [],
   "source": [
    "from numpy import loadtxt, array, subtract, divide, multiply, median, std, var, average, arange, absolute\n",
    "from scipy.signal import butter, lfilter, freqz\n",
    "import matplotlib.pyplot as plt\n",
    "%matplotlib inline\n",
    "from IPython.display import set_matplotlib_formats\n",
    "set_matplotlib_formats('png', 'pdf')\n",
    "\n",
    "t_0 = 117853569585227\n",
    "\n",
    "columns = loadtxt(\"../fc-data/RNHP.csv\", delimiter=',', unpack=True)\n",
    "\n",
    "seqn = columns[0]\n",
    "timestamp = columns[1]\n",
    "port_1 = columns[2]\n",
    "port_2 = columns[3]\n",
    "port_3 = columns[4]\n",
    "port_4 = columns[5]\n",
    "umbilical = columns[6]\n",
    "port_6 = columns[7]\n",
    "port_7 = columns[8]\n",
    "port_8 = columns[9]\n",
    "\n",
    "timestamp = subtract(timestamp, t_0)\n",
    "timestamp = divide(timestamp, 1e9)\n",
    "\n",
    "def lowpass(port):\n",
    "    # Filter requirements.\n",
    "    order = 6\n",
    "    fs = 1000.0       # sample rate, Hz\n",
    "    cutoff = 25       # desired cutoff frequency of the filter, Hz\n",
    "    nyq = 0.5 * fs\n",
    "    normal_cutoff = cutoff / nyq\n",
    "\n",
    "    # Get the filter coefficients so we can check its frequency response.\n",
    "    b, a = butter(order, normal_cutoff, btype='low', analog=False)\n",
    "    return lfilter(b, a, port)\n",
    "\n",
    "port_1_filter = lowpass(port_1)\n",
    "port_2_filter = lowpass(port_2)\n",
    "port_3_filter = lowpass(port_3)\n",
    "port_4_filter = lowpass(port_4)\n",
    "port_6_filter = lowpass(port_6)\n",
    "port_7_filter = lowpass(port_7)\n",
    "port_8_filter = lowpass(port_8)\n",
    "\n",
    "fig, ax1 = plt.subplots(figsize=(16,6))\n",
    "plt.title(r\"Avionics System Current Consumption\")\n",
    "plt.xlabel(r\"Mission Elapsed Time [s]\")\n",
    "plt.ylabel(r\"Current [A]\")\n",
    "ax1.plot(timestamp[100:-100], port_1_filter[100:-100], alpha=0.75, label=\"Flight Comptuer\")\n",
    "ax1.plot(timestamp[100:-100], port_8_filter[100:-100], alpha=0.75, label=\"IMU\")\n",
    "ax1.plot(timestamp[100:-100], port_3_filter[100:-100], alpha=0.75, label=\"GPS\")\n",
    "ax1.plot(timestamp[100:-100], port_7_filter[100:-100], alpha=0.75, label=\"Roll Control Servo Actuator\")\n",
    "ax1.plot(timestamp[100:-100], port_6_filter[100:-100], alpha=0.75, label=\"WiFi Power Amp\")\n",
    "ax1.set_xlim([-5,42])\n",
    "ax1.set_ylim([0,1.5])\n",
    "ax1.legend(loc=2)\n",
    "plt.show()"
   ]
  },
  {
   "cell_type": "markdown",
   "metadata": {},
   "source": [
    "The roll control system comes on at $t=0$ and turns intself off at $t=32$. This does appear to mess with the power draw of the whole system. There is a mysterious jump in the WiFi power draw at $~t=26$."
   ]
  },
  {
   "cell_type": "code",
   "execution_count": null,
   "metadata": {
    "collapsed": false
   },
   "outputs": [],
   "source": [
    "columns = loadtxt(\"../fc-data/RNHH.csv\", delimiter=',', unpack=True)\n",
    "\n",
    "seqn            = columns[ 0]\n",
    "rnhh_time       = columns[ 1]\n",
    "batt_temp       = columns[ 2]\n",
    "TS1_temp        = columns[ 3]\n",
    "TS2_temp        = columns[ 4]\n",
    "temprange       = columns[ 5]\n",
    "voltage         = columns[ 6]\n",
    "current         = columns[ 7]\n",
    "avg_current     = columns[ 8]\n",
    "cell1_v         = columns[ 9]\n",
    "cell2_v         = columns[10]\n",
    "cell3_v         = columns[11]\n",
    "cell4_v         = columns[12]\n",
    "pack_voltage    = columns[13]\n",
    "avg_voltage     = columns[14]\n",
    "\n",
    "rnhh_time = subtract(rnhh_time, t_0)\n",
    "rnhh_time = divide(rnhh_time, 1e9)\n",
    "\n",
    "\n",
    "fig, ax1 = plt.subplots(figsize=(16,6))\n",
    "plt.title(r\"Avionics System Voltage\")\n",
    "plt.xlabel(r\"Mission Elapsed Time [s]\")\n",
    "plt.ylabel(r\"Voltage [V]\")\n",
    "ax1.plot(rnhh_time, voltage, alpha=0.75, label=\"System Voltage\")\n",
    "ax1.set_xlim([-5,42])\n",
    "ax1.set_ylim([14,18])\n",
    "#ax1.legend(loc=2)\n",
    "plt.show()"
   ]
  },
  {
   "cell_type": "markdown",
   "metadata": {},
   "source": [
    "Not much to see here. Two small transients that seem to match the large current draw spikes in the system power.\n",
    "\n",
    "We can see the average full stack power draw, which is intesting as a data point:"
   ]
  },
  {
   "cell_type": "code",
   "execution_count": null,
   "metadata": {
    "collapsed": false
   },
   "outputs": [],
   "source": [
    "print \"Average Power Draw:  %0.2f W (%0.2f Amps at %0.1f Volts)\" % (average(voltage) * -average(current), -average(current), average(voltage))"
   ]
  },
  {
   "cell_type": "markdown",
   "metadata": {},
   "source": [
    "That's a lot of power! Our system battery is a 4s stack of liPo's rated for ~60 Wh. That's about two hours of autonomous flight. We have umbilical power until the last few minutes of the countdown.\n",
    "\n",
    "## RasPi Computers\n",
    "\n",
    "In addition to the main flight computer, we had two Raspberry Pi single-board computers as video recorder/processers. These also took power from the system power supply:"
   ]
  },
  {
   "cell_type": "code",
   "execution_count": null,
   "metadata": {
    "collapsed": false
   },
   "outputs": [],
   "source": [
    "fig, ax1 = plt.subplots(figsize=(16,6))\n",
    "plt.title(r\"Avionics System Current Consumption\")\n",
    "plt.xlabel(r\"Mission Elapsed Time [s]\")\n",
    "plt.ylabel(r\"Current [A]\")\n",
    "ax1.plot(timestamp[100:-100], port_2_filter[100:-100], alpha=0.75, label=\"RasPi 1\")\n",
    "ax1.plot(timestamp[100:-100], port_4_filter[100:-100], alpha=0.75, label=\"RasPi 2\")\n",
    "ax1.set_xlim([-5,42])\n",
    "ax1.set_ylim([0,1.3])\n",
    "ax1.legend(loc=2)\n",
    "plt.show()"
   ]
  },
  {
   "cell_type": "markdown",
   "metadata": {},
   "source": [
    "Due to a camera failure just before flight, we flew with RasPi 1 powered off.\n",
    "\n",
    "## Missing Packets\n",
    "\n",
    "One potential question to ask is there any correlation with the power system and missing data packets. Here is the total power, adding up the current reported from each subsystem, both raw and low pass filtered.\n",
    "\n",
    "There are some spikes, do they line up at all with the missing data?"
   ]
  },
  {
   "cell_type": "code",
   "execution_count": null,
   "metadata": {
    "collapsed": false
   },
   "outputs": [],
   "source": [
    "total_power = port_1 + port_2 + port_3 + port_4 + port_6 + port_7 + port_8\n",
    "\n",
    "# Filter requirements.\n",
    "order = 6\n",
    "fs = 1000.0       # sample rate, Hz\n",
    "cutoff = 15       # desired cutoff frequency of the filter, Hz\n",
    "nyq = 0.5 * fs\n",
    "normal_cutoff = cutoff / nyq\n",
    "\n",
    "# Get the filter coefficients so we can check its frequency response.\n",
    "b, a = butter(order, normal_cutoff, btype='low', analog=False)\n",
    "total_power_filter = lfilter(b, a, total_power)\n",
    "\n",
    "\n",
    "columns = loadtxt(\"../fc-data/SEQE.csv\", delimiter=',', unpack=True)\n",
    "\n",
    "seqn      = columns[0]\n",
    "seqe_time = columns[1]\n",
    "seqe_time = subtract(seqe_time, t_0)\n",
    "seqe_time = divide(seqe_time, 1e9)\n",
    "\n",
    "fig, ax1 = plt.subplots(figsize=(16,6))\n",
    "plt.title(r\"Avionics System Current Consumption\")\n",
    "plt.xlabel(r\"Mission Elapsed Time [s]\")\n",
    "plt.ylabel(r\"Current [A]\")\n",
    "ax1.plot(timestamp, total_power, 'k-', alpha=0.12, label=\"Total Power Raw\")\n",
    "ax1.plot(timestamp[100:-100], total_power_filter[100:-100], alpha=0.8, label=\"Total Power Filtered\")\n",
    "\n",
    "for t in seqe_time[1:]:\n",
    "    plt.plot((t, t), (-10, 10), 'g-', alpha=0.7)\n",
    "plt.plot((-5, -5), (-10, 10), 'g-', alpha=0.4, label=\"Data Gaps\")\n",
    "\n",
    "ax1.set_xlim([-5,42])\n",
    "ax1.set_ylim([0,5.5])\n",
    "ax1.legend(loc=2)\n",
    "plt.show()"
   ]
  },
  {
   "cell_type": "markdown",
   "metadata": {},
   "source": [
    "Nothing obvious in total power, looking at each individual power draw again:"
   ]
  },
  {
   "cell_type": "code",
   "execution_count": null,
   "metadata": {
    "collapsed": false
   },
   "outputs": [],
   "source": [
    "\n",
    "fig, ax1 = plt.subplots(figsize=(16,6))\n",
    "plt.title(r\"Avionics System Current Consumption\")\n",
    "plt.xlabel(r\"Mission Elapsed Time [s]\")\n",
    "plt.ylabel(r\"Current [A]\")\n",
    "ax1.plot(timestamp[100:-100], port_1_filter[100:-100], alpha=0.75, label=\"Flight Comptuer\")\n",
    "ax1.plot(timestamp[100:-100], port_8_filter[100:-100], alpha=0.75, label=\"IMU\")\n",
    "ax1.plot(timestamp[100:-100], port_3_filter[100:-100], alpha=0.75, label=\"GPS\")\n",
    "ax1.plot(timestamp[100:-100], port_7_filter[100:-100], alpha=0.75, label=\"Roll Control Servo Actuator\")\n",
    "ax1.plot(timestamp[100:-100], port_6_filter[100:-100], alpha=0.75, label=\"WiFi Power Amp\")\n",
    "ax1.plot(timestamp[100:-100], port_4_filter[100:-100], alpha=0.75, label=\"RasPi 2\")\n",
    "\n",
    "for t in seqe_time[1:]:\n",
    "    plt.plot((t, t), (-10, 10), 'g-', alpha=0.4)\n",
    "\n",
    "plt.plot((-5, -5), (-10, 10), 'g-', alpha=0.4, label=\"Data Gaps\")\n",
    "\n",
    "ax1.set_xlim([-5,42])\n",
    "ax1.set_ylim([0,1.9])\n",
    "ax1.legend(loc=2)\n",
    "plt.show()"
   ]
  },
  {
   "cell_type": "markdown",
   "metadata": {},
   "source": [
    "A mildly plausible correlation in Flight Comptuer power at $t=34.72$. Nothing else stands out."
   ]
  },
  {
   "cell_type": "markdown",
   "metadata": {},
   "source": []
  }
 ],
 "metadata": {
  "kernelspec": {
   "display_name": "Python 2",
   "language": "python",
   "name": "python2"
  },
  "language_info": {
   "codemirror_mode": {
    "name": "ipython",
    "version": 2
   },
   "file_extension": ".py",
   "mimetype": "text/x-python",
   "name": "python",
   "nbconvert_exporter": "python",
   "pygments_lexer": "ipython2",
   "version": "2.7.10+"
  }
 },
 "nbformat": 4,
 "nbformat_minor": 0
}
