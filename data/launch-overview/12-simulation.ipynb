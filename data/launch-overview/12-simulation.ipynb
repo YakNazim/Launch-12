{
 "cells": [
  {
   "cell_type": "markdown",
   "metadata": {},
   "source": [
    "# Comparison To Simulation\n",
    "\n",
    "We use OpenRocket to simulate the launch."
   ]
  },
  {
   "cell_type": "code",
   "execution_count": null,
   "metadata": {
    "collapsed": false
   },
   "outputs": [],
   "source": [
    "from IPython.display import Image\n",
    "Image(filename='../../simulation/openrocket_screenshot.png')"
   ]
  },
  {
   "cell_type": "code",
   "execution_count": null,
   "metadata": {
    "collapsed": true
   },
   "outputs": [],
   "source": [
    "from numpy import loadtxt, array, subtract, divide, multiply, median, std, var, abs\n",
    "import matplotlib.pyplot as plt\n",
    "%matplotlib inline\n",
    "from IPython.display import set_matplotlib_formats\n",
    "set_matplotlib_formats('png', 'pdf')\n",
    "\n",
    "g_0 = 9.80665\n",
    "t_0 = 117853569585227\n",
    "\n",
    "\n",
    "# Sim\n",
    "columns = loadtxt(\"../../simulation/Launch-12.csv\", delimiter=',', unpack=True)\n",
    "or_time = columns[0]\n",
    "or_alt = columns[1]\n",
    "or_accel = columns[3]\n",
    "\n",
    "\n",
    "# ADIS\n",
    "columns = loadtxt(\"../fc-data/ADIS.csv\", delimiter=',', unpack=True)\n",
    "adis_time = divide(subtract(columns[1], t_0), 1e9)\n",
    "acc_x, acc_y, acc_z = columns[6:9]\n",
    "\n",
    "acc_x = subtract(acc_x, g_0)\n",
    "# lightly lowpass\n",
    "from scipy.signal import butter, lfilter, freqz\n",
    "# Filter requirements.\n",
    "order = 6\n",
    "fs = 819.2       # sample rate, Hz\n",
    "cutoff = 20   # desired cutoff frequency of the filter, Hz\n",
    "nyq = 0.5 * fs\n",
    "normal_cutoff = cutoff / nyq\n",
    "# Get the filter coefficients so we can check its frequency response.\n",
    "b, a = butter(order, normal_cutoff, btype='low', analog=False)\n",
    "acc_x_filter = lfilter(b, a, acc_x)\n",
    "\n",
    "# TeleMetrum\n",
    "columns = loadtxt(\"../TeleMetrum/2015-07-19-serial-1372-flight-0002.csv\",\n",
    "                  delimiter=',', comments='#',unpack=True,\n",
    "                  usecols=(4,5,6,10,11,13,16,21,22,25))\n",
    "tele_time = columns[0]\n",
    "clock = columns[1]\n",
    "rssi = columns[2]\n",
    "tele_accel = columns[3]\n",
    "tele_pressure = columns[4]\n",
    "tele_alt = columns[5]\n",
    "tele_temp = columns[6]\n",
    "tele_gpslock, tele_gpsnsat = columns[7:9]\n",
    "tele_gpsalt = columns[9]\n",
    "\n",
    "# ARTS2\n",
    "FEET2METERS = 0.3048\n",
    "columns = loadtxt(\"../ARTS2/2015-07-19_ARTS2_Flight_Data_Interpreted_Data.csv\",\n",
    "                  delimiter=',', comments='#',unpack=True)\n",
    "arts_time = columns[0]\n",
    "arts_accel = multiply(columns[1], g_0)\n",
    "arts_vel = columns[2]\n",
    "arts_ialt = columns[3]\n",
    "arts_palt = multiply(columns[4], FEET2METERS)\n",
    "\n",
    "# ADIS Altitude\n",
    "columns = loadtxt(\"uncalibrated_integrated_altitude.csv\", delimiter=',', unpack=True)\n",
    "alt_time = columns[0]\n",
    "imu_alt   = columns[1]"
   ]
  },
  {
   "cell_type": "code",
   "execution_count": null,
   "metadata": {
    "collapsed": false
   },
   "outputs": [],
   "source": [
    "fig, ax1 = plt.subplots(figsize=(16,6))\n",
    "plt.title(r\"Simulation Acceleration vs Meausred Acceleration\")\n",
    "plt.ylabel(r\"Acceleration [m/s${}^2$]\")\n",
    "plt.xlabel(r\"Mission Elapsed Time [s]\")\n",
    "\n",
    "\n",
    "plt.plot(adis_time[100:-100], acc_x_filter[100:-100], lw=1, alpha=0.75,  label=\"ADIS IMU Acceleration\")\n",
    "plt.plot(tele_time, tele_accel, lw=1, alpha=0.75,  label=\"TeleMetrum Acceleration\")\n",
    "plt.plot(arts_time, arts_accel, lw=1, alpha=0.75,  label=\"ARTS2 Acceleration\")\n",
    "plt.plot(or_time, or_accel, 'k-', alpha=0.4,  lw=2, label=\"OpenRocket Vertical Acceleration\")\n",
    "\n",
    "plt.xlim([-5,42])\n",
    "ax1.set_ylim([-50,120])\n",
    "ax1.legend(loc=1)\n",
    "plt.show()"
   ]
  },
  {
   "cell_type": "markdown",
   "metadata": {},
   "source": [
    "## Transonic"
   ]
  },
  {
   "cell_type": "code",
   "execution_count": null,
   "metadata": {
    "collapsed": false
   },
   "outputs": [],
   "source": [
    "fig, ax1 = plt.subplots(figsize=(16,6))\n",
    "plt.title(r\"Simulation Acceleration vs Measured Acceleration Near Supersonic\")\n",
    "plt.ylabel(r\"Acceleration [m/s${}^2$]\")\n",
    "plt.xlabel(r\"Mission Elapsed Time [s]\")\n",
    "\n",
    "# ADIS Altitude\n",
    "columns = loadtxt(\"uncalibrated_integrated_velocity.csv\", delimiter=',', unpack=True)\n",
    "vel_time = columns[0]\n",
    "imu_vel   = columns[1]\n",
    "\n",
    "maxidx = (abs(imu_vel-max(imu_vel))).argmin()\n",
    "\n",
    "begin_super_idx = (abs(imu_vel[0:maxidx]-330)).argmin()\n",
    "end_super_idx = (abs(imu_vel[maxidx:]-330)).argmin() + maxidx\n",
    "\n",
    "plt.fill_between([vel_time[begin_super_idx], vel_time[end_super_idx]], -200, [200,200], color='red', alpha=0.11, label=\"Supersonic\")\n",
    "\n",
    "plt.plot(adis_time[100:-100], acc_x_filter[100:-100], lw=1, alpha=0.75,  label=\"ADIS IMU Acceleration\")\n",
    "plt.plot(tele_time, tele_accel, lw=1, alpha=0.75,  label=\"TeleMetrum Acceleration\")\n",
    "plt.plot(arts_time, arts_accel, lw=1, alpha=0.75,  label=\"ARTS2 Acceleration\")\n",
    "\n",
    "plt.plot(or_time, or_accel, 'k-', alpha=0.4,  lw=2, label=\"OpenRocket Vertical Acceleration\")\n",
    "\n",
    "plt.xlim([2,9])\n",
    "ax1.set_ylim([-50,100])\n",
    "ax1.legend(loc=1)\n",
    "plt.show()"
   ]
  },
  {
   "cell_type": "markdown",
   "metadata": {},
   "source": [
    "## Altitude"
   ]
  },
  {
   "cell_type": "code",
   "execution_count": null,
   "metadata": {
    "collapsed": false
   },
   "outputs": [],
   "source": [
    "fig, ax1 = plt.subplots(figsize=(16,6))\n",
    "plt.title(r\"Simulation Altitude vs Measured Altitude\")\n",
    "plt.ylabel(r\"Altitude AGL [km]\")\n",
    "plt.xlabel(r\"Mission Elapsed Time [s]\")\n",
    "\n",
    "plt.plot(alt_time, imu_alt, lw=1, alpha=0.75,  label=\"ADIS IMU Altitude\")\n",
    "plt.plot(tele_time, tele_alt, lw=1, alpha=0.75,  label=\"TeleMetrum Altitude (Pressure)\")\n",
    "#plt.plot(arts_time, arts_accel, lw=1, alpha=0.75,  label=\"ARTS2 Acceleration\")\n",
    "plt.plot(or_time, or_alt, 'k-', alpha=0.4,  lw=2, label=\"OpenRocket Altitude\")\n",
    "\n",
    "plt.xlim([-5,42])\n",
    "#ax1.set_ylim([-50,120])\n",
    "ax1.legend(loc=2)\n",
    "plt.show()"
   ]
  },
  {
   "cell_type": "markdown",
   "metadata": {},
   "source": []
  }
 ],
 "metadata": {
  "kernelspec": {
   "display_name": "Python 2",
   "language": "python",
   "name": "python2"
  },
  "language_info": {
   "codemirror_mode": {
    "name": "ipython",
    "version": 2
   },
   "file_extension": ".py",
   "mimetype": "text/x-python",
   "name": "python",
   "nbconvert_exporter": "python",
   "pygments_lexer": "ipython2",
   "version": "2.7.10+"
  }
 },
 "nbformat": 4,
 "nbformat_minor": 0
}
