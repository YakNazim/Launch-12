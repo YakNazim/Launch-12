{
 "cells": [
  {
   "cell_type": "markdown",
   "metadata": {},
   "source": [
    "# Vibration Environment\n",
    "\n",
    "We can use the IMU to determine what the vibration specrum was like during the flight. Looking at all axises of the accelerometer in the IMU we see the plots get significantly noisy during the boost portion of the flight."
   ]
  },
  {
   "cell_type": "code",
   "execution_count": null,
   "metadata": {
    "collapsed": false
   },
   "outputs": [],
   "source": [
    "from numpy import subtract, divide, multiply, median, std, var, sqrt\n",
    "import matplotlib.pyplot as plt\n",
    "%matplotlib inline\n",
    "from IPython.display import set_matplotlib_formats\n",
    "set_matplotlib_formats('png', 'pdf')\n",
    "import launch\n",
    "\n",
    "accel = []\n",
    "for i, t in enumerate(launch.adis.time):\n",
    "    accel.append(sqrt((launch.adis.acc_x[i]*launch.adis.acc_x[i]) + (launch.adis.acc_y[i]*launch.adis.acc_y[i]) + (launch.adis.acc_z[i]*launch.adis.acc_z[i])))\n",
    "\n",
    "fig, ax1 = plt.subplots(figsize=(16,6))\n",
    "plt.title(r\"IMU Acceleration Magnitude\")\n",
    "plt.ylabel(r\"Measured Acceleration [m/s$^2$]\")\n",
    "plt.xlabel(r\"Mission Elapsed Time [s]\")\n",
    "\n",
    "plt.plot(launch.adis.time, launch.adis.acc_x, alpha=0.75, label=\"X (Up)\")\n",
    "plt.plot(launch.adis.time, launch.adis.acc_y, alpha=0.6, label=\"Y\")\n",
    "plt.plot(launch.adis.time, launch.adis.acc_z, alpha=0.6, label=\"Z\")\n",
    "\n",
    "plt.xlim([-5,42])\n",
    "plt.legend()\n",
    "plt.show()"
   ]
  },
  {
   "cell_type": "code",
   "execution_count": null,
   "metadata": {
    "collapsed": false
   },
   "outputs": [],
   "source": [
    "fig, ax1 = plt.subplots(figsize=(16,6))\n",
    "plt.title(r\"IMU Acceleration Magnitude\")\n",
    "plt.ylabel(r\"Measured Acceleration [m/s$^2$]\")\n",
    "plt.xlabel(r\"Mission Elapsed Time [s]\")\n",
    "\n",
    "plt.plot(launch.adis.time, accel, alpha=0.75, label=\"Up\")\n",
    "\n",
    "plt.xlim([-5,42])\n",
    "#plt.legend()\n",
    "plt.show()"
   ]
  },
  {
   "cell_type": "markdown",
   "metadata": {},
   "source": [
    "If we take a Fourier transform of the acceleration magnitude data then we can see the spectral power over many frequencies during the flight."
   ]
  },
  {
   "cell_type": "code",
   "execution_count": null,
   "metadata": {
    "collapsed": false
   },
   "outputs": [],
   "source": [
    "from scipy import signal\n",
    "\n",
    "f, Pxx_den = signal.periodogram(divide(accel, launch.g_0), launch.adis.fs,  scaling='spectrum')\n",
    "\n",
    "fig, ax1 = plt.subplots(figsize=(16,6))\n",
    "plt.title(r\"IMU Acceleration Power Spectral Density\")\n",
    "plt.ylabel(r\"PSD [g${}^2$/Hz]\")\n",
    "plt.xlabel(r\"Frequency [Hz]\")\n",
    "\n",
    "plt.semilogy(f[1:], Pxx_den[1:], alpha=0.75, label=\"Up\")\n",
    "\n",
    "plt.xlim([-1,launch.adis.fs/2])\n",
    "plt.ylim([10e-14,1])\n",
    "#plt.legend()\n",
    "plt.show()"
   ]
  },
  {
   "cell_type": "markdown",
   "metadata": {},
   "source": [
    "## Waterfall Spectrograph\n",
    "\n",
    "The most interesting thing is to look at the change in vibration power spectrum over time. We use a waterfall chart to do this with sliding windows:"
   ]
  },
  {
   "cell_type": "code",
   "execution_count": null,
   "metadata": {
    "collapsed": false
   },
   "outputs": [],
   "source": [
    "from matplotlib.colors import LogNorm\n",
    "from scipy.interpolate import interp1d\n",
    "from matplotlib import cm\n",
    "import numpy as np\n",
    "from matplotlib import gridspec\n",
    "\n",
    "data = divide(accel, launch.g_0)\n",
    "fft_size = 1024\n",
    "overlap_fac = 0.75\n",
    "\n",
    "hop_size = np.int32(np.floor(fft_size * (1-overlap_fac)))\n",
    "pad_end_size = fft_size          # the last segment can overlap the end of the data array by no more than one window size\n",
    "total_segments = np.int32(np.ceil(len(data) / np.float32(hop_size)))\n",
    "t_max = len(data) / np.float32(launch.adis.fs)\n",
    "\n",
    "window = np.hanning(fft_size)  # our half cosine window\n",
    "inner_pad = np.zeros(fft_size) # the zeros which will be used to double each segment size\n",
    "\n",
    "proc = np.concatenate((data, np.zeros(pad_end_size)))      # the data to process\n",
    "result = np.empty((total_segments, 513), dtype=np.float32) # space to hold the result\n",
    "\n",
    "for i in xrange(total_segments):\n",
    "    current_hop = hop_size * i                        # figure out the current segment offset\n",
    "    segment = proc[current_hop:current_hop+fft_size]  # get the current segment\n",
    "    windowed = segment * window                       # multiply by the half cosine function\n",
    "    f, pxx    = signal.periodogram(windowed, launch.adis.fs)      # scipi spectrum function on windowed segment\n",
    "    result[i, :] = pxx\n",
    "\n",
    "\n",
    "# Start Figure\n",
    "fig = plt.figure(figsize=(16,8))\n",
    "plt.subplots_adjust(wspace=0.001)   # no space between horizontal charts\n",
    "gs = gridspec.GridSpec(1, 2, width_ratios=[1, 7]) # stretch main chart to be most of the width\n",
    "\n",
    "# Plot raw accel guide-chart\n",
    "ax1 = plt.subplot(gs[0])\n",
    "plt.title(r\"\")\n",
    "plt.ylabel(r\"Mission Elapsed Time [s]\")\n",
    "plt.xlabel(r\"Acceleration [g]\")\n",
    "ax1.plot(data, launch.adis.time, 'k-', alpha=0.6, lw=0.4)\n",
    "plt.xlim([-0.7,13.9])\n",
    "plt.ylim([launch.adis.time[-1]+0.75,launch.adis.time[0]])\n",
    "\n",
    "# Plot spetrogram\n",
    "ax2 = plt.subplot(gs[1])\n",
    "plt.title(r\"IMU Acceleration Power Spectrum\")\n",
    "plt.xlabel(r\"Vibration Frequency [Hz]\")\n",
    "img = ax2.imshow(result, origin='upper', cmap='plasma', interpolation='bicubic', aspect='auto', norm=LogNorm(vmax=1.0e-2, vmin=1.0e-10))\n",
    "\n",
    "# Set sane ticks\n",
    "tics = range(0,401,50)\n",
    "ytics = range(0,41,10)\n",
    "timebase = interp1d([launch.adis.time[0],launch.adis.time[-1]+1],[0,total_segments])\n",
    "plt.xticks([t*(513/(launch.adis.fs/2.0)) for t in tics], tics)\n",
    "plt.yticks([timebase(t) for t in ytics], ytics)\n",
    "\n",
    "# Colors and grid\n",
    "ax2.tick_params(axis='x', colors='white', labelcolor='black', length=5)\n",
    "ax2.tick_params(axis='y', colors='white', labelcolor='black', length=5)\n",
    "ax2.grid(color='#ffffff', alpha=0.8)\n",
    "ticklabels = ax2.get_yticklabels()\n",
    "plt.setp(ticklabels, visible=False)\n",
    "plt.xlim([0,513])\n",
    "\n",
    "# Colorbar tight placement\n",
    "cbaxes = fig.add_axes([0.91, 0.125, 0.02, 0.775]) \n",
    "cbar = plt.colorbar(img, cax = cbaxes)\n",
    "cbar.ax.set_ylabel(r'Vibration Power [g${}^2 /$ Hz]')\n",
    "\n",
    "plt.show()"
   ]
  },
  {
   "cell_type": "markdown",
   "metadata": {},
   "source": []
  }
 ],
 "metadata": {
  "kernelspec": {
   "display_name": "Python 2",
   "language": "python",
   "name": "python2"
  },
  "language_info": {
   "codemirror_mode": {
    "name": "ipython",
    "version": 2
   },
   "file_extension": ".py",
   "mimetype": "text/x-python",
   "name": "python",
   "nbconvert_exporter": "python",
   "pygments_lexer": "ipython2",
   "version": "2.7.10+"
  }
 },
 "nbformat": 4,
 "nbformat_minor": 0
}
