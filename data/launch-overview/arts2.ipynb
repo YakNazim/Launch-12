{
 "cells": [
  {
   "cell_type": "markdown",
   "metadata": {},
   "source": [
    "# ARTS2\n",
    "\n",
    "The backup recovery device. It has a single accelerometer and a pressure sensor.\n",
    "\n",
    "## Acceleration\n",
    "\n",
    "We can look at it's accelerometer output compared to our primary ADIS IMU."
   ]
  },
  {
   "cell_type": "code",
   "execution_count": null,
   "metadata": {
    "collapsed": false
   },
   "outputs": [],
   "source": [
    "from numpy import loadtxt, array, subtract, divide, multiply, median, std, var, argmax, add, average\n",
    "import matplotlib.pyplot as plt\n",
    "%matplotlib inline\n",
    "from IPython.display import set_matplotlib_formats\n",
    "set_matplotlib_formats('png', 'pdf')\n",
    "\n",
    "g_0 = 9.80665\n",
    "FEET2METERS = 0.3048\n",
    "\n",
    "columns = loadtxt(\"../ARTS2/2015-07-19_ARTS2_Flight_Data_Interpreted_Data.csv\",\n",
    "                  delimiter=',', comments='#',unpack=True)\n",
    "arts_time = columns[0]\n",
    "arts_accel = columns[1]\n",
    "arts_vel = columns[2]\n",
    "arts_ialt = columns[3]\n",
    "arts_palt = multiply(columns[4], FEET2METERS)\n",
    "\n",
    "\n",
    "# ADIS data for reference\n",
    "columns = loadtxt(\"../fc-data/ADIS.csv\", delimiter=',', unpack=True)\n",
    "\n",
    "seqn = columns[0]\n",
    "timestamp = columns[1]\n",
    "acc_x, acc_y, acc_z = columns[6:9]\n",
    "\n",
    "t_0 = 117853569585227\n",
    "\n",
    "timestamp = subtract(timestamp, t_0)\n",
    "timestamp = divide(timestamp, 1e9)\n",
    "\n",
    "# lightly lowpass\n",
    "from scipy.signal import butter, lfilter, freqz\n",
    "\n",
    "# Filter requirements.\n",
    "order = 6\n",
    "fs = 819.2       # sample rate, Hz\n",
    "cutoff = 20   # desired cutoff frequency of the filter, Hz\n",
    "nyq = 0.5 * fs\n",
    "normal_cutoff = cutoff / nyq\n",
    "\n",
    "# Get the filter coefficients so we can check its frequency response.\n",
    "b, a = butter(order, normal_cutoff, btype='low', analog=False)\n",
    "acc_x_filter = lfilter(b, a, acc_x)"
   ]
  },
  {
   "cell_type": "code",
   "execution_count": null,
   "metadata": {
    "collapsed": false
   },
   "outputs": [],
   "source": [
    "fig, ax1 = plt.subplots(figsize=(16,6))\n",
    "plt.title(r\"ARTS2 Accelerometer\")\n",
    "plt.ylabel(r\"Acceleration [m/s${}^2$]\")\n",
    "plt.xlabel(r\"Mission Elapsed Time [s]\")\n",
    "\n",
    "plt.plot(timestamp[200:-200], subtract(acc_x_filter[200:-200], g_0), 'k-', alpha=0.3, lw=2.0, label=\"ADIS IMU Vertical Acceleration\")\n",
    "plt.plot(arts_time, multiply(arts_accel, g_0), alpha=0.75, label=\"ARTS2 Vertical Acceleration\")\n",
    "\n",
    "plt.xlim([-5,42])\n",
    "plt.ylim([-50,130])\n",
    "ax1.legend(loc=1)\n",
    "plt.show()"
   ]
  },
  {
   "cell_type": "markdown",
   "metadata": {},
   "source": [
    "## Altitude\n",
    "\n",
    "The ARTS2 uses it's pressure sensor to approximate altitude using it's internal atmosphere model and calibration."
   ]
  },
  {
   "cell_type": "code",
   "execution_count": null,
   "metadata": {
    "collapsed": false
   },
   "outputs": [],
   "source": [
    "print \"\"\"The maximum altitude recorded by the pressure sensor on the ARTS2 was %0.0f meters.\n",
    "\"\"\" % (max(arts_palt))"
   ]
  },
  {
   "cell_type": "code",
   "execution_count": null,
   "metadata": {
    "collapsed": false
   },
   "outputs": [],
   "source": [
    "fig, ax1 = plt.subplots(figsize=(16,6))\n",
    "plt.title(r\"ARTS2 Pressure Altitude\")\n",
    "plt.ylabel(r\"Altitude AGL [km]\")\n",
    "plt.xlabel(r\"Mission Elapsed Time [s]\")\n",
    "\n",
    "#plt.plot(timestamp[200:-200], subtract(acc_x_filter[200:-200], g_0), 'k-', alpha=0.3, lw=2.0, label=\"ADIS IMU Vertical Accel\")\n",
    "plt.plot(arts_time, divide(arts_palt, 1000.0), alpha=0.75, label=\"ARTS2 Vertical Acceleration\")\n",
    "\n",
    "plt.xlim([-5,42])\n",
    "#plt.ylim([-50,130])\n",
    "#ax1.legend(loc=2)\n",
    "plt.show()"
   ]
  },
  {
   "cell_type": "markdown",
   "metadata": {},
   "source": []
  }
 ],
 "metadata": {
  "kernelspec": {
   "display_name": "Python 2",
   "language": "python",
   "name": "python2"
  },
  "language_info": {
   "codemirror_mode": {
    "name": "ipython",
    "version": 2
   },
   "file_extension": ".py",
   "mimetype": "text/x-python",
   "name": "python",
   "nbconvert_exporter": "python",
   "pygments_lexer": "ipython2",
   "version": "2.7.10+"
  }
 },
 "nbformat": 4,
 "nbformat_minor": 0
}
