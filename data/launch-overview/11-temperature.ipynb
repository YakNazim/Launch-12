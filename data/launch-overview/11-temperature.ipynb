{
 "cells": [
  {
   "cell_type": "markdown",
   "metadata": {},
   "source": [
    "# Temperature During Flight"
   ]
  },
  {
   "cell_type": "code",
   "execution_count": null,
   "metadata": {
    "collapsed": true
   },
   "outputs": [],
   "source": [
    "from numpy import loadtxt, array, subtract, divide, multiply, median, std, var\n",
    "import matplotlib.pyplot as plt\n",
    "%matplotlib inline\n",
    "from IPython.display import set_matplotlib_formats\n",
    "set_matplotlib_formats('png', 'pdf')\n",
    "\n",
    "g_0 = 9.80665\n",
    "t_0 = 117853569585227\n",
    "\n",
    "\n",
    "# ADIS IMU\n",
    "columns = loadtxt(\"../fc-data/ADIS.csv\", delimiter=',', unpack=True)\n",
    "\n",
    "adis_time = columns[1]\n",
    "adis_temp = columns[12]\n",
    "adis_time = subtract(adis_time, t_0)\n",
    "adis_time = divide(adis_time, 1e9)\n",
    "\n",
    "\n",
    "# ADIS Velocity\n",
    "columns = loadtxt(\"uncalibrated_integrated_velocity.csv\", delimiter=',', unpack=True)\n",
    "vel_time = columns[0]\n",
    "imu_vel   = columns[1]\n",
    "\n",
    "\n",
    "# TeleMetrum\n",
    "columns = loadtxt(\"../TeleMetrum/2015-07-19-serial-1372-flight-0002.csv\",\n",
    "                  delimiter=',', comments='#',unpack=True,\n",
    "                  usecols=(4,5,6,10,11,13,16,21,22,25))\n",
    "tele_time = columns[0]\n",
    "clock = columns[1]\n",
    "rssi = columns[2]\n",
    "tele_accel = columns[3]\n",
    "tele_pressure = columns[4]\n",
    "tele_alt = columns[5]\n",
    "tele_temp = columns[6]\n",
    "tele_gpslock, tele_gpsnsat = columns[7:9]\n",
    "tele_gpsalt = columns[9]\n",
    "\n",
    "# FC\n",
    "columns = loadtxt(\"../fc-data/FCFH.csv\", delimiter=',', unpack=True)\n",
    "seqn = columns[0]\n",
    "fc_time = columns[1]\n",
    "cpu_user, cpu_sys, cpu_nice, cpu_IOwait, cpu_IRQ, cpu_softIRQ = columns[2:8]\n",
    "ram_used, ram_buffer, ram_cached = columns[8:11]\n",
    "PIDs = columns[11]\n",
    "disk_used, dsk_read, disk_Write = columns[12:15]\n",
    "IO_lo_Bytes_Sent, IO_lo_Bytes_Recv, IO_lo_Packets_Sent, IO_lo_Packets_Recv = columns[15:19]\n",
    "IO_eth0_Bytes_Sent, IO_eth0_Bytes_Recv, IO_eth0_Packets_Sent, IO_eth0_Packets_Recv = columns[19:23]\n",
    "IO_wlan0_Bytes_Sent, IO_wlan0_Bytes_Recv, IO_wlan0_Packets_Sent, IO_wlan0_Packets_Recv = columns[23:27]\n",
    "core_temp = divide(columns[27], 1000.0)\n",
    "\n",
    "fc_time = subtract(fc_time, t_0)\n",
    "fc_time = divide(fc_time, 1e9)"
   ]
  },
  {
   "cell_type": "code",
   "execution_count": null,
   "metadata": {
    "collapsed": false
   },
   "outputs": [],
   "source": [
    "fig, ax1 = plt.subplots(figsize=(16,6))\n",
    "plt.title(r\"Flight Temperature\")\n",
    "plt.ylabel(r\"Temperature [${}^0C$]\")\n",
    "plt.xlabel(r\"Mission Elapsed Time [s]\")\n",
    "\n",
    "plt.plot(adis_time, adis_temp, alpha=0.75,  label=\"ADIS Temperature\")\n",
    "plt.plot(tele_time, tele_temp, alpha=0.75,  label=\"TeleMetrum Temperature\")\n",
    "plt.plot(fc_time, core_temp, alpha=0.75,    label=\"Flight Computer Core Temp\")\n",
    "\n",
    "ax2 = ax1.twinx()\n",
    "ax2.set_ylabel(r\"Velocity [Mach]\")\n",
    "ax2.plot(vel_time, divide(imu_vel, 330.0), 'k-', alpha=0.3,label=\"Velocity\")\n",
    "\n",
    "\n",
    "plt.xlim([-5,50])\n",
    "ax1.set_ylim([28,63])\n",
    "ax1.legend(loc=1)\n",
    "ax2.legend(loc=4)\n",
    "plt.show()"
   ]
  },
  {
   "cell_type": "code",
   "execution_count": null,
   "metadata": {
    "collapsed": false
   },
   "outputs": [],
   "source": [
    "fig, ax1 = plt.subplots(figsize=(16,6))\n",
    "plt.title(r\"Flight Temperature: Mach Dependence?\")\n",
    "plt.ylabel(r\"Temperature [${}^0C$]\")\n",
    "plt.xlabel(r\"Mission Elapsed Time [s]\")\n",
    "\n",
    "plt.plot(tele_time, tele_temp, alpha=0.75,  label=\"TeleMetrum Temperature\")\n",
    "\n",
    "ax2 = ax1.twinx()\n",
    "ax2.set_ylabel(r\"Velocity [Mach]\")\n",
    "ax2.plot(vel_time, divide(imu_vel, 330.0), 'k-', alpha=0.3,label=\"Velocity\")\n",
    "\n",
    "\n",
    "plt.xlim([-5,42])\n",
    "ax1.set_ylim([32,46])\n",
    "ax1.legend(loc=1)\n",
    "ax2.legend(loc=4)\n",
    "plt.show()"
   ]
  },
  {
   "cell_type": "markdown",
   "metadata": {},
   "source": []
  }
 ],
 "metadata": {
  "kernelspec": {
   "display_name": "Python 2",
   "language": "python",
   "name": "python2"
  },
  "language_info": {
   "codemirror_mode": {
    "name": "ipython",
    "version": 2
   },
   "file_extension": ".py",
   "mimetype": "text/x-python",
   "name": "python",
   "nbconvert_exporter": "python",
   "pygments_lexer": "ipython2",
   "version": "2.7.10+"
  }
 },
 "nbformat": 4,
 "nbformat_minor": 0
}
