{
 "cells": [
  {
   "cell_type": "markdown",
   "metadata": {},
   "source": [
    "# Comparing Altitude Estimates\n",
    "\n",
    "We have 4 independent estimates of the altitude of the rocket.\n",
    "\n",
    " - Integration of the primary IMU (ADIS)\n",
    " - Pressure altimeter on the TeleMetrum altimeter\n",
    " - Pressure Altimeter on the ARTS2 altimeter\n",
    " - COTS GPS fixes right around apogee\n",
    "\n",
    "The pressure altimeters both agree very well, but are both wrong. The GPS is probably the most correct after if finishes converging on a solution around MET+31 seconds. This might be because that neither have been calibrated for that days weather. The IMU altitude agrees very well with GPS."
   ]
  },
  {
   "cell_type": "code",
   "execution_count": null,
   "metadata": {
    "collapsed": true
   },
   "outputs": [],
   "source": [
    "from numpy import loadtxt, array, subtract, divide, multiply, median, std, var, argmax, add, average\n",
    "import matplotlib.pyplot as plt\n",
    "%matplotlib inline\n",
    "from IPython.display import set_matplotlib_formats\n",
    "set_matplotlib_formats('png', 'pdf')\n",
    "\n",
    "\n",
    "# ADIS IMU\n",
    "columns = loadtxt(\"uncalibrated_integrated_altitude.csv\", delimiter=',', unpack=True)\n",
    "alt_time = columns[0]\n",
    "imualt   = columns[1]\n",
    "\n",
    "\n",
    "# TeleMetrum\n",
    "columns = loadtxt(\"../TeleMetrum/2015-07-19-serial-1372-flight-0002.csv\",\n",
    "                  delimiter=',', comments='#',unpack=True,\n",
    "                  usecols=(4,5,6,10,11,13,16,21,22,25))\n",
    "\n",
    "tele_time = columns[0]\n",
    "clock = columns[1]\n",
    "rssi = columns[2]\n",
    "tele_accel = columns[3]\n",
    "tele_pressure = columns[4]\n",
    "tele_alt = columns[5]\n",
    "tele_temp = columns[6]\n",
    "tele_gpslock, tele_gpsnsat = columns[7:9]\n",
    "tele_gpsalt = columns[9]\n",
    "\n",
    "FEET2METERS = 0.3048\n",
    "\n",
    "# ARTS2\n",
    "columns = loadtxt(\"../ARTS2/2015-07-19_ARTS2_Flight_Data_Interpreted_Data.csv\",\n",
    "                  delimiter=',', comments='#',unpack=True)\n",
    "arts_time = columns[0]\n",
    "arts_accel = columns[1]\n",
    "arts_vel = columns[2]\n",
    "arts_ialt = columns[3]\n",
    "arts_palt = multiply(columns[4], FEET2METERS)\n",
    "\n",
    "\n",
    "# VENUS\n",
    "t_0 = 117853569585227\n",
    "\n",
    "columns = loadtxt(\"../fc-data/V8A8.csv\", delimiter=',', unpack=True)\n",
    "\n",
    "seqn = columns[0]\n",
    "venus_time = columns[1]\n",
    "fix_mode = columns[2]\n",
    "num_sv = columns[3]\n",
    "TOW = columns[5]\n",
    "latitude = columns[6]\n",
    "longitude = columns[7]\n",
    "altmsl = columns[9]\n",
    "GDOP = columns[10]\n",
    "PDOP = columns[1]\n",
    "HDOP = columns[13]\n",
    "VDOP = columns[14]\n",
    "TDOP = columns[15]\n",
    "vel_x = columns[18]\n",
    "vel_y = columns[19]\n",
    "vel_z = columns[20]\n",
    "\n",
    "venus_time = subtract(venus_time, t_0)\n",
    "venus_time = divide(venus_time, 1e9)"
   ]
  },
  {
   "cell_type": "code",
   "execution_count": null,
   "metadata": {
    "collapsed": false
   },
   "outputs": [],
   "source": [
    "fig, ax1 = plt.subplots(figsize=(16,6))\n",
    "plt.title(r\"Altitude Comparisons\")\n",
    "plt.ylabel(r\"Altitude [km]\")\n",
    "plt.xlabel(r\"Mission Elapsed Time [s]\")\n",
    "\n",
    "plt.plot(alt_time, imualt, alpha=0.75,     label=\"ADIS Integrated IMU\")\n",
    "plt.plot(tele_time, tele_alt, alpha=0.75,  label=\"TeleMetrum Pressure Alt\")\n",
    "plt.plot(arts_time, arts_palt, alpha=0.75, label=\"ARTS2 Pressure Alt\")\n",
    "plt.plot(venus_time, subtract(altmsl, altmsl[0]), 'k-', alpha=0.75,   label=\"Venus8 COTS GPS\")\n",
    "\n",
    "plt.xlim([-5,42])\n",
    "#plt.ylim([-50,130])\n",
    "ax1.legend(loc=4)\n",
    "plt.show()"
   ]
  },
  {
   "cell_type": "markdown",
   "metadata": {},
   "source": []
  }
 ],
 "metadata": {
  "kernelspec": {
   "display_name": "Python 2",
   "language": "python",
   "name": "python2"
  },
  "language_info": {
   "codemirror_mode": {
    "name": "ipython",
    "version": 2
   },
   "file_extension": ".py",
   "mimetype": "text/x-python",
   "name": "python",
   "nbconvert_exporter": "python",
   "pygments_lexer": "ipython2",
   "version": "2.7.10+"
  }
 },
 "nbformat": 4,
 "nbformat_minor": 0
}
