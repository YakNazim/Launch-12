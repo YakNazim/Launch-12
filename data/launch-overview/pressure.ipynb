{
 "cells": [
  {
   "cell_type": "markdown",
   "metadata": {},
   "source": [
    "# Pressure Data\n",
    "\n",
    "We can look at the raw pressure data from the BMP180 seonsor, with only a naïve correction to local pressure-altitude of the launch site:"
   ]
  },
  {
   "cell_type": "code",
   "execution_count": null,
   "metadata": {
    "collapsed": false
   },
   "outputs": [],
   "source": [
    "from numpy import loadtxt, array, subtract, divide, multiply, median, std, var\n",
    "import matplotlib.pyplot as plt\n",
    "%matplotlib inline\n",
    "from IPython.display import set_matplotlib_formats\n",
    "set_matplotlib_formats('png', 'pdf')\n",
    "\n",
    "g_0 = 9.80665\n",
    "\n",
    "columns = loadtxt(\"../fc-data/BMP1.csv\", delimiter=',', unpack=True)\n",
    "\n",
    "seqn = columns[0]\n",
    "timestamp = columns[1]\n",
    "pressure = columns[2]\n",
    "temperature = columns[3]\n",
    "\n",
    "t_0 = 117853569585227\n",
    "\n",
    "timestamp = subtract(timestamp, t_0)\n",
    "timestamp = divide(timestamp, 1e9)"
   ]
  },
  {
   "cell_type": "code",
   "execution_count": null,
   "metadata": {
    "collapsed": false
   },
   "outputs": [],
   "source": [
    "cal_AC1 = 408\n",
    "cal_AC2 = -72\n",
    "cal_AC3 = -14383\n",
    "cal_AC4 = 32741\n",
    "cal_AC5 = 32757\n",
    "cal_AC6 = 23153\n",
    "cal_B1 = 6190\n",
    "cal_B2 = 4\n",
    "cal_MB = -32767\n",
    "cal_MC = -8711\n",
    "cal_MD = 2868\n",
    "\n",
    "mode = 4\n",
    "\n",
    "\n",
    "pressures = []\n",
    "last_raw = 556878\n",
    "for i, t in enumerate(timestamp):\n",
    "\n",
    "    UT = int(temperature[i])\n",
    "    UP = int(pressure[i])\n",
    "    \n",
    "    msb =  (UP & 0xff000000) >> (8*3)\n",
    "    lsb =  (UP & 0x00ff0000) >> (8*2)\n",
    "    xlsb = (UP & 0x0000ff00) >> (8*1)\n",
    "\n",
    "    raw = ((msb << 16) + (lsb << 8) + xlsb) >> (8 - mode)\n",
    "    #print \"Data: 0x%x\" % UP\n",
    "    #print \"MSB: 0x%x, LSB: 0x%x, xLSB: 0x%x\" % (msb, lsb, xlsb)\n",
    "    #print \"Raw: 0x%x\" % raw\n",
    "    \n",
    "    # dump gaps\n",
    "    if abs(raw - last_raw) > 10000:\n",
    "        raw = last_raw\n",
    "    pressures.append(raw*(85.7/556878.0))\n",
    "    last_raw = raw\n",
    "    \n",
    "    X1 = ((UT - cal_AC6) * cal_AC5) >> 15\n",
    "    X2 = (cal_MC << 11) / (X1 + cal_MD)\n",
    "    \n",
    "    B5 = X1 + X2\n",
    "    #print 'B5 = {0}'.format(B5)\n",
    "    \n",
    "    # Pressure Calculations\n",
    "    B6 = B5 - 4000\n",
    "    #print 'B6 = {0}'.format(B6)\n",
    "    \n",
    "    X1 = (cal_B2 * (B6 * B6) >> 12) >> 11\n",
    "    X2 = (cal_AC2 * B6) >> 11\n",
    "    X3 = X1 + X2\n",
    "    B3 = (((cal_AC1 * 4 + X3) << mode) + 2) / 4\n",
    "    #print 'B3 = {0}'.format(B3)\n",
    "    \n",
    "    X1 = (cal_AC3 * B6) >> 13\n",
    "    X2 = (cal_B1 * ((B6 * B6) >> 12)) >> 16\n",
    "    X3 = ((X1 + X2) + 2) >> 2\n",
    "    B4 = (cal_AC4 * (X3 + 32768)) >> 15\n",
    "    #print 'B4 = {0}'.format(B4)\n",
    "  \n",
    "    B7 = (UP - B3) * (50000 >> mode)\n",
    "    #print 'B7 = {0}'.format(B7)\n",
    "    \n",
    "    if B7 < 0x80000000:\n",
    "        p = (B7 * 2) / B4\n",
    "    else:\n",
    "        p = (B7 / B4) * 2\n",
    "\n",
    "    X1 = (p >> 8) * (p >> 8)\n",
    "    X1 = (X1 * 3038) >> 16\n",
    "    X2 = (-7357 * p) >> 16\n",
    "    p = p + ((X1 + X2 + 3791) >> 4)\n",
    "    \n",
    "    #pressures.append(p)\n",
    "    #print 'Pressure {0} kPa'.format(p/1000.0)\n",
    "\n",
    "columns = loadtxt(\"uncalibrated_integrated_altitude.csv\", delimiter=',', unpack=True)\n",
    "alt_time = columns[0]\n",
    "imualt   = columns[1]\n",
    "\n",
    "fig, ax1 = plt.subplots(figsize=(16,6))\n",
    "plt.title(r\"BMP180 Pressure Sensor Uncalibrated\")\n",
    "plt.ylabel(r\"Pressure [kPa]\")\n",
    "plt.xlabel(r\"Mission Elapsed Time [s]\")\n",
    "ax1.plot(timestamp, pressures, alpha=0.75, label=\"Pressure Sensor\")\n",
    "\n",
    "ax2 = ax1.twinx()\n",
    "ax2.set_ylabel(r\"Altitude [km]\")\n",
    "ax2.plot(alt_time, divide(imualt, 1000.0), 'k-', alpha=0.18, label=\"IMU Integrated Altitude\")\n",
    "ax2.grid(b=False)\n",
    "\n",
    "ax1.set_xlim([-5,42])\n",
    "ax2.set_xlim([-5,42])\n",
    "plt.legend()\n",
    "plt.show()"
   ]
  },
  {
   "cell_type": "markdown",
   "metadata": {},
   "source": [
    "The Pressure goes down and the rocket goes up, as expected.\n",
    "\n",
    "## Temperature\n",
    "\n",
    "The BMP180 also has a temperature sensor onboard to do temperature corrections for pressure value. The temperature of the device appears to have been relativly constant during the vertical flight."
   ]
  },
  {
   "cell_type": "code",
   "execution_count": null,
   "metadata": {
    "collapsed": false
   },
   "outputs": [],
   "source": [
    "temps = []\n",
    "for i, t in enumerate(timestamp):\n",
    "    UT = int(temperature[i])\n",
    "\n",
    "    X1 = ((UT - cal_AC6) * cal_AC5) >> 15\n",
    "    X2 = (cal_MC << 11) / (X1 + cal_MD)\n",
    "    B5 = X1 + X2\n",
    "    temp = ((B5 + 8) >> 4) / 10.0\n",
    "    temps.append(temp)\n",
    "    \n",
    "          \n",
    "ax = plt.figure(figsize=(16,6))\n",
    "plt.title(r\"BMP180 Pressure Sensor Uncalibrated Temperature\")\n",
    "plt.ylabel(r\"Temperature [${}^0$C]\")\n",
    "plt.xlabel(r\"Mission Elapsed Time [s]\")\n",
    "plt.plot(timestamp, temps, alpha=0.75)\n",
    "ax.axes[0].set_xlim([-5,42])\n",
    "plt.show()"
   ]
  },
  {
   "cell_type": "markdown",
   "metadata": {},
   "source": [
    "## Altitude\n",
    "\n",
    "Even with a rough guess of the pressure, we can apply an exponetial atmosphere and see what altitude the pressure sensor suggests we went to:"
   ]
  },
  {
   "cell_type": "code",
   "execution_count": null,
   "metadata": {
    "collapsed": false
   },
   "outputs": [],
   "source": [
    "sealevel_pa=101.325\n",
    "altitudes = []\n",
    "for p in pressures:\n",
    "    altitude = 44330.0 * (1.0 - pow(p / sealevel_pa, (1.0/5.255)))\n",
    "    altitude = altitude - 1390\n",
    "    altitudes.append(altitude)\n",
    "\n",
    "    \n",
    "ax = plt.figure(figsize=(16,6))\n",
    "plt.title(r\"BMP180 Pressure Sensor Uncalibrated Altitude (Exponental Atmosphere, No Temperature Correction)\")\n",
    "plt.ylabel(r\"Altitude AGL [km]\")\n",
    "plt.xlabel(r\"Mission Elapsed Time [s]\")\n",
    "plt.plot(timestamp, divide(altitudes, 1000.0), alpha=0.75, label=\"Pressure Sensor\")\n",
    "plt.plot(alt_time, divide(imualt, 1000.0), alpha=0.5, label=\"IMU Integrated Altitude\")\n",
    "ax.axes[0].set_xlim([-5,42])\n",
    "#ax.axes[0].set_ylim([200,0])\n",
    "plt.legend()\n",
    "plt.show()"
   ]
  },
  {
   "cell_type": "markdown",
   "metadata": {},
   "source": [
    "The large diversion suggests a need for calibration. We will compare this result to other sensors on the flight later in this paper."
   ]
  },
  {
   "cell_type": "markdown",
   "metadata": {},
   "source": []
  }
 ],
 "metadata": {
  "kernelspec": {
   "display_name": "Python 2",
   "language": "python",
   "name": "python2"
  },
  "language_info": {
   "codemirror_mode": {
    "name": "ipython",
    "version": 2
   },
   "file_extension": ".py",
   "mimetype": "text/x-python",
   "name": "python",
   "nbconvert_exporter": "python",
   "pygments_lexer": "ipython2",
   "version": "2.7.10+"
  }
 },
 "nbformat": 4,
 "nbformat_minor": 0
}
