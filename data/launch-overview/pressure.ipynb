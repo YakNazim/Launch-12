{
 "cells": [
  {
   "cell_type": "markdown",
   "metadata": {},
   "source": [
    "# Pressure Data\n",
    "\n",
    "We can look at the raw pressure data from the BMP180 seonsor, with only a naïve correction to local pressure-altitude of the launch site:"
   ]
  },
  {
   "cell_type": "code",
   "execution_count": null,
   "metadata": {
    "collapsed": false
   },
   "outputs": [],
   "source": [
    "from numpy import loadtxt, array, subtract, divide, multiply, median, std, var\n",
    "import matplotlib.pyplot as plt\n",
    "%matplotlib inline\n",
    "from IPython.display import set_matplotlib_formats\n",
    "set_matplotlib_formats('png', 'pdf')\n",
    "import launch"
   ]
  },
  {
   "cell_type": "code",
   "execution_count": null,
   "metadata": {
    "collapsed": false
   },
   "outputs": [],
   "source": [
    "alt_time, imualt = launch.cached_altitude()\n",
    "\n",
    "fig, ax1 = plt.subplots(figsize=(16,6))\n",
    "plt.title(r\"BMP180 Pressure Sensor Uncalibrated\")\n",
    "plt.ylabel(r\"Pressure [kPa]\")\n",
    "plt.xlabel(r\"Mission Elapsed Time [s]\")\n",
    "\n",
    "ax1.plot(launch.bmp1.time, launch.bmp1.pressure, alpha=0.75, label=\"Pressure Sensor\")\n",
    "\n",
    "ax2 = ax1.twinx()\n",
    "ax2.set_ylabel(r\"Altitude [km]\")\n",
    "ax2.plot(alt_time, divide(imualt, 1000.0), 'k-', alpha=0.18, label=\"IMU Integrated Altitude\")\n",
    "ax2.grid(b=False)\n",
    "\n",
    "plt.xlim([-5,42])\n",
    "ax2.legend(loc=1)\n",
    "ax1.legend(loc=3)\n",
    "plt.show()"
   ]
  },
  {
   "cell_type": "markdown",
   "metadata": {},
   "source": [
    "The Pressure goes down and the rocket goes up, as expected.\n",
    "\n",
    "## Temperature\n",
    "\n",
    "The BMP180 also has a temperature sensor onboard to do temperature corrections for pressure value. The temperature of the device appears to have been relativly constant during the vertical flight."
   ]
  },
  {
   "cell_type": "code",
   "execution_count": null,
   "metadata": {
    "collapsed": false
   },
   "outputs": [],
   "source": [
    "fig, ax1 = plt.subplots(figsize=(16,6))\n",
    "plt.title(r\"BMP180 Pressure Sensor Uncalibrated Temperature\")\n",
    "plt.ylabel(r\"Temperature [${}^0$C]\")\n",
    "plt.xlabel(r\"Mission Elapsed Time [s]\")\n",
    "\n",
    "plt.plot(launch.bmp1.time, launch.bmp1.temperature, alpha=0.75)\n",
    "\n",
    "plt.xlim([-5,42])\n",
    "plt.show()"
   ]
  },
  {
   "cell_type": "markdown",
   "metadata": {},
   "source": [
    "## Altitude\n",
    "\n",
    "Even with a rough guess of the pressure, we can apply an exponetial atmosphere and see what altitude the pressure sensor suggests we went to:"
   ]
  },
  {
   "cell_type": "code",
   "execution_count": null,
   "metadata": {
    "collapsed": false
   },
   "outputs": [],
   "source": [
    "sealevel_pa=101.325\n",
    "altitudes = []\n",
    "for p in launch.bmp1.pressure:\n",
    "    altitude = 44330.0 * (1.0 - pow(p / sealevel_pa, (1.0/5.255)))\n",
    "    altitude = altitude - 1390\n",
    "    altitudes.append(altitude)\n",
    "\n",
    "fig, ax1 = plt.subplots(figsize=(16,6))\n",
    "plt.title(r\"BMP180 Pressure Sensor Uncalibrated Altitude (Exponental Atmosphere, No Temperature Correction)\")\n",
    "plt.ylabel(r\"Altitude AGL [km]\")\n",
    "plt.xlabel(r\"Mission Elapsed Time [s]\")\n",
    "\n",
    "plt.plot(launch.bmp1.time, divide(altitudes, 1000.0), alpha=0.75, label=\"Pressure Sensor\")\n",
    "plt.plot(alt_time, divide(imualt, 1000.0), alpha=0.5, label=\"IMU Integrated Altitude\")\n",
    "\n",
    "plt.xlim([-5,42])\n",
    "ax1.legend(loc=1)\n",
    "plt.show()"
   ]
  },
  {
   "cell_type": "markdown",
   "metadata": {},
   "source": [
    "The large diversion suggests a need for calibration."
   ]
  },
  {
   "cell_type": "markdown",
   "metadata": {},
   "source": []
  }
 ],
 "metadata": {
  "kernelspec": {
   "display_name": "Python 2",
   "language": "python",
   "name": "python2"
  },
  "language_info": {
   "codemirror_mode": {
    "name": "ipython",
    "version": 2
   },
   "file_extension": ".py",
   "mimetype": "text/x-python",
   "name": "python",
   "nbconvert_exporter": "python",
   "pygments_lexer": "ipython2",
   "version": "2.7.10+"
  }
 },
 "nbformat": 4,
 "nbformat_minor": 0
}
