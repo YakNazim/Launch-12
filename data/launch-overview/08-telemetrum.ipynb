{
 "cells": [
  {
   "cell_type": "markdown",
   "metadata": {},
   "source": [
    "# TeleMetrum\n",
    "\n",
    "The [TeleMetrum](http://altusmetrum.org/TeleMetrum/) is a recording dual-deploy altimeter for high power model rocketry with integrated GPS and telemetry link.\n",
    "\n",
    "We use this as our primary recovery device. It has a GPS tracker and a single-axis acceleromer and a pressure sensor.\n",
    "\n",
    "We can compare the accelerometer in the TeleMetrum to the ADIS in the primary flight computer. They have excellent agreement."
   ]
  },
  {
   "cell_type": "code",
   "execution_count": null,
   "metadata": {
    "collapsed": false
   },
   "outputs": [],
   "source": [
    "from numpy import loadtxt, array, subtract, divide, multiply, median, std, var, argmax, add, average\n",
    "import matplotlib.pyplot as plt\n",
    "%matplotlib inline\n",
    "from IPython.display import set_matplotlib_formats\n",
    "set_matplotlib_formats('png', 'pdf')\n",
    "\n",
    "g_0 = 9.80665\n",
    "\n",
    "columns = loadtxt(\"../TeleMetrum/2015-07-19-serial-1372-flight-0002.csv\",\n",
    "                  delimiter=',', comments='#', usecols=(4,5,6,10,11,13,16,21,22,25), unpack=True)\n",
    "\n",
    "tele_time = columns[0]\n",
    "clock = columns[1]\n",
    "rssi = columns[2]\n",
    "tele_accel = columns[3]\n",
    "tele_pressure = columns[4]\n",
    "tele_alt = columns[5]\n",
    "tele_temp = columns[6]\n",
    "tele_gpslock, tele_gpsnsat = columns[7:9]\n",
    "tele_gpsalt = columns[9]\n",
    "\n",
    "columns = loadtxt(\"../fc-data/ADIS.csv\", delimiter=',', unpack=True)\n",
    "\n",
    "seqn = columns[0]\n",
    "timestamp = columns[1]\n",
    "acc_x, acc_y, acc_z = columns[6:9]\n",
    "\n",
    "t_0 = 117853569585227\n",
    "\n",
    "timestamp = subtract(timestamp, t_0)\n",
    "timestamp = divide(timestamp, 1e9)\n",
    "\n",
    "# lightly lowpass\n",
    "from scipy.signal import butter, lfilter, freqz\n",
    "\n",
    "# Filter requirements.\n",
    "order = 6\n",
    "fs = 819.2       # sample rate, Hz\n",
    "cutoff = 20   # desired cutoff frequency of the filter, Hz\n",
    "nyq = 0.5 * fs\n",
    "normal_cutoff = cutoff / nyq\n",
    "\n",
    "# Get the filter coefficients so we can check its frequency response.\n",
    "b, a = butter(order, normal_cutoff, btype='low', analog=False)\n",
    "acc_x_filter = lfilter(b, a, acc_x)"
   ]
  },
  {
   "cell_type": "code",
   "execution_count": null,
   "metadata": {
    "collapsed": false
   },
   "outputs": [],
   "source": [
    "fig, ax1 = plt.subplots(figsize=(16,6))\n",
    "plt.title(r\"TeleMetrum Accelerometer\")\n",
    "plt.ylabel(r\"Acceleration [m/s${}^2$]\")\n",
    "plt.xlabel(r\"Mission Elapsed Time [s]\")\n",
    "\n",
    "plt.plot(timestamp[200:-200], subtract(acc_x_filter[200:-200], g_0), 'k-', alpha=0.3, lw=2.0, label=\"ADIS IMU Vertical Accel\")\n",
    "plt.plot(tele_time, tele_accel, alpha=0.75, label=\"TeleMetrum Vertical Acceleration\")\n",
    "\n",
    "plt.xlim([-5,42])\n",
    "plt.ylim([-50,130])\n",
    "ax1.legend(loc=1)\n",
    "plt.show()"
   ]
  },
  {
   "cell_type": "markdown",
   "metadata": {},
   "source": [
    "## Pressure"
   ]
  },
  {
   "cell_type": "code",
   "execution_count": null,
   "metadata": {
    "collapsed": false
   },
   "outputs": [],
   "source": [
    "fig, ax1 = plt.subplots(figsize=(16,6))\n",
    "plt.title(r\"TeleMetrum Pressure\")\n",
    "plt.ylabel(r\"Pressure [kPa]\")\n",
    "plt.xlabel(r\"Mission Elapsed Time [s]\")\n",
    "\n",
    "plt.plot(tele_time, divide(tele_pressure, 1000.0), alpha=0.75, label=\"TeleMetrum Pressure\")\n",
    "\n",
    "plt.xlim([-5,42])\n",
    "#plt.ylim([-50,130])\n",
    "#ax1.legend(loc=1)\n",
    "plt.show()"
   ]
  },
  {
   "cell_type": "markdown",
   "metadata": {},
   "source": [
    "## Temperature"
   ]
  },
  {
   "cell_type": "code",
   "execution_count": null,
   "metadata": {
    "collapsed": false
   },
   "outputs": [],
   "source": [
    "fig, ax1 = plt.subplots(figsize=(16,6))\n",
    "plt.title(r\"TeleMetrum Temperature\")\n",
    "plt.ylabel(r\"Temperature [${}^0$C]\")\n",
    "plt.xlabel(r\"Mission Elapsed Time [s]\")\n",
    "\n",
    "plt.plot(tele_time, tele_temp, alpha=0.75, label=\"TeleMetrum Temperature\")\n",
    "\n",
    "plt.xlim([-5,42])\n",
    "#plt.ylim([-50,130])\n",
    "#ax1.legend(loc=1)\n",
    "plt.show()"
   ]
  },
  {
   "cell_type": "markdown",
   "metadata": {},
   "source": [
    "## Altitude"
   ]
  },
  {
   "cell_type": "code",
   "execution_count": null,
   "metadata": {
    "collapsed": false
   },
   "outputs": [],
   "source": [
    "print \"\"\"The maximum altitude recorded by the pressure sensor on the Telemetrum was %0.0f meters.\n",
    "\"\"\" % (max(tele_alt))"
   ]
  },
  {
   "cell_type": "code",
   "execution_count": null,
   "metadata": {
    "collapsed": false
   },
   "outputs": [],
   "source": [
    "fig, ax1 = plt.subplots(figsize=(16,6))\n",
    "plt.title(r\"TeleMetrum Pressure Altitude AGL\")\n",
    "plt.ylabel(r\"Altitude AGL [km]\")\n",
    "plt.xlabel(r\"Mission Elapsed Time [s]\")\n",
    "\n",
    "plt.plot(tele_time, divide(tele_alt, 1000.0), alpha=0.75, label=\"TeleMetrum Altitude\")\n",
    "\n",
    "plt.xlim([-5,42])\n",
    "#plt.ylim([-50,130])\n",
    "#ax1.legend(loc=1)\n",
    "plt.show()"
   ]
  },
  {
   "cell_type": "markdown",
   "metadata": {},
   "source": [
    "## GPS\n",
    "\n",
    "The GPS was not locked on the launch rail. Interestingly our COTS GPS and SDR GPS were also having a very difficult time tracking sats while on the rail. We appear to have very bad GPS reception near the (large and metal) launch rail.\n",
    "\n",
    "The TeleMetrum reported lock and at least 5 stat for the whole flight once it got in the air."
   ]
  },
  {
   "cell_type": "code",
   "execution_count": null,
   "metadata": {
    "collapsed": false
   },
   "outputs": [],
   "source": [
    "fig, ax1 = plt.subplots(figsize=(16,6))\n",
    "plt.title(r\"TeleMetrum Reported GPS State\")\n",
    "plt.ylabel(r\"#\")\n",
    "plt.xlabel(r\"Mission Elapsed Time [s]\")\n",
    "\n",
    "plt.plot(tele_time, tele_gpsnsat, alpha=0.75, label=\"Number of Sats\")\n",
    "plt.plot(tele_time, tele_gpslock, alpha=0.75, label=\"Lock State\")\n",
    "\n",
    "\n",
    "plt.xlim([-5,42])\n",
    "plt.ylim([0,8])\n",
    "ax1.legend(loc=1)\n",
    "plt.show()"
   ]
  },
  {
   "cell_type": "markdown",
   "metadata": {},
   "source": [
    "Much like the Venus 8 COTS GPS, the Telemetrum was unable to figure out that the rocket was in the air. It reported an altitude of the 0 meters for the entire flight, even after being on parachutes."
   ]
  },
  {
   "cell_type": "code",
   "execution_count": null,
   "metadata": {
    "collapsed": false
   },
   "outputs": [],
   "source": [
    "fig, ax1 = plt.subplots(figsize=(16,6))\n",
    "plt.title(r\"TeleMetrum Reported GPS Altitude\")\n",
    "plt.ylabel(r\"Altitude AGL [km]\")\n",
    "plt.xlabel(r\"Mission Elapsed Time [s]\")\n",
    "\n",
    "plt.plot(tele_time, divide(subtract(tele_gpsalt, 1390), 1000.0), alpha=0.75, label=\"\")\n",
    "\n",
    "\n",
    "#plt.xlim([-5,42])\n",
    "plt.ylim([0,6])\n",
    "#ax1.legend(loc=1)\n",
    "plt.show()"
   ]
  },
  {
   "cell_type": "markdown",
   "metadata": {},
   "source": []
  }
 ],
 "metadata": {
  "kernelspec": {
   "display_name": "Python 2",
   "language": "python",
   "name": "python2"
  },
  "language_info": {
   "codemirror_mode": {
    "name": "ipython",
    "version": 2
   },
   "file_extension": ".py",
   "mimetype": "text/x-python",
   "name": "python",
   "nbconvert_exporter": "python",
   "pygments_lexer": "ipython2",
   "version": "2.7.10+"
  }
 },
 "nbformat": 4,
 "nbformat_minor": 0
}
