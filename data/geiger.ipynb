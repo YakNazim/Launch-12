{
 "cells": [
  {
   "cell_type": "markdown",
   "metadata": {},
   "source": [
    "# Geiger Analysis\n",
    "### Can we detect a differential in radiation counts during flight above ground level?\n",
    "\n",
    "We had a Geiger counter mounted in the payload bay. \n",
    "* Geiger Board Webpage: https://www.sparkfun.com/products/11345\n",
    "* PSAS Github Repo: https://github.com/psas/GeigerLog"
   ]
  },
  {
   "cell_type": "code",
   "execution_count": null,
   "metadata": {
    "collapsed": false
   },
   "outputs": [],
   "source": [
    "%matplotlib inline\n",
    "from __future__ import print_function\n",
    "import numpy\n",
    "import scipy.stats\n",
    "import matplotlib.pyplot as plt\n",
    "from matplotlib import rcParams\n",
    "rcParams.update({'font.size': 16})\n",
    "\n",
    "t_0             = 117853569585227   # see RHNU.csv\n",
    "\n",
    "# Find closest GPS Timestamp to Launch Detect above and convert to UTC time\n",
    "# Reference: http://www.labsat.co.uk/index.php/en/gps-time-calculator\n",
    "V8A8_first_data_after_t_0 = 117853610593444  # GPS TIME->UTC TIME: 1854,65831.54->19 July 2015  18:17:11 UTC\n",
    "MSL_0           = 1386\n",
    "\n",
    "# Find Matching Geiger Log Timestamp to GPS Launch Detect Timestamp\n",
    "# 2015-07-19 18:17:11,1437329831,2\n",
    "geig_t_0        = 1437329831\n",
    "\n",
    "#Find closest FC Timestamp for Apogee\n",
    "#t_apog         = 117885061671546\n",
    "#t_apog         = t_apog - t_0\n",
    "#t_apog         = t_apog / 1e9\n",
    "\n",
    "# Get GPS vectors\n",
    "v8_columns     = numpy.loadtxt(\"geigeranalysis/V8A8.csv\", delimiter=',', unpack=True)\n",
    "\n",
    "v8_timestamp   = v8_columns[1]\n",
    "MSL_Altitude   = v8_columns[9]\n",
    "\n",
    "v8_timestamp   = numpy.subtract(v8_timestamp, t_0)\n",
    "v8_timestamp   = numpy.divide(v8_timestamp, 1e9)\n",
    "\n",
    "# Get Geiger vectors\n",
    "geig_columns   = numpy.loadtxt(\"geigeranalysis/geiger-4.csv\", delimiter=',', unpack=True,usecols=[1,2])\n",
    "\n",
    "geig_timestamp = geig_columns[0]\n",
    "geig_counts    = geig_columns[1]\n",
    "\n",
    "geig_timestamp = numpy.subtract(geig_timestamp, geig_t_0 )\n",
    "\n",
    "# Rocket starts on the ground\n",
    "AGL_Altitude   = numpy.subtract(MSL_Altitude, MSL_0)\n",
    "AGL_A_max      = numpy.amax(AGL_Altitude)\n",
    "\n",
    "# Ok, now we have some datapoints below ground...that is silly.\n",
    "for a in range(len(AGL_Altitude)):\n",
    "    if AGL_Altitude[a]<0:\n",
    "        AGL_Altitude[a]=0\n",
    "\n",
    "# Create an accumulation vector\n",
    "geig_accumulated = []\n",
    "geig_accumulated.append(geig_counts[0])\n",
    "for t in range(len(geig_timestamp)):\n",
    "    if t>0:\n",
    "        geig_accumulated.append(geig_accumulated[t-1] + geig_counts[t])\n"
   ]
  },
  {
   "cell_type": "code",
   "execution_count": null,
   "metadata": {
    "collapsed": false
   },
   "outputs": [],
   "source": [
    "\n",
    "# Geiger Instantaneous Plot\n",
    "fig, ax1 = plt.subplots(figsize=(16,9))\n",
    "ax1.plot(v8_timestamp, AGL_Altitude , 'b-')\n",
    "ax1.set_xlabel('time (s)')\n",
    "\n",
    "ax1.set_ylabel('AGL Altitude', color='b')\n",
    "for tl in ax1.get_yticklabels():\n",
    "    tl.set_color('b')\n",
    "\n",
    "ax2 = ax1.twinx()\n",
    "ax2.plot(geig_timestamp, geig_counts, 'r-')\n",
    "ax2.set_ylabel('Geiger', color='r')\n",
    "for tl in ax2.get_yticklabels():\n",
    "    tl.set_color('r')\n",
    "plt.suptitle('AGL Altitude [m] vs. Geiger [Hits]')\n",
    "plt.show()\n",
    "\n",
    "# Geiger Accumulation Plot\n",
    "fig, ax1 = plt.subplots(figsize=(16,9))\n",
    "ax1.plot(v8_timestamp, AGL_Altitude , 'b-')\n",
    "ax1.set_xlabel('time (s)')\n",
    "\n",
    "ax1.set_ylabel('AGL Altitude', color='b')\n",
    "for tl in ax1.get_yticklabels():\n",
    "    tl.set_color('b')\n",
    "    \n",
    "ax2 = ax1.twinx()\n",
    "ax2.plot(geig_timestamp, geig_accumulated, 'r-')\n",
    "ax2.set_ylabel('Geiger Total', color='r')\n",
    "for tl in ax2.get_yticklabels():\n",
    "    tl.set_color('r')\n",
    "plt.suptitle('AGL Altitude [m] vs. Geiger Total [Hits]')\n",
    "plt.show()    "
   ]
  },
  {
   "cell_type": "code",
   "execution_count": null,
   "metadata": {
    "collapsed": false
   },
   "outputs": [],
   "source": [
    "# Correlation\n",
    "\n",
    "def AGL_interp(secs):\n",
    "    index_high = numpy.searchsorted(v8_timestamp,secs)\n",
    "    if(index_high > 0):\n",
    "        index_low  = index_high -1\n",
    "    else:\n",
    "        raise\n",
    "    return((AGL_Altitude[index_high]+AGL_Altitude[index_low])/2)\n",
    "    \n",
    "# Create a new AGL Altitude vector, resampled by the Geiger Time Indices\n",
    "AGL_resamp  = []\n",
    "for t in range(len(geig_timestamp)):\n",
    "    if(geig_timestamp[t]<0):\n",
    "        AGL_resamp.append(0)\n",
    "    else:\n",
    "        AGL_resamp.append(AGL_interp(geig_timestamp[t]))\n",
    "\n",
    "if len(geig_counts) != len(AGL_resamp):\n",
    "    raise\n",
    "    \n",
    "corr, p = scipy.stats.pearsonr(geig_counts, AGL_resamp)\n",
    "\n",
    "print(\"The correlation (altitude vs. radiation) is: \" + str(round(corr * 100, 3)) + \"% with a p-value of: \" + str(round(p,3)) + \" \",end=\"\")\n",
    "\n",
    "if(p < 0.05):\n",
    "    print(\"(Significant)\")\n"
   ]
  },
  {
   "cell_type": "markdown",
   "metadata": {},
   "source": [
    "## Comments\n",
    "\n",
    "* This is a very weak positive correlation at 10%...\n",
    "\n",
    "## Questions\n",
    "\n",
    "* Does the measurement change when the Nosecone disconnects in that the ground level and apogee measurements are not consistent?\n"
   ]
  },
  {
   "cell_type": "markdown",
   "metadata": {},
   "source": []
  }
 ],
 "metadata": {
  "kernelspec": {
   "display_name": "Python 2",
   "language": "python",
   "name": "python2"
  },
  "language_info": {
   "codemirror_mode": {
    "name": "ipython",
    "version": 2
   },
   "file_extension": ".py",
   "mimetype": "text/x-python",
   "name": "python",
   "nbconvert_exporter": "python",
   "pygments_lexer": "ipython2",
   "version": "2.7.10+"
  }
 },
 "nbformat": 4,
 "nbformat_minor": 0
}
