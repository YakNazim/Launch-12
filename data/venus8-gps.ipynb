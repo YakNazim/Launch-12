{
 "cells": [
  {
   "cell_type": "markdown",
   "metadata": {},
   "source": [
    "# Venus8 GPS\n",
    "\n",
    "We had a comercial off the shelf GPS chip ride along with us in the rocket. Regular GPS recievers never do well on rockets, let's see what this one did."
   ]
  },
  {
   "cell_type": "code",
   "execution_count": null,
   "metadata": {
    "collapsed": false
   },
   "outputs": [],
   "source": [
    "%matplotlib inline\n",
    "import numpy\n",
    "import utils\n",
    "from matplotlib import rcParams\n",
    "rcParams.update({'font.size': 16})\n",
    "\n",
    "t_0 = 117853569585227\n",
    "\n",
    "columns = numpy.loadtxt(\"expanded/V8A8.csv\", delimiter=',', unpack=True)\n",
    "\n",
    "seqn = columns[0]\n",
    "timestamp = columns[1]\n",
    "fix_mode = columns[2]\n",
    "num_sv = columns[3]\n",
    "\n",
    "timestamp = numpy.subtract(timestamp, t_0)\n",
    "timestamp = numpy.divide(timestamp, 1e9)\n",
    "\n",
    "\n",
    "fig = utils.Plot(\"Launch 12 Venus8 GPS Fix\", \"Time [s]\", r\"N\")\n",
    "fig.plot(timestamp, num_sv, label=\"Number of SVs in sky\")\n",
    "fig.plot(timestamp, fix_mode, color=utils.blue, lw=3, label=\"Fix Mode\")\n",
    "fig.note('3D+DGPS', (1.3, 3), (50,20))\n",
    "fig.note('3D', (14, 2), (1, 20))\n",
    "fig.ylim([0,12])\n",
    "fig.legend(2)\n",
    "fig.show()"
   ]
  },
  {
   "cell_type": "code",
   "execution_count": null,
   "metadata": {
    "collapsed": false
   },
   "outputs": [],
   "source": []
  },
  {
   "cell_type": "markdown",
   "metadata": {},
   "source": []
  }
 ],
 "metadata": {
  "kernelspec": {
   "display_name": "Python 2",
   "language": "python",
   "name": "python2"
  },
  "language_info": {
   "codemirror_mode": {
    "name": "ipython",
    "version": 2
   },
   "file_extension": ".py",
   "mimetype": "text/x-python",
   "name": "python",
   "nbconvert_exporter": "python",
   "pygments_lexer": "ipython2",
   "version": "2.7.10+"
  }
 },
 "nbformat": 4,
 "nbformat_minor": 0
}
