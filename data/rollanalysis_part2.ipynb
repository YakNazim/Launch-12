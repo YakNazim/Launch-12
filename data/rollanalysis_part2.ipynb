{
 "cells": [
  {
   "cell_type": "markdown",
   "metadata": {},
   "source": [
    "# Roll control analysis Pt. 2 \n",
    "*by William Harrington*  \n",
    "*Portland State Aerospace Society*  \n",
    "\n",
    "In the last notebook, I looked at the velocity and altitude curves plus the angular position, angular velocity, and angular acceleration of the Launch-12 flight data.\n",
    "\n",
    "I found that the average angular acceleration during the flight was 0. This means that the roll control system was successful in keeping the roll rate (angular velocity) relatively constant. Therefore, the derivative of this data (angular acceleration) would be 0 on average. From this I have concluded that in order to keep the roll rate to 0, as was originally intended, the PID loop should of been designed for controlling roll angle and not roll rate.\n",
    "                 \n",
    "This time I want to take a look at the output of the PID loop so I can examine how the control loop was performing during flight. The control loop was designed to use the output of the PID to estimate an angular position for the canards so they can create a torque that opposes the one being imposed on the rocket. The angular position is clamped to +/- 15 degrees. A request for that angular position is then sent to the Flight Computer. It is important to note that there is a latency here that we assume is around 3ms. The code that simulates this returns to us the current angular position of the canards, and every 3ms accepts the angular position that was sent. The current angular position of the canards tells us the angular acceleration being caused by the canards.\n",
    "\n",
    "I will need the accelerometer and gyro readings to do this. I can use the accelerometer readings to get altitude and velocity which are important parameters in our mathematical model that describes the angular acceleration caused by the 4 canards. Then I can use the gyro readings by feeding them to the PID loop and observing the output.  \n",
    "\n",
    "The gyro readings are noisy so I will need to eliminate some of that noise to make sense of what is going on. A lowpass filter should do the trick.  "
   ]
  },
  {
   "cell_type": "code",
   "execution_count": null,
   "metadata": {
    "collapsed": false
   },
   "outputs": [],
   "source": [
    "# lets get everything set up\n",
    "%matplotlib inline\n",
    "from matplotlib import rcParams\n",
    "rcParams.update({'font.size': 16})\n",
    "\n",
    "# stuff from before, supports math stuff and plotting\n",
    "import numpy as np\n",
    "import matplotlib.pyplot as plt\n",
    "from scipy.integrate import simps\n",
    "from scipy.signal import savgol_filter\n",
    "\n",
    "# other stuff we will need for this code\n",
    "# code from the roll-control repository\n",
    "from PIDcontroller import PIDController  # PID controller, modified to return output from each stage\n",
    "import lv2  # launch vehicle behavior\n",
    "\n",
    "# extract data\n",
    "columns = np.loadtxt('fc-data/ADIS.csv', delimiter=',', unpack=True)\n",
    "\n",
    "time = columns[1]  # time\n",
    "gyro_x = columns[3]  # x-axis gyro readings\n",
    "acc_x = columns[6]  # x-axis accelerometer readings\n",
    "\n",
    "columns = np.loadtxt(\"fc-data/ROLL.csv\", delimiter=',', unpack=True)\n",
    "\n",
    "# actual fin angle during flight\n",
    "fin_angle = columns[2]\n",
    "\n",
    "# umblicial disconnect event\n",
    "t_0 = 117853569585227\n",
    "\n",
    "# element wise subtraction\n",
    "time = np.subtract(time, t_0)\n",
    "\n",
    "# convert from ns to s\n",
    "time = np.divide(time, 1e9)\n",
    "\n",
    "# get rid of unwanted readings\n",
    "time = time[3650:28125]\n",
    "gyro_x = gyro_x[3650:28125]\n",
    "acc_x = acc_x[3650:28125]\n",
    "fin_angle = fin_angle[3650:28125]\n",
    "\n",
    "# subtract gravity from accelerometer readings\n",
    "acc_x = np.subtract(acc_x, 9.8)\n",
    "\n",
    "# filter gyro readings\n",
    "acc_x_savgol = savgol_filter(acc_x, 201, 2)\n",
    "acc_x = acc_x_savgol\n",
    "\n",
    "# filter gyro readings\n",
    "gyro_x_savgol = savgol_filter(gyro_x, 201, 2)\n",
    "\n",
    "# now lets look at the result\n",
    "fig, ax10 = plt.subplots(nrows=1, sharex=True, figsize=(16,9))\n",
    "ax10.plot(time, gyro_x, color='grey', alpha=.15, label='Unfiltered')\n",
    "ax10.plot(time, gyro_x_savgol, color='red', label='Filtered')\n",
    "ax10.set_title('Filtered gyro readings')\n",
    "ax10.set_ylabel('Angular velocity [$deg/s$]')\n",
    "ax10.set_xlabel('Time [$s$]')\n",
    "ax10.legend(loc=1, fontsize='x-small')\n",
    "plt.show()"
   ]
  },
  {
   "cell_type": "code",
   "execution_count": null,
   "metadata": {
    "collapsed": false
   },
   "outputs": [],
   "source": [
    "# differentiate gyro readings to get angular acceleration\n",
    "ang_acc = np.diff(gyro_x)\n",
    "ang_acc *= 819.2  # sample rate\n",
    "\n",
    "# filter derivative of gyro readings\n",
    "angacc_savgol = savgol_filter(gyro_x, 201, 2, deriv=1, delta=1/819.2)\n",
    "\n",
    "# now lets look at the result\n",
    "fig, ax11 = plt.subplots(nrows=1, sharex=True, figsize=(16,9))\n",
    "ax11.plot(time[1:], ang_acc, color='grey', alpha=.15, label='Unfiltered')\n",
    "ax11.plot(time, angacc_savgol, color='red', label='Filtered')\n",
    "ax11.set_title('Angular acceleration of the rocket')\n",
    "ax11.set_ylabel('Angular acceleration [$deg/s^2$]')\n",
    "ax11.set_xlabel('Time [$s$]')\n",
    "ax11.set_ylim([-500, 500])\n",
    "ax11.legend(loc=1, fontsize='x-small')\n",
    "plt.show()\n",
    "\n",
    "ang_acc_np = np.array(ang_acc)\n",
    "\n",
    "print 'Average filtered angular acceleration: %3.2f deg/s^2' % ang_acc_np.mean()"
   ]
  },
  {
   "cell_type": "code",
   "execution_count": null,
   "metadata": {
    "collapsed": false
   },
   "outputs": [],
   "source": [
    "# use those sexy filtered readings\n",
    "gyro_x = gyro_x_savgol\n",
    "ang_acc = angacc_savgol\n",
    "\n",
    "# get velocity from integrating accelerometer\n",
    "velocity = []\n",
    "for i in range(len(acc_x)):\n",
    "    # avoid integration error\n",
    "    if(i > 0):\n",
    "        # use simpsons rule on the samples to integrate\n",
    "        velocity.append(simps(acc_x[:i], time[:i]))\n",
    "        \n",
    "# get position from integrating velocity\n",
    "position = []\n",
    "for j in range(len(velocity)):\n",
    "    # avoid integration error\n",
    "    if(j > 0):\n",
    "        # use simpsons rule on the samples to integrate\n",
    "        position.append(simps(velocity[:j], time[:j]))\n",
    "\n",
    "# now that we've got that\n",
    "# time to set up PID controller\n",
    "pid = PIDController(p=5, i=.01, d=0)\n",
    "pid.setTarget(0.0)\n",
    "\n",
    "# for storing predicted canard angle\n",
    "canard_angle = []\n",
    "\n",
    "# for storing PID outputs\n",
    "pids = []\n",
    "prop_stage = []\n",
    "integral_stage = []\n",
    "derivative_stage = []\n",
    "\n",
    "# for storing angular acc caused by canard\n",
    "canard_ang_acc = []  # predicted\n",
    "actual_canard_ang_acc = []  # actual\n",
    "\n",
    "# iterating over len(time)-2, since we lose 2 samples in the double integration\n",
    "for i in range(len(time[2:])):\n",
    "    \n",
    "    # step PID by feeding in the gyro readings from the flight\n",
    "    correction = pid.step(gyro_x[i])\n",
    "    \n",
    "    # store correction\n",
    "    # had to flip signs to match data... why??\n",
    "    pids.append(-1*correction[0])  # total\n",
    "    prop_stage.append(-1*correction[1])  # proportional\n",
    "    integral_stage.append(-1*correction[2])  # integral\n",
    "    derivative_stage.append(-1*correction[3])  # derivative\n",
    "    \n",
    "    \n",
    "    # estimate alpha from current position, velocity, time\n",
    "    # had to flip signs to match data... why??\n",
    "    a = -1*lv2.estimate_alpha(correction[0], position[i], velocity[i], time[i])    \n",
    "    \n",
    "    # request current canard angle\n",
    "    # accepts manuever every 3ms\n",
    "    a = lv2.servo(a, time[i])\n",
    "    \n",
    "    # compute angular acceleration being caused by canard\n",
    "    aa = lv2.angular_accel(a, position[i], velocity[i], time[i])\n",
    "    actual_aa = lv2.angular_accel(fin_angle[i], position[i], velocity[i], time[i])\n",
    "    \n",
    "    # angular position of canard \n",
    "    # and canard angular acceleration\n",
    "    canard_angle.append(a)\n",
    "    canard_ang_acc.append(aa)\n",
    "    actual_canard_ang_acc.append(actual_aa)"
   ]
  },
  {
   "cell_type": "markdown",
   "metadata": {},
   "source": [
    "### Canard Angle\n",
    "\n",
    "Whew ok now that's over lets look at what the hell this thing was doing!\n",
    "\n",
    "First lets glance at the canard angle.  "
   ]
  },
  {
   "cell_type": "code",
   "execution_count": null,
   "metadata": {
    "collapsed": false
   },
   "outputs": [],
   "source": [
    "# filter canard angle readings\n",
    "fin_angle = savgol_filter(fin_angle, 201, 2)\n",
    "\n",
    "fig, ax0 = plt.subplots(nrows=1, sharex=True, figsize=(16,9))\n",
    "ax0.plot(time[2:], canard_angle, label='Predicted')\n",
    "ax0.plot(time[2:], fin_angle[2:], label='Actual')\n",
    "ax0.set_title('Canard angle')\n",
    "ax0.set_ylabel('Angle [$degrees$]')\n",
    "ax0.set_xlabel('Time [$s$]')\n",
    "ax0.set_xlim([0, 30])\n",
    "ax0.set_ylim([-16, 16])\n",
    "ax0.legend(loc=1, fontsize='x-small')\n",
    "plt.show()"
   ]
  },
  {
   "cell_type": "markdown",
   "metadata": {},
   "source": [
    "Seems as though our algorithm worked as intended.\n",
    "### PID controller output\n",
    "Now lets look at the outputs given by the PID controller. We didn't save the output of the PID controller during the flight so there is nothing for us to reference here. However, it is reasonable to believe that feeding the gyro readings through the PID controller code would put out the same thing."
   ]
  },
  {
   "cell_type": "code",
   "execution_count": null,
   "metadata": {
    "collapsed": false
   },
   "outputs": [],
   "source": [
    "fig, ax1 = plt.subplots(nrows=1, sharex=True, figsize=(16,9))\n",
    "\n",
    "ax1.plot(time[2:], pids, label='Total')\n",
    "ax1.plot(time[2:], prop_stage, label='Proportional')\n",
    "ax1.plot(time[2:], integral_stage, label='Integral')\n",
    "ax1.plot(time[2:], derivative_stage, label='Derivative')\n",
    "ax1.legend(loc=3, fontsize='x-small')\n",
    "ax1.set_title('Output of PID stages')\n",
    "ax1.set_ylabel('Output')\n",
    "ax1.set_xlabel('Time [$s$]')\n",
    "\n",
    "plt.show()\n",
    "\n",
    "prop_stage = np.array(prop_stage)\n",
    "integral_stage = np.array(integral_stage)\n",
    "\n",
    "# note: we didn't use a derivative stage so it is always 0\n",
    "\n",
    "print 'Average output of proportional stage: %3.2f' % prop_stage.mean()\n",
    "print 'Average output of integral stage: %3.2f' % integral_stage.mean()"
   ]
  },
  {
   "cell_type": "markdown",
   "metadata": {},
   "source": [
    "As expected, the proportional stage does the heavy lifting, making up the majority of the total output of the PID. The integrator quickly saturates and remains constant for the rest of the flight.\n"
   ]
  },
  {
   "cell_type": "markdown",
   "metadata": {},
   "source": [
    "### Deriving unknown angular acceleration\n",
    "\n",
    "The total angular acceleration on the rocket has to be equal to the sum of angular acceleration caused by the canards and some unknown angular acceleration being imposed on the rocket.  \n",
    "i.e. ang_acc = canard_ang_acc + unknown_ang_acc  \n",
    "&nbsp;&nbsp;&nbsp;&nbsp;&nbsp;unknown_ang_acc = ang_acc - canard_ang_acc"
   ]
  },
  {
   "cell_type": "code",
   "execution_count": null,
   "metadata": {
    "collapsed": false
   },
   "outputs": [],
   "source": [
    "# filter data\n",
    "actual_canard_ang_acc = savgol_filter(actual_canard_ang_acc, 201, 2)\n",
    "\n",
    "# array for storing result\n",
    "unknown_ang_acc = []   \n",
    "\n",
    "# iterate over time\n",
    "for q in range(len(time[2:])):\n",
    "    unknown_ang_acc.append(ang_acc[q]-actual_canard_ang_acc[q])\n",
    "\n",
    "fig, ax3 = plt.subplots(nrows=1, sharex=True, figsize=(16,9))\n",
    "\n",
    "ax3.plot(time, ang_acc, label='total')\n",
    "ax3.plot(time[2:], actual_canard_ang_acc, label='canard')\n",
    "ax3.plot(time[2:], unknown_ang_acc, label='unknown')\n",
    "ax3.set_title('Derived unknown Angular acceleration')\n",
    "ax3.set_ylabel('Angular acceleration [$deg/s^2$]')\n",
    "ax3.set_xlabel('Time [$s$]')\n",
    "ax3.legend(loc=1, fontsize='x-small')\n",
    "\n",
    "plt.show()"
   ]
  },
  {
   "cell_type": "markdown",
   "metadata": {},
   "source": [
    "### Angular acceleration caused by canards"
   ]
  },
  {
   "cell_type": "code",
   "execution_count": null,
   "metadata": {
    "collapsed": false
   },
   "outputs": [],
   "source": [
    "fig, ax2 = plt.subplots(nrows=1, sharex=True, figsize=(16,9))\n",
    "\n",
    "ax2.plot(time[2:], canard_ang_acc, label='predicted')\n",
    "ax2.plot(time[2:], actual_canard_ang_acc, label='actual')\n",
    "ax2.set_title('Angular acceleration caused by canards')\n",
    "ax2.set_ylabel('Angular acceleration [$deg/s^2$]')\n",
    "ax2.set_xlabel('Time [$s$]')\n",
    "ax2.legend(loc=1, fontsize='x-small')\n",
    "\n",
    "plt.show()"
   ]
  },
  {
   "cell_type": "markdown",
   "metadata": {},
   "source": [
    "### How does the unknown angular acceleration scale with velocity?\n",
    "\n",
    "One of the assumptions made in simulating flight was that the unknown angular acceleration scales with velocity because the damping force of a spring oscillator is normally linearly dependent on velocity.\n",
    "\n",
    "Let's see how they compare."
   ]
  },
  {
   "cell_type": "code",
   "execution_count": null,
   "metadata": {
    "collapsed": false
   },
   "outputs": [],
   "source": [
    "fig, ax4 = plt.subplots(nrows=1, sharex=True, figsize=(16,9))\n",
    "\n",
    "ax4.plot(time[2:], velocity[1:], label='z-axis velocity (m/s)')\n",
    "ax4.plot(time[2:], np.multiply(unknown_ang_acc, -1), label='unknown ang acc (deg/s^2)')\n",
    "ax4.legend(loc=2, fontsize='x-small')\n",
    "ax4.set_title('Velocity compared to angular acceleration')\n",
    "ax4.set_xlabel('Time [$s$]')\n",
    "\n",
    "plt.show()"
   ]
  },
  {
   "cell_type": "markdown",
   "metadata": {},
   "source": [
    "Doesn't seem to scale at all. This is absolutely the worst case scenario that we envisioned."
   ]
  }
 ],
 "metadata": {
  "kernelspec": {
   "display_name": "Python 2",
   "language": "python",
   "name": "python2"
  },
  "language_info": {
   "codemirror_mode": {
    "name": "ipython",
    "version": 2
   },
   "file_extension": ".py",
   "mimetype": "text/x-python",
   "name": "python",
   "nbconvert_exporter": "python",
   "pygments_lexer": "ipython2",
   "version": "2.7.10+"
  }
 },
 "nbformat": 4,
 "nbformat_minor": 0
}
