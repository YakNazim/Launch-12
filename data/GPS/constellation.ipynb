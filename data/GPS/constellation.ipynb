{
 "cells": [
  {
   "cell_type": "markdown",
   "metadata": {},
   "source": [
    "# GPS Constellation\n",
    "\n",
    "From the day of the launch we look at the ephemeris and plot the sky positions of the GPS sats that we should be using in our solutions."
   ]
  },
  {
   "cell_type": "code",
   "execution_count": 1,
   "metadata": {
    "collapsed": false
   },
   "outputs": [
    {
     "name": "stdout",
     "output_type": "stream",
     "text": [
      "Satellites in the sky during launch:\n",
      "SV:  1   25.5° el    71.5° az\n",
      "SV:  4   14.5° el    46.1° az\n",
      "SV:  7   11.1° el   130.3° az\n",
      "SV: 11   24.3° el    56.3° az\n",
      "SV: 13   46.5° el   244.3° az\n",
      "SV: 15   32.1° el   287.7° az\n",
      "SV: 17   62.3° el   189.2° az\n",
      "SV: 24    5.7° el   310.0° az\n",
      "SV: 28   65.0° el    41.4° az\n",
      "SV: 30   42.6° el   127.9° az\n"
     ]
    }
   ],
   "source": [
    "import gpstk\n",
    "\n",
    "# Launch Time\n",
    "t = gpstk.CivilTime(2015, 7, 19, 18, 17, 11)\n",
    "t.setTimeSystem(gpstk.TimeSystem('GPS'))\n",
    "\n",
    "# Read high quality Ephemeris\n",
    "eph = gpstk.SP3EphemerisStore()\n",
    "eph.loadSP3File('igs18540.sp3')\n",
    "\n",
    "# Launch Site Coords. for sky solution\n",
    "launchsite = gpstk.geodetic(latitude=43.79613280, longitude=-120.65175340, height=1389.360)\n",
    "\n",
    "print \"Satellites in the sky during launch:\"\n",
    "    \n",
    "# For each SV find elevation\n",
    "for i in range(1, 33):\n",
    "    prn = gpstk.RinexSatID(i, gpstk.SatID.systemGPS)\n",
    "    # Some satellites are not in the file, so we skip them\n",
    "    try:\n",
    "        xvt = eph.getXvt(prn, t.toCommonTime())\n",
    "    except:\n",
    "        continue\n",
    "\n",
    "    # gpstk.Position object for satellite at time requested \n",
    "    satellite_position = gpstk.Position(xvt.getPos())\n",
    "    elevation = launchsite.elevation(satellite_position)\n",
    "    azimuth = launchsite.azimuth(satellite_position)\n",
    "\n",
    "    if elevation > 5:\n",
    "        print \"SV: %2d\"%i, \"%6.1f° el\"%elevation, \"%7.1f° az\"%azimuth"
   ]
  },
  {
   "cell_type": "markdown",
   "metadata": {
    "collapsed": true
   },
   "source": []
  }
 ],
 "metadata": {
  "kernelspec": {
   "display_name": "Python 2",
   "language": "python",
   "name": "python2"
  },
  "language_info": {
   "codemirror_mode": {
    "name": "ipython",
    "version": 2
   },
   "file_extension": ".py",
   "mimetype": "text/x-python",
   "name": "python",
   "nbconvert_exporter": "python",
   "pygments_lexer": "ipython2",
   "version": "2.7.10+"
  }
 },
 "nbformat": 4,
 "nbformat_minor": 0
}
