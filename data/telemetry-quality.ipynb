{
 "cells": [
  {
   "cell_type": "markdown",
   "metadata": {},
   "source": [
    "# Telemetry Quailty\n",
    "\n",
    "How did our WiFi cope with launch? Each packet sent to the ground has a squence number that we can track. Mising or late numbers means missing or out or order packets. How did we do?"
   ]
  },
  {
   "cell_type": "code",
   "execution_count": null,
   "metadata": {
    "collapsed": false
   },
   "outputs": [],
   "source": [
    "%matplotlib inline\n",
    "import numpy\n",
    "import utils\n",
    "from matplotlib import rcParams\n",
    "rcParams.update({'font.size': 16})\n",
    "\n",
    "columns = numpy.loadtxt(\"expanded/SEQN.csv\", delimiter=',', unpack=True)\n",
    "\n",
    "seqn = columns[0]\n",
    "timestamp = columns[1]\n",
    "\n",
    "missed_packets = []\n",
    "for i in range(1, len(seqn)):\n",
    "    if (seqn[i] - seqn[i-1]) != 1:\n",
    "        for m in range(int(seqn[i-1])+1, int(seqn[i])):\n",
    "            missed_packets.append(m)\n",
    "            \n",
    "print \"We recieved\", len(seqn), \"packets during ascent.\"\n",
    "print \"During that period we missed\", len(missed_packets), \"packets.\"\n",
    "print \"So we only lost %0.1f%% of transmited packets during ascent!\" % (len(missed_packets)/float(len(seqn)+len(missed_packets))*100)"
   ]
  },
  {
   "cell_type": "markdown",
   "metadata": {},
   "source": []
  }
 ],
 "metadata": {
  "kernelspec": {
   "display_name": "Python 2",
   "language": "python",
   "name": "python2"
  },
  "language_info": {
   "codemirror_mode": {
    "name": "ipython",
    "version": 2
   },
   "file_extension": ".py",
   "mimetype": "text/x-python",
   "name": "python",
   "nbconvert_exporter": "python",
   "pygments_lexer": "ipython2",
   "version": "2.7.10+"
  }
 },
 "nbformat": 4,
 "nbformat_minor": 0
}
