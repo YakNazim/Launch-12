{
 "metadata": {
  "name": "",
  "signature": "sha256:dde882cfde643e54812ad268c9e063a41a5ae62e355ac322208bf74b985a6f9a"
 },
 "nbformat": 3,
 "nbformat_minor": 0,
 "worksheets": [
  {
   "cells": [
    {
     "cell_type": "markdown",
     "metadata": {},
     "source": [
      "# Telemetry Quailty\n",
      "\n",
      "How did our WiFi cope with launch? Each packet sent to the ground has a squence number that we can track. Mising or late numbers means missing or out or order packets. How did we do?"
     ]
    },
    {
     "cell_type": "code",
     "collapsed": false,
     "input": [
      "%matplotlib inline\n",
      "import numpy\n",
      "import utils\n",
      "from matplotlib import rcParams\n",
      "rcParams.update({'font.size': 16})\n",
      "\n",
      "columns = numpy.loadtxt(\"expanded/SEQN.csv\", delimiter=',', unpack=True)\n",
      "\n",
      "seqn = columns[0]\n",
      "timestamp = columns[1]\n",
      "\n",
      "missed_packets = []\n",
      "for i in range(1, len(seqn)):\n",
      "    if (seqn[i] - seqn[i-1]) != 1:\n",
      "        for m in range(int(seqn[i-1])+1, int(seqn[i])):\n",
      "            missed_packets.append(m)\n",
      "            \n",
      "print \"We recieved\", len(seqn), \"packets during ascent\"\n",
      "print \"We missed\", len(missed_packets), \"packets during ascent\"\n",
      "print \"So we lost %0.1f%% of transmited packets during ascent\" % (len(missed_packets)/float(len(seqn)+len(missed_packets))*100)"
     ],
     "language": "python",
     "metadata": {},
     "outputs": [
      {
       "output_type": "stream",
       "stream": "stdout",
       "text": [
        "We recieved 2988 packets during ascent\n",
        "We missed 13 packets during ascent\n",
        "So we lost 0.4% of transmited packets during ascent\n"
       ]
      }
     ],
     "prompt_number": 28
    },
    {
     "cell_type": "markdown",
     "metadata": {},
     "source": []
    }
   ],
   "metadata": {}
  }
 ]
}