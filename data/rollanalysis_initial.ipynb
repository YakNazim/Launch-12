{
 "cells": [
  {
   "cell_type": "markdown",
   "metadata": {},
   "source": [
    "# Initial Roll Control Analysis  \n",
    "*by William Harrington*  \n",
    "*Portland State Aerospace Society*  \n",
    "\n",
    "The purpose of this notebook is to take a detailed look at how the roll control system worked during Launch-12.  \n",
    "  \n",
    "We will start by extracting data from the csv files.\n"
   ]
  },
  {
   "cell_type": "code",
   "execution_count": null,
   "metadata": {
    "collapsed": false
   },
   "outputs": [],
   "source": [
    "# lets get everything set up\n",
    "\n",
    "%matplotlib inline\n",
    "\n",
    "from matplotlib import rcParams\n",
    "rcParams.update({'font.size': 16})\n",
    "\n",
    "# import numpy for numerical stuff\n",
    "import numpy as np\n",
    "\n",
    "# import matplotlib.pyplot for plotting stuff\n",
    "import matplotlib.pyplot as plt\n",
    "\n",
    "# import scipy.integrate.simps for integration\n",
    "from scipy.integrate import simps\n",
    "\n",
    "# import the sexy Savitzky-Golay filter method\n",
    "from scipy.signal import savgol_filter\n",
    "\n",
    "# get the ADIS data\n",
    "columns = np.loadtxt('fc-data/ADIS.csv', delimiter=',', unpack=True)\n",
    "\n",
    "# sort the data\n",
    "\n",
    "# time\n",
    "time = columns[1]\n",
    "\n",
    "# gyro readings\n",
    "gyro_x = columns[3]\n",
    "gyro_y = columns[4]\n",
    "gyro_z = columns[5]\n",
    "\n",
    "# acceleromter readings\n",
    "acc_x = columns[6]\n",
    "acc_y = columns[7]\n",
    "acc_z = columns[8]\n",
    "\n",
    "# magnetometer readings\n",
    "magn_x = columns[9]\n",
    "magn_y = columns[10]\n",
    "magn_z = columns[11]"
   ]
  },
  {
   "cell_type": "markdown",
   "metadata": {},
   "source": [
    "### Accelerometer analysis\n",
    "\n",
    "Now that we've got everything imported and data extracted from the csv files we can start analyzing it.  \n",
    "  \n",
    "Let's take a look at the accelerometer readings first as the velocity of the rocket and altitude of the rocket play an essential part in roll control authority."
   ]
  },
  {
   "cell_type": "code",
   "execution_count": null,
   "metadata": {
    "collapsed": false
   },
   "outputs": [],
   "source": [
    "# umblicial disconnect event\n",
    "t_0 = 117853569585227\n",
    "\n",
    "# element wise subtraction\n",
    "time = np.subtract(time, t_0)\n",
    "\n",
    "# convert from ns to s\n",
    "time = np.divide(time, 1e9)\n",
    "\n",
    "# get rid of readings we don't care about\n",
    "# launch begins around index 3650\n",
    "# apogee occurs around index 28125\n",
    "# I manually figured this out prior to writing this notebook..\n",
    "\n",
    "time = time[3650:28125]\n",
    "acc_x = acc_x[3650:28125]\n",
    "\n",
    "# subtract gravity from x-axis accelerometer readings\n",
    "acc_x = np.subtract(acc_x, 9.8)\n",
    "\n",
    "# filter gyro readings\n",
    "acc_x_savgol = savgol_filter(acc_x, 201, 2)\n",
    "acc_x = acc_x_savgol\n",
    "\n",
    "# array for holding first integration results\n",
    "velocity = []\n",
    "\n",
    "for i in range(len(acc_x)):\n",
    "    # avoid integration error\n",
    "    if(i > 0):\n",
    "      # use simpsons rule on the samples to integrate\n",
    "      velocity.append(simps(acc_x[:i], time[:i]))\n",
    "        \n",
    "# array for holding second integration results\n",
    "position = []\n",
    "\n",
    "for j in range(len(velocity)):\n",
    "    # avoid integration error\n",
    "    if(j > 0):\n",
    "        # use simpsons rule on the samples to integrate\n",
    "        position.append(simps(velocity[:j], time[:j]))\n",
    "\n",
    "velocity = np.array(velocity)\n",
    "position = np.array(position)\n",
    "\n",
    "print 'Max velocity: %3.2f m/s' % velocity.max()\n",
    "print 'Peak altitude: %3.2f m' % position.max()"
   ]
  },
  {
   "cell_type": "code",
   "execution_count": null,
   "metadata": {
    "collapsed": false
   },
   "outputs": [],
   "source": [
    "# now let's observe the curves\n",
    "fig, (ax0, ax1, ax2) = plt.subplots(nrows=3, sharex=True, figsize=(16,9))\n",
    "\n",
    "#plt.figure(figsize=(16,9))\n",
    "ax0.plot(time, acc_x)\n",
    "ax0.set_title('Acceleration')\n",
    "ax0.set_ylabel('Acceleration [$m/s^2$]')\n",
    "\n",
    "ax1.plot(time[1:], velocity)\n",
    "ax1.set_title('Velocity')\n",
    "ax1.set_ylabel('Velocity [$m/s$]')\n",
    "\n",
    "ax2.plot(time[2:], position)\n",
    "ax2.set_title('Altitude')\n",
    "ax2.set_ylabel('Altitude [$m$]')\n",
    "ax2.set_xlabel('Time [$s$]')\n",
    "\n",
    "plt.show()"
   ]
  },
  {
   "cell_type": "markdown",
   "metadata": {},
   "source": [
    "These are the expected curves for velocity and altitude. This is a good sign as these played a crucial role in the simulation that was used for designing the roll control algorithm.  "
   ]
  },
  {
   "cell_type": "markdown",
   "metadata": {},
   "source": [
    "### Gyro analysis\n",
    "\n",
    "Now let's take a look at the gyro readings and see how the roll control algorithm performed.  "
   ]
  },
  {
   "cell_type": "code",
   "execution_count": null,
   "metadata": {
    "collapsed": false
   },
   "outputs": [],
   "source": [
    "# get rid of readings we don't care about\n",
    "gyro_x = gyro_x[3650:28125]\n",
    "\n",
    "# filter gyro readings\n",
    "gyro_x_savgol = savgol_filter(gyro_x, 201, 2)\n",
    "\n",
    "# filter derivative of gyro readings\n",
    "angacc_savgol = savgol_filter(gyro_x, 201, 2, deriv=1, delta=1/819.2)\n",
    "\n",
    "# use those sexy filtered readings\n",
    "gyro_x = gyro_x_savgol\n",
    "ang_acc = angacc_savgol\n",
    "\n",
    "# integrate to get angular position\n",
    "ang = []\n",
    "for k in range(len(gyro_x)):\n",
    "    if(k > 0):\n",
    "        ang.append(simps(gyro_x[:k], time[:k]))\n",
    "\n",
    "# now let's observe the curves\n",
    "fig2, (ax3, ax4, ax5) = plt.subplots(nrows=3, sharex=True, figsize=(16,9))\n",
    "\n",
    "ax3.plot(time[1:], ang)\n",
    "ax3.set_title('Angular position')\n",
    "ax3.set_ylabel('Angle [$deg$]')\n",
    "\n",
    "ax4.plot(time, gyro_x)\n",
    "ax4.set_title('Roll rate')\n",
    "ax4.set_ylabel('Angular vel. [$deg/s$]')\n",
    "\n",
    "ax5.plot(time, ang_acc)\n",
    "ax5.set_title('Angular acceleration')\n",
    "ax5.set_ylabel('Angular accel. [$deg/s^2$]')\n",
    "ax5.set_ylim([-500, 500])\n",
    "\n",
    "plt.show()\n",
    "\n",
    "ang = np.array(ang)\n",
    "gyro_x = np.array(gyro_x)\n",
    "ang_acc = np.array(ang_acc)\n",
    "\n",
    "print 'Max angular position: %3.2f degrees' % ang.max()\n",
    "print 'Total revolutions: %3.2f' % (ang.max()/360.0)\n",
    "\n",
    "print 'Max angular velocity: %3.2f deg/s' % gyro_x.max()\n",
    "print 'Max angular acceleration: %3.2f deg/s^2' % ang_acc.max()\n",
    "\n",
    "print 'Average angular velocity: %3.2f deg/s' % gyro_x.mean()\n",
    "print 'Average angular acceleration: %3.2f deg/s^2' % ang_acc.mean()"
   ]
  },
  {
   "cell_type": "markdown",
   "metadata": {},
   "source": [
    "  \n",
    "These are some interesting results. The roll control algorithm was designed to prevent any revolutions at all.  \n",
    "However, the rocket ended up spinning about 4 times according to this data.  \n",
    "Since the average angular acceleration is close to 0, it looks like the algorithm was successful in keepting the roll rate relatively constant through certain periods of the flight."
   ]
  }
 ],
 "metadata": {
  "kernelspec": {
   "display_name": "Python 2",
   "language": "python",
   "name": "python2"
  },
  "language_info": {
   "codemirror_mode": {
    "name": "ipython",
    "version": 2
   },
   "file_extension": ".py",
   "mimetype": "text/x-python",
   "name": "python",
   "nbconvert_exporter": "python",
   "pygments_lexer": "ipython2",
   "version": "2.7.10+"
  }
 },
 "nbformat": 4,
 "nbformat_minor": 0
}
